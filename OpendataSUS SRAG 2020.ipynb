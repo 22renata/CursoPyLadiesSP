{
 "cells": [
  {
   "cell_type": "markdown",
   "metadata": {},
   "source": [
    "#### Os dados, até a data do presente estudo, estão no https://opendatasus.saude.gov.br/dataset/bd-srag-2020\n",
    "#### O presente arquivo é de 2 de novembro. Atenção: a última barra no gráfico por semana é menor, pois a semana é incompleta! Note também que o crescimento é diferente por cidades.\n",
    "#### Disclaimer/Aviso Legal: Este notebook tem um fim única e exclusivamente didático, para alunos da FATEC, como uma introdução à Análise de Dados Públicos. Desse modo, está excluída a garantia ou responsabilidade de qualquer tipo, por exemplo, de precisão, confiabilidade, completude e atualidade das informações."
   ]
  },
  {
   "cell_type": "code",
   "execution_count": 1,
   "metadata": {},
   "outputs": [],
   "source": [
    "import pandas as pd\n",
    "low_memory=False\n",
    "%matplotlib inline\n",
    "pd.options.display.max_columns = 80\n",
    "pd.options.display.max_rows = 90"
   ]
  },
  {
   "cell_type": "code",
   "execution_count": 2,
   "metadata": {},
   "outputs": [],
   "source": [
    "filename = r'C:\\Users\\fmasa\\Downloads\\INFLUD-16-11-2020.csv'\n",
    "df = pd.read_csv(filename, delimiter=';', \n",
    "                 usecols='CS_RACA CS_ESCOL_N SEM_NOT DT_NOTIFIC SG_UF_NOT HISTO_VGM PAIS_VGM CARDIOPATI DIABETES OBESIDADE NU_IDADE_N ID_MUNICIP'.split(),\n",
    "                 encoding='ISO-8859-1',\n",
    "                 error_bad_lines=False)"
   ]
  },
  {
   "cell_type": "code",
   "execution_count": 3,
   "metadata": {},
   "outputs": [
    {
     "data": {
      "text/plain": [
       "(922955, 12)"
      ]
     },
     "execution_count": 3,
     "metadata": {},
     "output_type": "execute_result"
    }
   ],
   "source": [
    "df.shape"
   ]
  },
  {
   "cell_type": "code",
   "execution_count": 4,
   "metadata": {},
   "outputs": [
    {
     "name": "stdout",
     "output_type": "stream",
     "text": [
      "<class 'pandas.core.frame.DataFrame'>\n",
      "RangeIndex: 922955 entries, 0 to 922954\n",
      "Data columns (total 12 columns):\n",
      " #   Column      Non-Null Count   Dtype  \n",
      "---  ------      --------------   -----  \n",
      " 0   DT_NOTIFIC  922955 non-null  object \n",
      " 1   SEM_NOT     922955 non-null  int64  \n",
      " 2   SG_UF_NOT   922955 non-null  object \n",
      " 3   ID_MUNICIP  922955 non-null  object \n",
      " 4   NU_IDADE_N  922955 non-null  int64  \n",
      " 5   CS_RACA     864293 non-null  float64\n",
      " 6   CS_ESCOL_N  648522 non-null  float64\n",
      " 7   CARDIOPATI  475854 non-null  float64\n",
      " 8   DIABETES    445553 non-null  float64\n",
      " 9   OBESIDADE   382061 non-null  float64\n",
      " 10  HISTO_VGM   922955 non-null  int64  \n",
      " 11  PAIS_VGM    1232 non-null    object \n",
      "dtypes: float64(5), int64(3), object(4)\n",
      "memory usage: 70.4+ MB\n"
     ]
    }
   ],
   "source": [
    "df.info()"
   ]
  },
  {
   "cell_type": "code",
   "execution_count": 5,
   "metadata": {},
   "outputs": [
    {
     "name": "stdout",
     "output_type": "stream",
     "text": [
      "(0, 'DT_NOTIFIC')\n",
      "(1, 'SEM_NOT')\n",
      "(2, 'SG_UF_NOT')\n",
      "(3, 'ID_MUNICIP')\n",
      "(4, 'NU_IDADE_N')\n",
      "(5, 'CS_RACA')\n",
      "(6, 'CS_ESCOL_N')\n",
      "(7, 'CARDIOPATI')\n",
      "(8, 'DIABETES')\n",
      "(9, 'OBESIDADE')\n",
      "(10, 'HISTO_VGM')\n",
      "(11, 'PAIS_VGM')\n"
     ]
    }
   ],
   "source": [
    "for par in enumerate(df.columns): print (par)"
   ]
  },
  {
   "cell_type": "code",
   "execution_count": 6,
   "metadata": {},
   "outputs": [],
   "source": [
    "# Tabelas de microdados usam números, faço a correspondência desses números com seus significados\n",
    "troca_raça = {1:'Branca', 2:'Preta', 3:'Amarela',\n",
    "              4:'Parda', 5:'Indígena', 9:'Ignorado'}\n",
    "troca_escolaridade = {0:'Sem', 1:'Fund1', \n",
    "                      2:'Fund2', 3:'Médio',\n",
    "                      4:'Superior', \n",
    "                      5:'Não se aplica',\n",
    "                      9:'Ignorado'}"
   ]
  },
  {
   "cell_type": "code",
   "execution_count": 7,
   "metadata": {},
   "outputs": [],
   "source": [
    "df.loc[(df.CS_RACA.isnull()), 'CS_RACA'] = 9\n",
    "df['CS_RACA'] = df['CS_RACA'].apply(lambda x: troca_raça[x])\n",
    "df.loc[(df.CS_ESCOL_N.isnull()), 'CS_ESCOL_N'] = 9\n",
    "df['CS_ESCOL_N'] = df['CS_ESCOL_N'].apply(lambda x: troca_escolaridade[x])\n",
    "df.SEM_NOT = df.SEM_NOT.apply(pd.to_numeric, errors='coerce')\n",
    "df['DT_NOTIFIC'].dropna(inplace=True)"
   ]
  },
  {
   "cell_type": "code",
   "execution_count": 8,
   "metadata": {},
   "outputs": [
    {
     "data": {
      "text/html": [
       "<div>\n",
       "<style scoped>\n",
       "    .dataframe tbody tr th:only-of-type {\n",
       "        vertical-align: middle;\n",
       "    }\n",
       "\n",
       "    .dataframe tbody tr th {\n",
       "        vertical-align: top;\n",
       "    }\n",
       "\n",
       "    .dataframe thead th {\n",
       "        text-align: right;\n",
       "    }\n",
       "</style>\n",
       "<table border=\"1\" class=\"dataframe\">\n",
       "  <thead>\n",
       "    <tr style=\"text-align: right;\">\n",
       "      <th></th>\n",
       "      <th>DT_NOTIFIC</th>\n",
       "      <th>SEM_NOT</th>\n",
       "      <th>SG_UF_NOT</th>\n",
       "      <th>ID_MUNICIP</th>\n",
       "      <th>NU_IDADE_N</th>\n",
       "      <th>CS_RACA</th>\n",
       "      <th>CS_ESCOL_N</th>\n",
       "      <th>CARDIOPATI</th>\n",
       "      <th>DIABETES</th>\n",
       "      <th>OBESIDADE</th>\n",
       "      <th>HISTO_VGM</th>\n",
       "      <th>PAIS_VGM</th>\n",
       "    </tr>\n",
       "  </thead>\n",
       "  <tbody>\n",
       "    <tr>\n",
       "      <th>9656</th>\n",
       "      <td>03/07/2020</td>\n",
       "      <td>27</td>\n",
       "      <td>SP</td>\n",
       "      <td>SAO PAULO</td>\n",
       "      <td>78</td>\n",
       "      <td>Branca</td>\n",
       "      <td>Sem</td>\n",
       "      <td>1.0</td>\n",
       "      <td>1.0</td>\n",
       "      <td>1.0</td>\n",
       "      <td>2</td>\n",
       "      <td>NaN</td>\n",
       "    </tr>\n",
       "    <tr>\n",
       "      <th>733451</th>\n",
       "      <td>28/09/2020</td>\n",
       "      <td>40</td>\n",
       "      <td>SP</td>\n",
       "      <td>RIBEIRAO PRETO</td>\n",
       "      <td>78</td>\n",
       "      <td>Branca</td>\n",
       "      <td>Ignorado</td>\n",
       "      <td>1.0</td>\n",
       "      <td>2.0</td>\n",
       "      <td>2.0</td>\n",
       "      <td>2</td>\n",
       "      <td>NaN</td>\n",
       "    </tr>\n",
       "    <tr>\n",
       "      <th>346825</th>\n",
       "      <td>01/09/2020</td>\n",
       "      <td>36</td>\n",
       "      <td>MT</td>\n",
       "      <td>SORRISO</td>\n",
       "      <td>66</td>\n",
       "      <td>Branca</td>\n",
       "      <td>Ignorado</td>\n",
       "      <td>1.0</td>\n",
       "      <td>2.0</td>\n",
       "      <td>2.0</td>\n",
       "      <td>2</td>\n",
       "      <td>NaN</td>\n",
       "    </tr>\n",
       "    <tr>\n",
       "      <th>505853</th>\n",
       "      <td>23/04/2020</td>\n",
       "      <td>17</td>\n",
       "      <td>SP</td>\n",
       "      <td>SAO PAULO</td>\n",
       "      <td>64</td>\n",
       "      <td>Branca</td>\n",
       "      <td>Ignorado</td>\n",
       "      <td>NaN</td>\n",
       "      <td>NaN</td>\n",
       "      <td>NaN</td>\n",
       "      <td>9</td>\n",
       "      <td>NaN</td>\n",
       "    </tr>\n",
       "    <tr>\n",
       "      <th>802043</th>\n",
       "      <td>24/04/2020</td>\n",
       "      <td>17</td>\n",
       "      <td>SP</td>\n",
       "      <td>SAO BERNARDO DO CAMPO</td>\n",
       "      <td>66</td>\n",
       "      <td>Ignorado</td>\n",
       "      <td>Ignorado</td>\n",
       "      <td>NaN</td>\n",
       "      <td>NaN</td>\n",
       "      <td>NaN</td>\n",
       "      <td>2</td>\n",
       "      <td>NaN</td>\n",
       "    </tr>\n",
       "    <tr>\n",
       "      <th>411712</th>\n",
       "      <td>26/08/2020</td>\n",
       "      <td>35</td>\n",
       "      <td>AM</td>\n",
       "      <td>MANAUS</td>\n",
       "      <td>45</td>\n",
       "      <td>Branca</td>\n",
       "      <td>Médio</td>\n",
       "      <td>1.0</td>\n",
       "      <td>1.0</td>\n",
       "      <td>2.0</td>\n",
       "      <td>2</td>\n",
       "      <td>NaN</td>\n",
       "    </tr>\n",
       "    <tr>\n",
       "      <th>62685</th>\n",
       "      <td>25/06/2020</td>\n",
       "      <td>26</td>\n",
       "      <td>SP</td>\n",
       "      <td>SAO PAULO</td>\n",
       "      <td>59</td>\n",
       "      <td>Parda</td>\n",
       "      <td>Superior</td>\n",
       "      <td>NaN</td>\n",
       "      <td>NaN</td>\n",
       "      <td>NaN</td>\n",
       "      <td>2</td>\n",
       "      <td>NaN</td>\n",
       "    </tr>\n",
       "    <tr>\n",
       "      <th>426824</th>\n",
       "      <td>03/09/2020</td>\n",
       "      <td>36</td>\n",
       "      <td>SP</td>\n",
       "      <td>REGISTRO</td>\n",
       "      <td>89</td>\n",
       "      <td>Branca</td>\n",
       "      <td>Ignorado</td>\n",
       "      <td>NaN</td>\n",
       "      <td>NaN</td>\n",
       "      <td>NaN</td>\n",
       "      <td>2</td>\n",
       "      <td>NaN</td>\n",
       "    </tr>\n",
       "    <tr>\n",
       "      <th>506301</th>\n",
       "      <td>15/07/2020</td>\n",
       "      <td>29</td>\n",
       "      <td>SP</td>\n",
       "      <td>SAO PAULO</td>\n",
       "      <td>40</td>\n",
       "      <td>Ignorado</td>\n",
       "      <td>Ignorado</td>\n",
       "      <td>NaN</td>\n",
       "      <td>NaN</td>\n",
       "      <td>1.0</td>\n",
       "      <td>2</td>\n",
       "      <td>NaN</td>\n",
       "    </tr>\n",
       "    <tr>\n",
       "      <th>831229</th>\n",
       "      <td>22/04/2020</td>\n",
       "      <td>17</td>\n",
       "      <td>SP</td>\n",
       "      <td>COTIA</td>\n",
       "      <td>27</td>\n",
       "      <td>Parda</td>\n",
       "      <td>Médio</td>\n",
       "      <td>NaN</td>\n",
       "      <td>NaN</td>\n",
       "      <td>NaN</td>\n",
       "      <td>2</td>\n",
       "      <td>NaN</td>\n",
       "    </tr>\n",
       "  </tbody>\n",
       "</table>\n",
       "</div>"
      ],
      "text/plain": [
       "        DT_NOTIFIC  SEM_NOT SG_UF_NOT             ID_MUNICIP  NU_IDADE_N  \\\n",
       "9656    03/07/2020       27        SP              SAO PAULO          78   \n",
       "733451  28/09/2020       40        SP         RIBEIRAO PRETO          78   \n",
       "346825  01/09/2020       36        MT                SORRISO          66   \n",
       "505853  23/04/2020       17        SP              SAO PAULO          64   \n",
       "802043  24/04/2020       17        SP  SAO BERNARDO DO CAMPO          66   \n",
       "411712  26/08/2020       35        AM                 MANAUS          45   \n",
       "62685   25/06/2020       26        SP              SAO PAULO          59   \n",
       "426824  03/09/2020       36        SP               REGISTRO          89   \n",
       "506301  15/07/2020       29        SP              SAO PAULO          40   \n",
       "831229  22/04/2020       17        SP                  COTIA          27   \n",
       "\n",
       "         CS_RACA CS_ESCOL_N  CARDIOPATI  DIABETES  OBESIDADE  HISTO_VGM  \\\n",
       "9656      Branca        Sem         1.0       1.0        1.0          2   \n",
       "733451    Branca   Ignorado         1.0       2.0        2.0          2   \n",
       "346825    Branca   Ignorado         1.0       2.0        2.0          2   \n",
       "505853    Branca   Ignorado         NaN       NaN        NaN          9   \n",
       "802043  Ignorado   Ignorado         NaN       NaN        NaN          2   \n",
       "411712    Branca      Médio         1.0       1.0        2.0          2   \n",
       "62685      Parda   Superior         NaN       NaN        NaN          2   \n",
       "426824    Branca   Ignorado         NaN       NaN        NaN          2   \n",
       "506301  Ignorado   Ignorado         NaN       NaN        1.0          2   \n",
       "831229     Parda      Médio         NaN       NaN        NaN          2   \n",
       "\n",
       "       PAIS_VGM  \n",
       "9656        NaN  \n",
       "733451      NaN  \n",
       "346825      NaN  \n",
       "505853      NaN  \n",
       "802043      NaN  \n",
       "411712      NaN  \n",
       "62685       NaN  \n",
       "426824      NaN  \n",
       "506301      NaN  \n",
       "831229      NaN  "
      ]
     },
     "execution_count": 8,
     "metadata": {},
     "output_type": "execute_result"
    }
   ],
   "source": [
    "df.sample(10)"
   ]
  },
  {
   "cell_type": "code",
   "execution_count": 9,
   "metadata": {},
   "outputs": [
    {
     "data": {
      "text/plain": [
       "<AxesSubplot:ylabel='SG_UF_NOT'>"
      ]
     },
     "execution_count": 9,
     "metadata": {},
     "output_type": "execute_result"
    },
    {
     "data": {
      "image/png": "[encoded data removed]",
      "text/plain": [
       "<Figure size 432x288 with 1 Axes>"
      ]
     },
     "metadata": {
      "needs_background": "light"
     },
     "output_type": "display_data"
    }
   ],
   "source": [
    "df.groupby('SG_UF_NOT').size().sort_values().tail(5).plot(kind='barh')"
   ]
  },
  {
   "cell_type": "code",
   "execution_count": 10,
   "metadata": {},
   "outputs": [
    {
     "data": {
      "text/plain": [
       "<AxesSubplot:ylabel='CS_RACA'>"
      ]
     },
     "execution_count": 10,
     "metadata": {},
     "output_type": "execute_result"
    },
    {
     "data": {
      "image/png": "[encoded data removed]",
      "text/plain": [
       "<Figure size 432x288 with 1 Axes>"
      ]
     },
     "metadata": {
      "needs_background": "light"
     },
     "output_type": "display_data"
    }
   ],
   "source": [
    "df.groupby('CS_RACA').size().sort_values().plot(kind='barh')"
   ]
  },
  {
   "cell_type": "code",
   "execution_count": 11,
   "metadata": {},
   "outputs": [
    {
     "data": {
      "text/plain": [
       "CS_RACA\n",
       "Indígena      2653\n",
       "Amarela       9772\n",
       "Preta        45255\n",
       "Ignorado    211854\n",
       "Parda       316252\n",
       "Branca      337169\n",
       "dtype: int64"
      ]
     },
     "execution_count": 11,
     "metadata": {},
     "output_type": "execute_result"
    }
   ],
   "source": [
    "df.groupby('CS_RACA').size().sort_values()"
   ]
  },
  {
   "cell_type": "code",
   "execution_count": 12,
   "metadata": {},
   "outputs": [
    {
     "data": {
      "text/plain": [
       "CS_ESCOL_N\n",
       "Ignorado         578040\n",
       "Fund1             93906\n",
       "Médio             92628\n",
       "Fund2             57661\n",
       "Superior          42451\n",
       "Sem               29925\n",
       "Não se aplica     28344\n",
       "dtype: int64"
      ]
     },
     "execution_count": 12,
     "metadata": {},
     "output_type": "execute_result"
    }
   ],
   "source": [
    "df.groupby('CS_ESCOL_N').size().sort_values(ascending=False)"
   ]
  },
  {
   "cell_type": "code",
   "execution_count": 13,
   "metadata": {},
   "outputs": [
    {
     "data": {
      "text/plain": [
       "1    1174\n",
       "Name: HISTO_VGM, dtype: int64"
      ]
     },
     "execution_count": 13,
     "metadata": {},
     "output_type": "execute_result"
    }
   ],
   "source": [
    "df.query('HISTO_VGM == 1')['HISTO_VGM'].value_counts()"
   ]
  },
  {
   "cell_type": "code",
   "execution_count": 14,
   "metadata": {},
   "outputs": [
    {
     "data": {
      "text/plain": [
       "<AxesSubplot:xlabel='PAIS_VGM'>"
      ]
     },
     "execution_count": 14,
     "metadata": {},
     "output_type": "execute_result"
    },
    {
     "data": {
      "image/png": "[encoded data removed]",
      "text/plain": [
       "<Figure size 432x288 with 1 Axes>"
      ]
     },
     "metadata": {
      "needs_background": "light"
     },
     "output_type": "display_data"
    }
   ],
   "source": [
    "df.query('HISTO_VGM == 1 and PAIS_VGM != \"BRASIL\"').groupby('PAIS_VGM').size().sort_values(ascending=False).head(10).plot(kind='bar')\n"
   ]
  },
  {
   "cell_type": "code",
   "execution_count": 15,
   "metadata": {},
   "outputs": [
    {
     "data": {
      "text/plain": [
       "1.0    288292\n",
       "Name: CARDIOPATI, dtype: int64"
      ]
     },
     "execution_count": 15,
     "metadata": {},
     "output_type": "execute_result"
    }
   ],
   "source": [
    "df.query('CARDIOPATI == 1')['CARDIOPATI'].value_counts()"
   ]
  },
  {
   "cell_type": "code",
   "execution_count": 16,
   "metadata": {},
   "outputs": [
    {
     "data": {
      "text/plain": [
       "1.0    203826\n",
       "Name: DIABETES, dtype: int64"
      ]
     },
     "execution_count": 16,
     "metadata": {},
     "output_type": "execute_result"
    }
   ],
   "source": [
    "df.query('DIABETES == 1')['DIABETES'].value_counts()"
   ]
  },
  {
   "cell_type": "code",
   "execution_count": 17,
   "metadata": {},
   "outputs": [
    {
     "data": {
      "text/plain": [
       "1.0    38398\n",
       "Name: OBESIDADE, dtype: int64"
      ]
     },
     "execution_count": 17,
     "metadata": {},
     "output_type": "execute_result"
    }
   ],
   "source": [
    "df.query('OBESIDADE == 1')['OBESIDADE'].value_counts()"
   ]
  },
  {
   "cell_type": "code",
   "execution_count": 18,
   "metadata": {},
   "outputs": [
    {
     "data": {
      "text/plain": [
       "464410"
      ]
     },
     "execution_count": 18,
     "metadata": {},
     "output_type": "execute_result"
    }
   ],
   "source": [
    "df.query('NU_IDADE_N >= 60')['NU_IDADE_N'].count()"
   ]
  },
  {
   "cell_type": "code",
   "execution_count": 19,
   "metadata": {},
   "outputs": [
    {
     "data": {
      "text/plain": [
       "<AxesSubplot:xlabel='SEM_NOT'>"
      ]
     },
     "execution_count": 19,
     "metadata": {},
     "output_type": "execute_result"
    },
    {
     "data": {
      "image/png": "[encoded data removed]",
      "text/plain": [
       "<Figure size 432x288 with 1 Axes>"
      ]
     },
     "metadata": {
      "needs_background": "light"
     },
     "output_type": "display_data"
    }
   ],
   "source": [
    "df.groupby('SEM_NOT').size().plot(kind='bar')"
   ]
  },
  {
   "cell_type": "code",
   "execution_count": 20,
   "metadata": {},
   "outputs": [
    {
     "data": {
      "text/plain": [
       "<AxesSubplot:xlabel='SEM_NOT'>"
      ]
     },
     "execution_count": 20,
     "metadata": {},
     "output_type": "execute_result"
    },
    {
     "data": {
      "image/png": "[encoded data removed]",
      "text/plain": [
       "<Figure size 432x288 with 1 Axes>"
      ]
     },
     "metadata": {
      "needs_background": "light"
     },
     "output_type": "display_data"
    }
   ],
   "source": [
    "df.query('SG_UF_NOT == \"RJ\"').groupby('SEM_NOT').size().plot(kind='bar')"
   ]
  },
  {
   "cell_type": "code",
   "execution_count": 21,
   "metadata": {},
   "outputs": [
    {
     "data": {
      "text/plain": [
       "<AxesSubplot:xlabel='SEM_NOT'>"
      ]
     },
     "execution_count": 21,
     "metadata": {},
     "output_type": "execute_result"
    },
    {
     "data": {
      "image/png": "[encoded data removed]",
      "text/plain": [
       "<Figure size 432x288 with 1 Axes>"
      ]
     },
     "metadata": {
      "needs_background": "light"
     },
     "output_type": "display_data"
    }
   ],
   "source": [
    "df.query('ID_MUNICIP == \"RIO DE JANEIRO\"').groupby('SEM_NOT').size().plot(kind='bar')"
   ]
  },
  {
   "cell_type": "code",
   "execution_count": 22,
   "metadata": {},
   "outputs": [
    {
     "data": {
      "text/plain": [
       "<AxesSubplot:xlabel='SEM_NOT'>"
      ]
     },
     "execution_count": 22,
     "metadata": {},
     "output_type": "execute_result"
    },
    {
     "data": {
      "image/png": "[encoded data removed]",
      "text/plain": [
       "<Figure size 432x288 with 1 Axes>"
      ]
     },
     "metadata": {
      "needs_background": "light"
     },
     "output_type": "display_data"
    }
   ],
   "source": [
    "df.query('ID_MUNICIP == \"SAO JOSE DOS CAMPOS\"').groupby('SEM_NOT').size().plot(kind='bar')"
   ]
  },
  {
   "cell_type": "code",
   "execution_count": null,
   "metadata": {},
   "outputs": [],
   "source": []
  }
 ],
 "metadata": {
  "kernelspec": {
   "display_name": "Python 3",
   "language": "python",
   "name": "python3"
  },
  "language_info": {
   "codemirror_mode": {
    "name": "ipython",
    "version": 3
   },
   "file_extension": ".py",
   "mimetype": "text/x-python",
   "name": "python",
   "nbconvert_exporter": "python",
   "pygments_lexer": "ipython3",
   "version": "3.8.2"
  }
 },
 "nbformat": 4,
 "nbformat_minor": 4
}
