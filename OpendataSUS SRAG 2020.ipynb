{
 "cells": [
  {
   "cell_type": "markdown",
   "metadata": {},
   "source": [
    "#### Os dados, até a data do presente estudo, estão no https://opendatasus.saude.gov.br/dataset/bd-srag-2020\n",
    "#### O presente arquivo é de 12 de outubro. Atenção: a última barra no gráfico por semana é menor, pois a semana é incompleta! Note também que o crescimento é diferente por cidades.\n",
    "#### Disclaimer/Aviso Legal: Este notebook tem um fim única e exclusivamente didático, para alunos da FATEC, como uma introdução à Análise de Dados Públicos. Desse modo, está excluída a garantia ou responsabilidade de qualquer tipo, por exemplo, de precisão, confiabilidade, completude e atualidade das informações."
   ]
  },
  {
   "cell_type": "code",
   "execution_count": 1,
   "metadata": {},
   "outputs": [],
   "source": [
    "import pandas as pd\n",
    "low_memory=False\n",
    "%matplotlib inline\n",
    "pd.options.display.max_columns = 80\n",
    "pd.options.display.max_rows = 90"
   ]
  },
  {
   "cell_type": "code",
   "execution_count": 2,
   "metadata": {},
   "outputs": [
    {
     "name": "stderr",
     "output_type": "stream",
     "text": [
      "c:\\users\\fmasa\\appdata\\local\\programs\\python\\python38-32\\lib\\site-packages\\IPython\\core\\interactiveshell.py:3145: DtypeWarning: Columns (115) have mixed types.Specify dtype option on import or set low_memory=False.\n",
      "  has_raised = await self.run_ast_nodes(code_ast.body, cell_name,\n"
     ]
    }
   ],
   "source": [
    "filename = r'C:\\Users\\fmasa\\Downloads\\INFLUD-12-10-2020.csv'\n",
    "df = pd.read_csv(filename, delimiter=';', \n",
    "                 usecols='CS_RACA CS_ESCOL_N SEM_NOT DT_NOTIFIC SG_UF_NOT HISTO_VGM PAIS_VGM CARDIOPATI DIABETES OBESIDADE NU_IDADE_N ID_MUNICIP'.split(),\n",
    "                 encoding='ISO-8859-1',\n",
    "                 error_bad_lines=False)"
   ]
  },
  {
   "cell_type": "code",
   "execution_count": 3,
   "metadata": {},
   "outputs": [
    {
     "data": {
      "text/plain": [
       "(821787, 12)"
      ]
     },
     "execution_count": 3,
     "metadata": {},
     "output_type": "execute_result"
    }
   ],
   "source": [
    "df.shape"
   ]
  },
  {
   "cell_type": "code",
   "execution_count": 4,
   "metadata": {},
   "outputs": [
    {
     "name": "stdout",
     "output_type": "stream",
     "text": [
      "<class 'pandas.core.frame.DataFrame'>\n",
      "RangeIndex: 821787 entries, 0 to 821786\n",
      "Data columns (total 12 columns):\n",
      " #   Column      Non-Null Count   Dtype  \n",
      "---  ------      --------------   -----  \n",
      " 0   DT_NOTIFIC  821787 non-null  object \n",
      " 1   SEM_NOT     821787 non-null  int64  \n",
      " 2   SG_UF_NOT   821787 non-null  object \n",
      " 3   ID_MUNICIP  821787 non-null  object \n",
      " 4   NU_IDADE_N  821787 non-null  int64  \n",
      " 5   CS_RACA     760809 non-null  float64\n",
      " 6   CS_ESCOL_N  577915 non-null  float64\n",
      " 7   CARDIOPATI  420390 non-null  float64\n",
      " 8   DIABETES    393804 non-null  float64\n",
      " 9   OBESIDADE   336151 non-null  float64\n",
      " 10  HISTO_VGM   821787 non-null  int64  \n",
      " 11  PAIS_VGM    1185 non-null    object \n",
      "dtypes: float64(5), int64(3), object(4)\n",
      "memory usage: 62.7+ MB\n"
     ]
    }
   ],
   "source": [
    "df.info()"
   ]
  },
  {
   "cell_type": "code",
   "execution_count": 5,
   "metadata": {},
   "outputs": [
    {
     "name": "stdout",
     "output_type": "stream",
     "text": [
      "(0, 'DT_NOTIFIC')\n",
      "(1, 'SEM_NOT')\n",
      "(2, 'SG_UF_NOT')\n",
      "(3, 'ID_MUNICIP')\n",
      "(4, 'NU_IDADE_N')\n",
      "(5, 'CS_RACA')\n",
      "(6, 'CS_ESCOL_N')\n",
      "(7, 'CARDIOPATI')\n",
      "(8, 'DIABETES')\n",
      "(9, 'OBESIDADE')\n",
      "(10, 'HISTO_VGM')\n",
      "(11, 'PAIS_VGM')\n"
     ]
    }
   ],
   "source": [
    "for par in enumerate(df.columns): print (par)"
   ]
  },
  {
   "cell_type": "code",
   "execution_count": 6,
   "metadata": {},
   "outputs": [],
   "source": [
    "# Tabelas de microdados usam números, faço a correspondência desses números com seus significados\n",
    "troca_raça = {1:'Branca', 2:'Preta', 3:'Amarela',\n",
    "              4:'Parda', 5:'Indígena', 9:'Ignorado'}\n",
    "troca_escolaridade = {0:'Sem', 1:'Fund1', \n",
    "                      2:'Fund2', 3:'Médio',\n",
    "                      4:'Superior', \n",
    "                      5:'Não se aplica',\n",
    "                      9:'Ignorado'}"
   ]
  },
  {
   "cell_type": "code",
   "execution_count": 7,
   "metadata": {},
   "outputs": [],
   "source": [
    "df.loc[(df.CS_RACA.isnull()), 'CS_RACA'] = 9\n",
    "df['CS_RACA'] = df['CS_RACA'].apply(lambda x: troca_raça[x])\n",
    "df.loc[(df.CS_ESCOL_N.isnull()), 'CS_ESCOL_N'] = 9\n",
    "df['CS_ESCOL_N'] = df['CS_ESCOL_N'].apply(lambda x: troca_escolaridade[x])\n",
    "df.SEM_NOT = df.SEM_NOT.apply(pd.to_numeric, errors='coerce')\n",
    "df['DT_NOTIFIC'].dropna(inplace=True)"
   ]
  },
  {
   "cell_type": "code",
   "execution_count": 8,
   "metadata": {},
   "outputs": [
    {
     "data": {
      "text/html": [
       "<div>\n",
       "<style scoped>\n",
       "    .dataframe tbody tr th:only-of-type {\n",
       "        vertical-align: middle;\n",
       "    }\n",
       "\n",
       "    .dataframe tbody tr th {\n",
       "        vertical-align: top;\n",
       "    }\n",
       "\n",
       "    .dataframe thead th {\n",
       "        text-align: right;\n",
       "    }\n",
       "</style>\n",
       "<table border=\"1\" class=\"dataframe\">\n",
       "  <thead>\n",
       "    <tr style=\"text-align: right;\">\n",
       "      <th></th>\n",
       "      <th>DT_NOTIFIC</th>\n",
       "      <th>SEM_NOT</th>\n",
       "      <th>SG_UF_NOT</th>\n",
       "      <th>ID_MUNICIP</th>\n",
       "      <th>NU_IDADE_N</th>\n",
       "      <th>CS_RACA</th>\n",
       "      <th>CS_ESCOL_N</th>\n",
       "      <th>CARDIOPATI</th>\n",
       "      <th>DIABETES</th>\n",
       "      <th>OBESIDADE</th>\n",
       "      <th>HISTO_VGM</th>\n",
       "      <th>PAIS_VGM</th>\n",
       "    </tr>\n",
       "  </thead>\n",
       "  <tbody>\n",
       "    <tr>\n",
       "      <th>743339</th>\n",
       "      <td>18/04/2020</td>\n",
       "      <td>16</td>\n",
       "      <td>SP</td>\n",
       "      <td>SAO PAULO</td>\n",
       "      <td>58</td>\n",
       "      <td>Ignorado</td>\n",
       "      <td>Ignorado</td>\n",
       "      <td>NaN</td>\n",
       "      <td>NaN</td>\n",
       "      <td>NaN</td>\n",
       "      <td>2</td>\n",
       "      <td>NaN</td>\n",
       "    </tr>\n",
       "    <tr>\n",
       "      <th>204617</th>\n",
       "      <td>30/08/2020</td>\n",
       "      <td>36</td>\n",
       "      <td>SP</td>\n",
       "      <td>SAO BERNARDO DO CAMPO</td>\n",
       "      <td>69</td>\n",
       "      <td>Branca</td>\n",
       "      <td>Fund2</td>\n",
       "      <td>1.0</td>\n",
       "      <td>2.0</td>\n",
       "      <td>2.0</td>\n",
       "      <td>2</td>\n",
       "      <td>NaN</td>\n",
       "    </tr>\n",
       "    <tr>\n",
       "      <th>86571</th>\n",
       "      <td>12/06/2020</td>\n",
       "      <td>24</td>\n",
       "      <td>PI</td>\n",
       "      <td>TERESINA</td>\n",
       "      <td>57</td>\n",
       "      <td>Parda</td>\n",
       "      <td>Fund1</td>\n",
       "      <td>1.0</td>\n",
       "      <td>2.0</td>\n",
       "      <td>1.0</td>\n",
       "      <td>9</td>\n",
       "      <td>NaN</td>\n",
       "    </tr>\n",
       "    <tr>\n",
       "      <th>559055</th>\n",
       "      <td>24/08/2020</td>\n",
       "      <td>35</td>\n",
       "      <td>SP</td>\n",
       "      <td>SAO PAULO</td>\n",
       "      <td>66</td>\n",
       "      <td>Branca</td>\n",
       "      <td>Ignorado</td>\n",
       "      <td>NaN</td>\n",
       "      <td>NaN</td>\n",
       "      <td>NaN</td>\n",
       "      <td>0</td>\n",
       "      <td>NaN</td>\n",
       "    </tr>\n",
       "    <tr>\n",
       "      <th>636082</th>\n",
       "      <td>11/05/2020</td>\n",
       "      <td>20</td>\n",
       "      <td>SP</td>\n",
       "      <td>CATANDUVA</td>\n",
       "      <td>76</td>\n",
       "      <td>Ignorado</td>\n",
       "      <td>Fund2</td>\n",
       "      <td>2.0</td>\n",
       "      <td>2.0</td>\n",
       "      <td>2.0</td>\n",
       "      <td>2</td>\n",
       "      <td>NaN</td>\n",
       "    </tr>\n",
       "    <tr>\n",
       "      <th>562226</th>\n",
       "      <td>16/06/2020</td>\n",
       "      <td>25</td>\n",
       "      <td>MG</td>\n",
       "      <td>BETIM</td>\n",
       "      <td>6</td>\n",
       "      <td>Parda</td>\n",
       "      <td>Não se aplica</td>\n",
       "      <td>NaN</td>\n",
       "      <td>NaN</td>\n",
       "      <td>NaN</td>\n",
       "      <td>2</td>\n",
       "      <td>NaN</td>\n",
       "    </tr>\n",
       "    <tr>\n",
       "      <th>648858</th>\n",
       "      <td>30/05/2020</td>\n",
       "      <td>22</td>\n",
       "      <td>CE</td>\n",
       "      <td>FORTALEZA</td>\n",
       "      <td>76</td>\n",
       "      <td>Ignorado</td>\n",
       "      <td>Ignorado</td>\n",
       "      <td>NaN</td>\n",
       "      <td>NaN</td>\n",
       "      <td>NaN</td>\n",
       "      <td>2</td>\n",
       "      <td>NaN</td>\n",
       "    </tr>\n",
       "    <tr>\n",
       "      <th>797718</th>\n",
       "      <td>01/06/2020</td>\n",
       "      <td>23</td>\n",
       "      <td>SP</td>\n",
       "      <td>SAO PAULO</td>\n",
       "      <td>59</td>\n",
       "      <td>Branca</td>\n",
       "      <td>Ignorado</td>\n",
       "      <td>1.0</td>\n",
       "      <td>1.0</td>\n",
       "      <td>2.0</td>\n",
       "      <td>2</td>\n",
       "      <td>NaN</td>\n",
       "    </tr>\n",
       "    <tr>\n",
       "      <th>423904</th>\n",
       "      <td>16/06/2020</td>\n",
       "      <td>25</td>\n",
       "      <td>PE</td>\n",
       "      <td>RECIFE</td>\n",
       "      <td>1</td>\n",
       "      <td>Branca</td>\n",
       "      <td>Não se aplica</td>\n",
       "      <td>1.0</td>\n",
       "      <td>NaN</td>\n",
       "      <td>NaN</td>\n",
       "      <td>2</td>\n",
       "      <td>NaN</td>\n",
       "    </tr>\n",
       "    <tr>\n",
       "      <th>645131</th>\n",
       "      <td>29/06/2020</td>\n",
       "      <td>27</td>\n",
       "      <td>SE</td>\n",
       "      <td>ARACAJU</td>\n",
       "      <td>45</td>\n",
       "      <td>Parda</td>\n",
       "      <td>Médio</td>\n",
       "      <td>NaN</td>\n",
       "      <td>NaN</td>\n",
       "      <td>NaN</td>\n",
       "      <td>9</td>\n",
       "      <td>NaN</td>\n",
       "    </tr>\n",
       "  </tbody>\n",
       "</table>\n",
       "</div>"
      ],
      "text/plain": [
       "        DT_NOTIFIC  SEM_NOT SG_UF_NOT             ID_MUNICIP  NU_IDADE_N  \\\n",
       "743339  18/04/2020       16        SP              SAO PAULO          58   \n",
       "204617  30/08/2020       36        SP  SAO BERNARDO DO CAMPO          69   \n",
       "86571   12/06/2020       24        PI               TERESINA          57   \n",
       "559055  24/08/2020       35        SP              SAO PAULO          66   \n",
       "636082  11/05/2020       20        SP              CATANDUVA          76   \n",
       "562226  16/06/2020       25        MG                  BETIM           6   \n",
       "648858  30/05/2020       22        CE              FORTALEZA          76   \n",
       "797718  01/06/2020       23        SP              SAO PAULO          59   \n",
       "423904  16/06/2020       25        PE                 RECIFE           1   \n",
       "645131  29/06/2020       27        SE                ARACAJU          45   \n",
       "\n",
       "         CS_RACA     CS_ESCOL_N  CARDIOPATI  DIABETES  OBESIDADE  HISTO_VGM  \\\n",
       "743339  Ignorado       Ignorado         NaN       NaN        NaN          2   \n",
       "204617    Branca          Fund2         1.0       2.0        2.0          2   \n",
       "86571      Parda          Fund1         1.0       2.0        1.0          9   \n",
       "559055    Branca       Ignorado         NaN       NaN        NaN          0   \n",
       "636082  Ignorado          Fund2         2.0       2.0        2.0          2   \n",
       "562226     Parda  Não se aplica         NaN       NaN        NaN          2   \n",
       "648858  Ignorado       Ignorado         NaN       NaN        NaN          2   \n",
       "797718    Branca       Ignorado         1.0       1.0        2.0          2   \n",
       "423904    Branca  Não se aplica         1.0       NaN        NaN          2   \n",
       "645131     Parda          Médio         NaN       NaN        NaN          9   \n",
       "\n",
       "       PAIS_VGM  \n",
       "743339      NaN  \n",
       "204617      NaN  \n",
       "86571       NaN  \n",
       "559055      NaN  \n",
       "636082      NaN  \n",
       "562226      NaN  \n",
       "648858      NaN  \n",
       "797718      NaN  \n",
       "423904      NaN  \n",
       "645131      NaN  "
      ]
     },
     "execution_count": 8,
     "metadata": {},
     "output_type": "execute_result"
    }
   ],
   "source": [
    "df.sample(10)"
   ]
  },
  {
   "cell_type": "code",
   "execution_count": 9,
   "metadata": {},
   "outputs": [
    {
     "data": {
      "text/plain": [
       "<AxesSubplot:ylabel='SG_UF_NOT'>"
      ]
     },
     "execution_count": 9,
     "metadata": {},
     "output_type": "execute_result"
    },
    {
     "data": {
      "image/png": "[encoded data removed]",
      "text/plain": [
       "<Figure size 432x288 with 1 Axes>"
      ]
     },
     "metadata": {
      "needs_background": "light"
     },
     "output_type": "display_data"
    }
   ],
   "source": [
    "df.groupby('SG_UF_NOT').size().sort_values().tail(5).plot(kind='barh')"
   ]
  },
  {
   "cell_type": "code",
   "execution_count": 10,
   "metadata": {},
   "outputs": [
    {
     "data": {
      "text/plain": [
       "<AxesSubplot:ylabel='CS_RACA'>"
      ]
     },
     "execution_count": 10,
     "metadata": {},
     "output_type": "execute_result"
    },
    {
     "data": {
      "image/png": "[encoded data removed]",
      "text/plain": [
       "<Figure size 432x288 with 1 Axes>"
      ]
     },
     "metadata": {
      "needs_background": "light"
     },
     "output_type": "display_data"
    }
   ],
   "source": [
    "df.groupby('CS_RACA').size().sort_values().plot(kind='barh')"
   ]
  },
  {
   "cell_type": "code",
   "execution_count": 11,
   "metadata": {},
   "outputs": [
    {
     "data": {
      "text/plain": [
       "CS_RACA\n",
       "Indígena      2431\n",
       "Amarela       8775\n",
       "Preta        40349\n",
       "Ignorado    196859\n",
       "Parda       279778\n",
       "Branca      293595\n",
       "dtype: int64"
      ]
     },
     "execution_count": 11,
     "metadata": {},
     "output_type": "execute_result"
    }
   ],
   "source": [
    "df.groupby('CS_RACA').size().sort_values()"
   ]
  },
  {
   "cell_type": "code",
   "execution_count": 12,
   "metadata": {},
   "outputs": [
    {
     "data": {
      "text/plain": [
       "CS_ESCOL_N\n",
       "Ignorado         515025\n",
       "Fund1             83031\n",
       "Médio             82929\n",
       "Fund2             51374\n",
       "Superior          37897\n",
       "Sem               26187\n",
       "Não se aplica     25344\n",
       "dtype: int64"
      ]
     },
     "execution_count": 12,
     "metadata": {},
     "output_type": "execute_result"
    }
   ],
   "source": [
    "df.groupby('CS_ESCOL_N').size().sort_values(ascending=False)"
   ]
  },
  {
   "cell_type": "code",
   "execution_count": 13,
   "metadata": {},
   "outputs": [
    {
     "data": {
      "text/plain": [
       "1    1142\n",
       "Name: HISTO_VGM, dtype: int64"
      ]
     },
     "execution_count": 13,
     "metadata": {},
     "output_type": "execute_result"
    }
   ],
   "source": [
    "df.query('HISTO_VGM == 1')['HISTO_VGM'].value_counts()"
   ]
  },
  {
   "cell_type": "code",
   "execution_count": 14,
   "metadata": {},
   "outputs": [
    {
     "data": {
      "text/plain": [
       "<AxesSubplot:xlabel='PAIS_VGM'>"
      ]
     },
     "execution_count": 14,
     "metadata": {},
     "output_type": "execute_result"
    },
    {
     "data": {
      "image/png": "[encoded data removed]",
      "text/plain": [
       "<Figure size 432x288 with 1 Axes>"
      ]
     },
     "metadata": {
      "needs_background": "light"
     },
     "output_type": "display_data"
    }
   ],
   "source": [
    "df.query('HISTO_VGM == 1 and PAIS_VGM != \"BRASIL\"').groupby('PAIS_VGM').size().sort_values(ascending=False).head(10).plot(kind='bar')\n"
   ]
  },
  {
   "cell_type": "code",
   "execution_count": 15,
   "metadata": {},
   "outputs": [
    {
     "data": {
      "text/plain": [
       "1.0    254286\n",
       "Name: CARDIOPATI, dtype: int64"
      ]
     },
     "execution_count": 15,
     "metadata": {},
     "output_type": "execute_result"
    }
   ],
   "source": [
    "df.query('CARDIOPATI == 1')['CARDIOPATI'].value_counts()"
   ]
  },
  {
   "cell_type": "code",
   "execution_count": 16,
   "metadata": {},
   "outputs": [
    {
     "data": {
      "text/plain": [
       "1.0    181289\n",
       "Name: DIABETES, dtype: int64"
      ]
     },
     "execution_count": 16,
     "metadata": {},
     "output_type": "execute_result"
    }
   ],
   "source": [
    "df.query('DIABETES == 1')['DIABETES'].value_counts()"
   ]
  },
  {
   "cell_type": "code",
   "execution_count": 17,
   "metadata": {},
   "outputs": [
    {
     "data": {
      "text/plain": [
       "1.0    32279\n",
       "Name: OBESIDADE, dtype: int64"
      ]
     },
     "execution_count": 17,
     "metadata": {},
     "output_type": "execute_result"
    }
   ],
   "source": [
    "df.query('OBESIDADE == 1')['OBESIDADE'].value_counts()"
   ]
  },
  {
   "cell_type": "code",
   "execution_count": 18,
   "metadata": {},
   "outputs": [
    {
     "data": {
      "text/plain": [
       "410732"
      ]
     },
     "execution_count": 18,
     "metadata": {},
     "output_type": "execute_result"
    }
   ],
   "source": [
    "df.query('NU_IDADE_N >= 60')['NU_IDADE_N'].count()"
   ]
  },
  {
   "cell_type": "code",
   "execution_count": 19,
   "metadata": {},
   "outputs": [
    {
     "data": {
      "text/plain": [
       "<AxesSubplot:xlabel='SEM_NOT'>"
      ]
     },
     "execution_count": 19,
     "metadata": {},
     "output_type": "execute_result"
    },
    {
     "data": {
      "image/png": "[encoded data removed]",
      "text/plain": [
       "<Figure size 432x288 with 1 Axes>"
      ]
     },
     "metadata": {
      "needs_background": "light"
     },
     "output_type": "display_data"
    }
   ],
   "source": [
    "df.groupby('SEM_NOT').size().plot(kind='bar')"
   ]
  },
  {
   "cell_type": "code",
   "execution_count": 20,
   "metadata": {},
   "outputs": [
    {
     "data": {
      "text/plain": [
       "<AxesSubplot:xlabel='SEM_NOT'>"
      ]
     },
     "execution_count": 20,
     "metadata": {},
     "output_type": "execute_result"
    },
    {
     "data": {
      "image/png": "[encoded data removed]",
      "text/plain": [
       "<Figure size 432x288 with 1 Axes>"
      ]
     },
     "metadata": {
      "needs_background": "light"
     },
     "output_type": "display_data"
    }
   ],
   "source": [
    "df.query('SG_UF_NOT == \"SP\"').groupby('SEM_NOT').size().plot(kind='bar')"
   ]
  },
  {
   "cell_type": "code",
   "execution_count": 21,
   "metadata": {},
   "outputs": [
    {
     "data": {
      "text/plain": [
       "<AxesSubplot:xlabel='SEM_NOT'>"
      ]
     },
     "execution_count": 21,
     "metadata": {},
     "output_type": "execute_result"
    },
    {
     "data": {
      "image/png": "[encoded data removed]",
      "text/plain": [
       "<Figure size 432x288 with 1 Axes>"
      ]
     },
     "metadata": {
      "needs_background": "light"
     },
     "output_type": "display_data"
    }
   ],
   "source": [
    "df.query('ID_MUNICIP == \"SAO PAULO\"').groupby('SEM_NOT').size().plot(kind='bar')"
   ]
  },
  {
   "cell_type": "code",
   "execution_count": 22,
   "metadata": {},
   "outputs": [
    {
     "data": {
      "text/plain": [
       "<AxesSubplot:xlabel='SEM_NOT'>"
      ]
     },
     "execution_count": 22,
     "metadata": {},
     "output_type": "execute_result"
    },
    {
     "data": {
      "image/png": "[encoded data removed]",
      "text/plain": [
       "<Figure size 432x288 with 1 Axes>"
      ]
     },
     "metadata": {
      "needs_background": "light"
     },
     "output_type": "display_data"
    }
   ],
   "source": [
    "df.query('ID_MUNICIP == \"SAO JOSE DOS CAMPOS\"').groupby('SEM_NOT').size().plot(kind='bar')"
   ]
  },
  {
   "cell_type": "code",
   "execution_count": null,
   "metadata": {},
   "outputs": [],
   "source": []
  }
 ],
 "metadata": {
  "kernelspec": {
   "display_name": "Python 3",
   "language": "python",
   "name": "python3"
  },
  "language_info": {
   "codemirror_mode": {
    "name": "ipython",
    "version": 3
   },
   "file_extension": ".py",
   "mimetype": "text/x-python",
   "name": "python",
   "nbconvert_exporter": "python",
   "pygments_lexer": "ipython3",
   "version": "3.8.2"
  }
 },
 "nbformat": 4,
 "nbformat_minor": 4
}
