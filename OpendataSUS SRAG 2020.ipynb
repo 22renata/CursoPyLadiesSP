{
 "cells": [
  {
   "cell_type": "markdown",
   "metadata": {},
   "source": [
    "#### Os dados, até a data do presente estudo, estão no https://opendatasus.saude.gov.br/dataset/bd-srag-2020\n",
    "#### O presente arquivo é de 7 de setembro. Atenção: a última barra no gráfico por semana é menor, pois a semana é incompleta! Note também que o crescimento é diferente por cidades.\n",
    "#### Disclaimer/Aviso Legal: Este notebook tem um fim única e exclusivamente didático, para alunos da FATEC, como uma introdução à Análise de Dados Públicos. Desse modo, está excluída a garantia ou responsabilidade de qualquer tipo, por exemplo, de precisão, confiabilidade, completude e atualidade das informações."
   ]
  },
  {
   "cell_type": "code",
   "execution_count": 1,
   "metadata": {},
   "outputs": [],
   "source": [
    "import pandas as pd\n",
    "low_memory=False\n",
    "%matplotlib inline\n",
    "pd.options.display.max_columns = 80\n",
    "pd.options.display.max_rows = 90"
   ]
  },
  {
   "cell_type": "code",
   "execution_count": 2,
   "metadata": {},
   "outputs": [],
   "source": [
    "filename = r'C:\\Users\\fmasa\\Downloads\\INFLUD-07-09-2020.csv'\n",
    "df = pd.read_csv(filename, delimiter=';', \n",
    "                 usecols='CS_RACA CS_ESCOL_N SEM_NOT DT_NOTIFIC SG_UF_NOT HISTO_VGM PAIS_VGM CARDIOPATI DIABETES OBESIDADE NU_IDADE_N ID_MUNICIP'.split(),\n",
    "                 encoding='ISO-8859-1',\n",
    "                 error_bad_lines=False)"
   ]
  },
  {
   "cell_type": "code",
   "execution_count": 3,
   "metadata": {},
   "outputs": [
    {
     "data": {
      "text/plain": [
       "(697488, 12)"
      ]
     },
     "execution_count": 3,
     "metadata": {},
     "output_type": "execute_result"
    }
   ],
   "source": [
    "df.shape"
   ]
  },
  {
   "cell_type": "code",
   "execution_count": 4,
   "metadata": {},
   "outputs": [
    {
     "name": "stdout",
     "output_type": "stream",
     "text": [
      "<class 'pandas.core.frame.DataFrame'>\n",
      "RangeIndex: 697488 entries, 0 to 697487\n",
      "Data columns (total 12 columns):\n",
      " #   Column      Non-Null Count   Dtype  \n",
      "---  ------      --------------   -----  \n",
      " 0   DT_NOTIFIC  697488 non-null  object \n",
      " 1   SEM_NOT     697488 non-null  int64  \n",
      " 2   SG_UF_NOT   697488 non-null  object \n",
      " 3   ID_MUNICIP  697488 non-null  object \n",
      " 4   NU_IDADE_N  697488 non-null  int64  \n",
      " 5   CS_RACA     629487 non-null  float64\n",
      " 6   CS_ESCOL_N  489972 non-null  float64\n",
      " 7   CARDIOPATI  352303 non-null  float64\n",
      " 8   DIABETES    330224 non-null  float64\n",
      " 9   OBESIDADE   279510 non-null  float64\n",
      " 10  HISTO_VGM   697488 non-null  int64  \n",
      " 11  PAIS_VGM    1154 non-null    object \n",
      "dtypes: float64(5), int64(3), object(4)\n",
      "memory usage: 53.2+ MB\n"
     ]
    }
   ],
   "source": [
    "df.info()"
   ]
  },
  {
   "cell_type": "code",
   "execution_count": 5,
   "metadata": {},
   "outputs": [
    {
     "name": "stdout",
     "output_type": "stream",
     "text": [
      "(0, 'DT_NOTIFIC')\n",
      "(1, 'SEM_NOT')\n",
      "(2, 'SG_UF_NOT')\n",
      "(3, 'ID_MUNICIP')\n",
      "(4, 'NU_IDADE_N')\n",
      "(5, 'CS_RACA')\n",
      "(6, 'CS_ESCOL_N')\n",
      "(7, 'CARDIOPATI')\n",
      "(8, 'DIABETES')\n",
      "(9, 'OBESIDADE')\n",
      "(10, 'HISTO_VGM')\n",
      "(11, 'PAIS_VGM')\n"
     ]
    }
   ],
   "source": [
    "for par in enumerate(df.columns): print (par)"
   ]
  },
  {
   "cell_type": "code",
   "execution_count": 6,
   "metadata": {},
   "outputs": [],
   "source": [
    "# Tabelas de microdados usam números, faço a correspondência desses números com seus significados\n",
    "troca_raça = {1:'Branca', 2:'Preta', 3:'Amarela',\n",
    "              4:'Parda', 5:'Indígena', 9:'Ignorado'}\n",
    "troca_escolaridade = {0:'Sem', 1:'Fund1', \n",
    "                      2:'Fund2', 3:'Médio',\n",
    "                      4:'Superior', \n",
    "                      5:'Não se aplica',\n",
    "                      9:'Ignorado'}"
   ]
  },
  {
   "cell_type": "code",
   "execution_count": 7,
   "metadata": {},
   "outputs": [],
   "source": [
    "df.loc[(df.CS_RACA.isnull()), 'CS_RACA'] = 9\n",
    "df['CS_RACA'] = df['CS_RACA'].apply(lambda x: troca_raça[x])\n",
    "df.loc[(df.CS_ESCOL_N.isnull()), 'CS_ESCOL_N'] = 9\n",
    "df['CS_ESCOL_N'] = df['CS_ESCOL_N'].apply(lambda x: troca_escolaridade[x])\n",
    "df.SEM_NOT = df.SEM_NOT.apply(pd.to_numeric, errors='coerce')\n",
    "df['DT_NOTIFIC'].dropna(inplace=True)"
   ]
  },
  {
   "cell_type": "code",
   "execution_count": 8,
   "metadata": {},
   "outputs": [
    {
     "data": {
      "text/html": [
       "<div>\n",
       "<style scoped>\n",
       "    .dataframe tbody tr th:only-of-type {\n",
       "        vertical-align: middle;\n",
       "    }\n",
       "\n",
       "    .dataframe tbody tr th {\n",
       "        vertical-align: top;\n",
       "    }\n",
       "\n",
       "    .dataframe thead th {\n",
       "        text-align: right;\n",
       "    }\n",
       "</style>\n",
       "<table border=\"1\" class=\"dataframe\">\n",
       "  <thead>\n",
       "    <tr style=\"text-align: right;\">\n",
       "      <th></th>\n",
       "      <th>DT_NOTIFIC</th>\n",
       "      <th>SEM_NOT</th>\n",
       "      <th>SG_UF_NOT</th>\n",
       "      <th>ID_MUNICIP</th>\n",
       "      <th>NU_IDADE_N</th>\n",
       "      <th>CS_RACA</th>\n",
       "      <th>CS_ESCOL_N</th>\n",
       "      <th>CARDIOPATI</th>\n",
       "      <th>DIABETES</th>\n",
       "      <th>OBESIDADE</th>\n",
       "      <th>HISTO_VGM</th>\n",
       "      <th>PAIS_VGM</th>\n",
       "    </tr>\n",
       "  </thead>\n",
       "  <tbody>\n",
       "    <tr>\n",
       "      <th>568524</th>\n",
       "      <td>03/07/2020</td>\n",
       "      <td>27</td>\n",
       "      <td>SP</td>\n",
       "      <td>SAO JOSE DO RIO PRETO</td>\n",
       "      <td>69</td>\n",
       "      <td>Branca</td>\n",
       "      <td>Fund2</td>\n",
       "      <td>1.0</td>\n",
       "      <td>1.0</td>\n",
       "      <td>2.0</td>\n",
       "      <td>2</td>\n",
       "      <td>NaN</td>\n",
       "    </tr>\n",
       "    <tr>\n",
       "      <th>619030</th>\n",
       "      <td>10/07/2020</td>\n",
       "      <td>28</td>\n",
       "      <td>GO</td>\n",
       "      <td>GOIANIA</td>\n",
       "      <td>43</td>\n",
       "      <td>Parda</td>\n",
       "      <td>Ignorado</td>\n",
       "      <td>NaN</td>\n",
       "      <td>NaN</td>\n",
       "      <td>NaN</td>\n",
       "      <td>2</td>\n",
       "      <td>NaN</td>\n",
       "    </tr>\n",
       "    <tr>\n",
       "      <th>324855</th>\n",
       "      <td>30/04/2020</td>\n",
       "      <td>18</td>\n",
       "      <td>PA</td>\n",
       "      <td>BELEM</td>\n",
       "      <td>83</td>\n",
       "      <td>Ignorado</td>\n",
       "      <td>Fund2</td>\n",
       "      <td>NaN</td>\n",
       "      <td>1.0</td>\n",
       "      <td>NaN</td>\n",
       "      <td>2</td>\n",
       "      <td>NaN</td>\n",
       "    </tr>\n",
       "    <tr>\n",
       "      <th>109014</th>\n",
       "      <td>14/08/2020</td>\n",
       "      <td>33</td>\n",
       "      <td>CE</td>\n",
       "      <td>FORTALEZA</td>\n",
       "      <td>50</td>\n",
       "      <td>Parda</td>\n",
       "      <td>Ignorado</td>\n",
       "      <td>NaN</td>\n",
       "      <td>NaN</td>\n",
       "      <td>NaN</td>\n",
       "      <td>0</td>\n",
       "      <td>NaN</td>\n",
       "    </tr>\n",
       "    <tr>\n",
       "      <th>47215</th>\n",
       "      <td>13/04/2020</td>\n",
       "      <td>16</td>\n",
       "      <td>PB</td>\n",
       "      <td>JOAO PESSOA</td>\n",
       "      <td>8</td>\n",
       "      <td>Ignorado</td>\n",
       "      <td>Não se aplica</td>\n",
       "      <td>NaN</td>\n",
       "      <td>NaN</td>\n",
       "      <td>NaN</td>\n",
       "      <td>9</td>\n",
       "      <td>NaN</td>\n",
       "    </tr>\n",
       "    <tr>\n",
       "      <th>268652</th>\n",
       "      <td>16/07/2020</td>\n",
       "      <td>29</td>\n",
       "      <td>SP</td>\n",
       "      <td>JUNDIAI</td>\n",
       "      <td>38</td>\n",
       "      <td>Branca</td>\n",
       "      <td>Ignorado</td>\n",
       "      <td>NaN</td>\n",
       "      <td>NaN</td>\n",
       "      <td>NaN</td>\n",
       "      <td>2</td>\n",
       "      <td>NaN</td>\n",
       "    </tr>\n",
       "    <tr>\n",
       "      <th>456548</th>\n",
       "      <td>03/06/2020</td>\n",
       "      <td>23</td>\n",
       "      <td>SP</td>\n",
       "      <td>SAO PAULO</td>\n",
       "      <td>75</td>\n",
       "      <td>Branca</td>\n",
       "      <td>Ignorado</td>\n",
       "      <td>NaN</td>\n",
       "      <td>1.0</td>\n",
       "      <td>NaN</td>\n",
       "      <td>2</td>\n",
       "      <td>NaN</td>\n",
       "    </tr>\n",
       "    <tr>\n",
       "      <th>391764</th>\n",
       "      <td>09/07/2020</td>\n",
       "      <td>28</td>\n",
       "      <td>PR</td>\n",
       "      <td>CAMPO LARGO</td>\n",
       "      <td>66</td>\n",
       "      <td>Branca</td>\n",
       "      <td>Ignorado</td>\n",
       "      <td>NaN</td>\n",
       "      <td>NaN</td>\n",
       "      <td>NaN</td>\n",
       "      <td>2</td>\n",
       "      <td>NaN</td>\n",
       "    </tr>\n",
       "    <tr>\n",
       "      <th>93743</th>\n",
       "      <td>02/08/2020</td>\n",
       "      <td>32</td>\n",
       "      <td>SC</td>\n",
       "      <td>NOVA TRENTO</td>\n",
       "      <td>39</td>\n",
       "      <td>Branca</td>\n",
       "      <td>Ignorado</td>\n",
       "      <td>NaN</td>\n",
       "      <td>NaN</td>\n",
       "      <td>NaN</td>\n",
       "      <td>2</td>\n",
       "      <td>NaN</td>\n",
       "    </tr>\n",
       "    <tr>\n",
       "      <th>169288</th>\n",
       "      <td>01/07/2020</td>\n",
       "      <td>27</td>\n",
       "      <td>PR</td>\n",
       "      <td>TRES BARRAS DO PARANA</td>\n",
       "      <td>37</td>\n",
       "      <td>Branca</td>\n",
       "      <td>Médio</td>\n",
       "      <td>NaN</td>\n",
       "      <td>NaN</td>\n",
       "      <td>NaN</td>\n",
       "      <td>2</td>\n",
       "      <td>NaN</td>\n",
       "    </tr>\n",
       "  </tbody>\n",
       "</table>\n",
       "</div>"
      ],
      "text/plain": [
       "        DT_NOTIFIC  SEM_NOT SG_UF_NOT             ID_MUNICIP  NU_IDADE_N  \\\n",
       "568524  03/07/2020       27        SP  SAO JOSE DO RIO PRETO          69   \n",
       "619030  10/07/2020       28        GO                GOIANIA          43   \n",
       "324855  30/04/2020       18        PA                  BELEM          83   \n",
       "109014  14/08/2020       33        CE              FORTALEZA          50   \n",
       "47215   13/04/2020       16        PB            JOAO PESSOA           8   \n",
       "268652  16/07/2020       29        SP                JUNDIAI          38   \n",
       "456548  03/06/2020       23        SP              SAO PAULO          75   \n",
       "391764  09/07/2020       28        PR            CAMPO LARGO          66   \n",
       "93743   02/08/2020       32        SC            NOVA TRENTO          39   \n",
       "169288  01/07/2020       27        PR  TRES BARRAS DO PARANA          37   \n",
       "\n",
       "         CS_RACA     CS_ESCOL_N  CARDIOPATI  DIABETES  OBESIDADE  HISTO_VGM  \\\n",
       "568524    Branca          Fund2         1.0       1.0        2.0          2   \n",
       "619030     Parda       Ignorado         NaN       NaN        NaN          2   \n",
       "324855  Ignorado          Fund2         NaN       1.0        NaN          2   \n",
       "109014     Parda       Ignorado         NaN       NaN        NaN          0   \n",
       "47215   Ignorado  Não se aplica         NaN       NaN        NaN          9   \n",
       "268652    Branca       Ignorado         NaN       NaN        NaN          2   \n",
       "456548    Branca       Ignorado         NaN       1.0        NaN          2   \n",
       "391764    Branca       Ignorado         NaN       NaN        NaN          2   \n",
       "93743     Branca       Ignorado         NaN       NaN        NaN          2   \n",
       "169288    Branca          Médio         NaN       NaN        NaN          2   \n",
       "\n",
       "       PAIS_VGM  \n",
       "568524      NaN  \n",
       "619030      NaN  \n",
       "324855      NaN  \n",
       "109014      NaN  \n",
       "47215       NaN  \n",
       "268652      NaN  \n",
       "456548      NaN  \n",
       "391764      NaN  \n",
       "93743       NaN  \n",
       "169288      NaN  "
      ]
     },
     "execution_count": 8,
     "metadata": {},
     "output_type": "execute_result"
    }
   ],
   "source": [
    "df.sample(10)"
   ]
  },
  {
   "cell_type": "code",
   "execution_count": 9,
   "metadata": {},
   "outputs": [
    {
     "data": {
      "text/plain": [
       "<matplotlib.axes._subplots.AxesSubplot at 0xbe6c958>"
      ]
     },
     "execution_count": 9,
     "metadata": {},
     "output_type": "execute_result"
    },
    {
     "data": {
      "image/png": "[encoded data removed]",
      "text/plain": [
       "<Figure size 432x288 with 1 Axes>"
      ]
     },
     "metadata": {
      "needs_background": "light"
     },
     "output_type": "display_data"
    }
   ],
   "source": [
    "df.groupby('SG_UF_NOT').size().sort_values().tail(5).plot(kind='barh')"
   ]
  },
  {
   "cell_type": "code",
   "execution_count": 10,
   "metadata": {},
   "outputs": [
    {
     "data": {
      "text/plain": [
       "<matplotlib.axes._subplots.AxesSubplot at 0xbeb4790>"
      ]
     },
     "execution_count": 10,
     "metadata": {},
     "output_type": "execute_result"
    },
    {
     "data": {
      "image/png": "[encoded data removed]",
      "text/plain": [
       "<Figure size 432x288 with 1 Axes>"
      ]
     },
     "metadata": {
      "needs_background": "light"
     },
     "output_type": "display_data"
    }
   ],
   "source": [
    "df.groupby('CS_RACA').size().sort_values().plot(kind='barh')"
   ]
  },
  {
   "cell_type": "code",
   "execution_count": 11,
   "metadata": {},
   "outputs": [
    {
     "data": {
      "text/plain": [
       "CS_RACA\n",
       "Indígena      2084\n",
       "Amarela       7376\n",
       "Preta        33813\n",
       "Ignorado    180416\n",
       "Parda       232946\n",
       "Branca      240853\n",
       "dtype: int64"
      ]
     },
     "execution_count": 11,
     "metadata": {},
     "output_type": "execute_result"
    }
   ],
   "source": [
    "df.groupby('CS_RACA').size().sort_values()"
   ]
  },
  {
   "cell_type": "code",
   "execution_count": 12,
   "metadata": {},
   "outputs": [
    {
     "data": {
      "text/plain": [
       "CS_ESCOL_N\n",
       "Ignorado         440039\n",
       "Médio             70837\n",
       "Fund1             68143\n",
       "Fund2             43114\n",
       "Superior          32501\n",
       "Não se aplica     21545\n",
       "Sem               21309\n",
       "dtype: int64"
      ]
     },
     "execution_count": 12,
     "metadata": {},
     "output_type": "execute_result"
    }
   ],
   "source": [
    "df.groupby('CS_ESCOL_N').size().sort_values(ascending=False)"
   ]
  },
  {
   "cell_type": "code",
   "execution_count": 13,
   "metadata": {},
   "outputs": [
    {
     "data": {
      "text/plain": [
       "1    1121\n",
       "Name: HISTO_VGM, dtype: int64"
      ]
     },
     "execution_count": 13,
     "metadata": {},
     "output_type": "execute_result"
    }
   ],
   "source": [
    "df.query('HISTO_VGM == 1')['HISTO_VGM'].value_counts()"
   ]
  },
  {
   "cell_type": "code",
   "execution_count": 14,
   "metadata": {},
   "outputs": [
    {
     "data": {
      "text/plain": [
       "<matplotlib.axes._subplots.AxesSubplot at 0xbeefb38>"
      ]
     },
     "execution_count": 14,
     "metadata": {},
     "output_type": "execute_result"
    },
    {
     "data": {
      "image/png": "[encoded data removed]",
      "text/plain": [
       "<Figure size 432x288 with 1 Axes>"
      ]
     },
     "metadata": {
      "needs_background": "light"
     },
     "output_type": "display_data"
    }
   ],
   "source": [
    "df.query('HISTO_VGM == 1 and PAIS_VGM != \"BRASIL\"').groupby('PAIS_VGM').size().sort_values(ascending=False).head(10).plot(kind='bar')\n"
   ]
  },
  {
   "cell_type": "code",
   "execution_count": 15,
   "metadata": {},
   "outputs": [
    {
     "data": {
      "text/plain": [
       "1.0    212746\n",
       "Name: CARDIOPATI, dtype: int64"
      ]
     },
     "execution_count": 15,
     "metadata": {},
     "output_type": "execute_result"
    }
   ],
   "source": [
    "df.query('CARDIOPATI == 1')['CARDIOPATI'].value_counts()"
   ]
  },
  {
   "cell_type": "code",
   "execution_count": 16,
   "metadata": {},
   "outputs": [
    {
     "data": {
      "text/plain": [
       "1.0    153463\n",
       "Name: DIABETES, dtype: int64"
      ]
     },
     "execution_count": 16,
     "metadata": {},
     "output_type": "execute_result"
    }
   ],
   "source": [
    "df.query('DIABETES == 1')['DIABETES'].value_counts()"
   ]
  },
  {
   "cell_type": "code",
   "execution_count": 17,
   "metadata": {},
   "outputs": [
    {
     "data": {
      "text/plain": [
       "1.0    24805\n",
       "Name: OBESIDADE, dtype: int64"
      ]
     },
     "execution_count": 17,
     "metadata": {},
     "output_type": "execute_result"
    }
   ],
   "source": [
    "df.query('OBESIDADE == 1')['OBESIDADE'].value_counts()"
   ]
  },
  {
   "cell_type": "code",
   "execution_count": 18,
   "metadata": {},
   "outputs": [
    {
     "data": {
      "text/plain": [
       "344683"
      ]
     },
     "execution_count": 18,
     "metadata": {},
     "output_type": "execute_result"
    }
   ],
   "source": [
    "df.query('NU_IDADE_N >= 60')['NU_IDADE_N'].count()"
   ]
  },
  {
   "cell_type": "code",
   "execution_count": 19,
   "metadata": {},
   "outputs": [
    {
     "data": {
      "text/plain": [
       "<matplotlib.axes._subplots.AxesSubplot at 0xbf55508>"
      ]
     },
     "execution_count": 19,
     "metadata": {},
     "output_type": "execute_result"
    },
    {
     "data": {
      "image/png": "[encoded data removed]",
      "text/plain": [
       "<Figure size 432x288 with 1 Axes>"
      ]
     },
     "metadata": {
      "needs_background": "light"
     },
     "output_type": "display_data"
    }
   ],
   "source": [
    "df.groupby('SEM_NOT').size().plot(kind='bar')"
   ]
  },
  {
   "cell_type": "code",
   "execution_count": 20,
   "metadata": {},
   "outputs": [
    {
     "data": {
      "text/plain": [
       "<matplotlib.axes._subplots.AxesSubplot at 0xc08c160>"
      ]
     },
     "execution_count": 20,
     "metadata": {},
     "output_type": "execute_result"
    },
    {
     "data": {
      "image/png": "[encoded data removed]",
      "text/plain": [
       "<Figure size 432x288 with 1 Axes>"
      ]
     },
     "metadata": {
      "needs_background": "light"
     },
     "output_type": "display_data"
    }
   ],
   "source": [
    "df.query('SG_UF_NOT == \"SP\"').groupby('SEM_NOT').size().plot(kind='bar')"
   ]
  },
  {
   "cell_type": "code",
   "execution_count": 21,
   "metadata": {},
   "outputs": [
    {
     "data": {
      "text/plain": [
       "<matplotlib.axes._subplots.AxesSubplot at 0xc070b80>"
      ]
     },
     "execution_count": 21,
     "metadata": {},
     "output_type": "execute_result"
    },
    {
     "data": {
      "image/png": "[encoded data removed]",
      "text/plain": [
       "<Figure size 432x288 with 1 Axes>"
      ]
     },
     "metadata": {
      "needs_background": "light"
     },
     "output_type": "display_data"
    }
   ],
   "source": [
    "df.query('ID_MUNICIP == \"SAO PAULO\"').groupby('SEM_NOT').size().plot(kind='bar')"
   ]
  },
  {
   "cell_type": "code",
   "execution_count": 22,
   "metadata": {},
   "outputs": [
    {
     "data": {
      "text/plain": [
       "<matplotlib.axes._subplots.AxesSubplot at 0xc070ca0>"
      ]
     },
     "execution_count": 22,
     "metadata": {},
     "output_type": "execute_result"
    },
    {
     "data": {
      "image/png": "[encoded data removed]",
      "text/plain": [
       "<Figure size 432x288 with 1 Axes>"
      ]
     },
     "metadata": {
      "needs_background": "light"
     },
     "output_type": "display_data"
    }
   ],
   "source": [
    "df.query('ID_MUNICIP == \"SAO JOSE DOS CAMPOS\"').groupby('SEM_NOT').size().plot(kind='bar')"
   ]
  },
  {
   "cell_type": "code",
   "execution_count": null,
   "metadata": {},
   "outputs": [],
   "source": []
  }
 ],
 "metadata": {
  "kernelspec": {
   "display_name": "Python 3",
   "language": "python",
   "name": "python3"
  },
  "language_info": {
   "codemirror_mode": {
    "name": "ipython",
    "version": 3
   },
   "file_extension": ".py",
   "mimetype": "text/x-python",
   "name": "python",
   "nbconvert_exporter": "python",
   "pygments_lexer": "ipython3",
   "version": "3.8.2"
  }
 },
 "nbformat": 4,
 "nbformat_minor": 4
}
