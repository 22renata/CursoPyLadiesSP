{
 "cells": [
  {
   "cell_type": "markdown",
   "metadata": {},
   "source": [
    "#### Os dados, até a data do presente estudo, estão no https://covid.saude.gov.br/\n",
    "#### O presente arquivo é de 10 de setembro. Atenção: de acordo com o dia em que for feita a análise, a última barra da totalização por semana estará menor.\n",
    "#### Disclaimer/Aviso Legal: Este notebook tem um fim única e exclusivamente didático, para alunos da FATEC, como uma introdução à Análise de Dados Públicos. Desse modo, está excluída a garantia ou responsabilidade de qualquer tipo, por exemplo, de precisão, confiabilidade, completude e atualidade das informações."
   ]
  },
  {
   "cell_type": "code",
   "execution_count": 1,
   "metadata": {},
   "outputs": [],
   "source": [
    "import pandas as pd\n",
    "low_memory=False\n",
    "import matplotlib.pyplot as plt\n",
    "%matplotlib inline\n",
    "pd.options.display.max_columns = 80\n",
    "pd.options.display.max_rows = 90"
   ]
  },
  {
   "cell_type": "code",
   "execution_count": 2,
   "metadata": {},
   "outputs": [],
   "source": [
    "filename = r'C:\\Users\\fmasa\\Downloads\\HIST_PAINEL_COVIDBR_23set2020.xlsx'\n",
    "df = pd.read_excel(filename)"
   ]
  },
  {
   "cell_type": "code",
   "execution_count": 3,
   "metadata": {},
   "outputs": [
    {
     "data": {
      "text/plain": [
       "(1017545, 17)"
      ]
     },
     "execution_count": 3,
     "metadata": {},
     "output_type": "execute_result"
    }
   ],
   "source": [
    "df.shape"
   ]
  },
  {
   "cell_type": "code",
   "execution_count": 4,
   "metadata": {},
   "outputs": [
    {
     "name": "stdout",
     "output_type": "stream",
     "text": [
      "<class 'pandas.core.frame.DataFrame'>\n",
      "RangeIndex: 1017545 entries, 0 to 1017544\n",
      "Data columns (total 17 columns):\n",
      " #   Column                  Non-Null Count    Dtype         \n",
      "---  ------                  --------------    -----         \n",
      " 0   regiao                  1017545 non-null  object        \n",
      " 1   estado                  1017333 non-null  object        \n",
      " 2   municipio               1007808 non-null  object        \n",
      " 3   coduf                   1017545 non-null  int64         \n",
      " 4   codmun                  1011609 non-null  float64       \n",
      " 5   codRegiaoSaude          1007808 non-null  float64       \n",
      " 6   nomeRegiaoSaude         1007808 non-null  object        \n",
      " 7   data                    1017545 non-null  datetime64[ns]\n",
      " 8   semanaEpi               1017545 non-null  int64         \n",
      " 9   populacaoTCU2019        1013744 non-null  float64       \n",
      " 10  casosAcumulado          1017545 non-null  int64         \n",
      " 11  casosNovos              1017545 non-null  int64         \n",
      " 12  obitosAcumulado         1017545 non-null  int64         \n",
      " 13  obitosNovos             1017545 non-null  int64         \n",
      " 14  Recuperadosnovos        158 non-null      float64       \n",
      " 15  emAcompanhamentoNovos   158 non-null      float64       \n",
      " 16  interior/metropolitana  1007808 non-null  float64       \n",
      "dtypes: datetime64[ns](1), float64(6), int64(6), object(4)\n",
      "memory usage: 116.4+ MB\n"
     ]
    }
   ],
   "source": [
    "df.info()"
   ]
  },
  {
   "cell_type": "code",
   "execution_count": 6,
   "metadata": {},
   "outputs": [
    {
     "data": {
      "text/html": [
       "<div>\n",
       "<style scoped>\n",
       "    .dataframe tbody tr th:only-of-type {\n",
       "        vertical-align: middle;\n",
       "    }\n",
       "\n",
       "    .dataframe tbody tr th {\n",
       "        vertical-align: top;\n",
       "    }\n",
       "\n",
       "    .dataframe thead th {\n",
       "        text-align: right;\n",
       "    }\n",
       "</style>\n",
       "<table border=\"1\" class=\"dataframe\">\n",
       "  <thead>\n",
       "    <tr style=\"text-align: right;\">\n",
       "      <th></th>\n",
       "      <th>regiao</th>\n",
       "      <th>estado</th>\n",
       "      <th>municipio</th>\n",
       "      <th>coduf</th>\n",
       "      <th>codmun</th>\n",
       "      <th>codRegiaoSaude</th>\n",
       "      <th>nomeRegiaoSaude</th>\n",
       "      <th>data</th>\n",
       "      <th>semanaEpi</th>\n",
       "      <th>populacaoTCU2019</th>\n",
       "      <th>casosAcumulado</th>\n",
       "      <th>casosNovos</th>\n",
       "      <th>obitosAcumulado</th>\n",
       "      <th>obitosNovos</th>\n",
       "      <th>Recuperadosnovos</th>\n",
       "      <th>emAcompanhamentoNovos</th>\n",
       "      <th>interior/metropolitana</th>\n",
       "    </tr>\n",
       "  </thead>\n",
       "  <tbody>\n",
       "    <tr>\n",
       "      <th>221131</th>\n",
       "      <td>Nordeste</td>\n",
       "      <td>RN</td>\n",
       "      <td>Pedro Velho</td>\n",
       "      <td>24</td>\n",
       "      <td>240980.0</td>\n",
       "      <td>24001.0</td>\n",
       "      <td>1ª REGIAO DE SAUDE - SAO JOSE DE MIPIBU</td>\n",
       "      <td>2020-09-10</td>\n",
       "      <td>37</td>\n",
       "      <td>14806.0</td>\n",
       "      <td>105</td>\n",
       "      <td>0</td>\n",
       "      <td>2</td>\n",
       "      <td>0</td>\n",
       "      <td>NaN</td>\n",
       "      <td>NaN</td>\n",
       "      <td>0.0</td>\n",
       "    </tr>\n",
       "    <tr>\n",
       "      <th>275385</th>\n",
       "      <td>Nordeste</td>\n",
       "      <td>PE</td>\n",
       "      <td>Barra de Guabiraba</td>\n",
       "      <td>26</td>\n",
       "      <td>260130.0</td>\n",
       "      <td>26003.0</td>\n",
       "      <td>CARUARU</td>\n",
       "      <td>2020-07-26</td>\n",
       "      <td>31</td>\n",
       "      <td>14385.0</td>\n",
       "      <td>139</td>\n",
       "      <td>2</td>\n",
       "      <td>10</td>\n",
       "      <td>0</td>\n",
       "      <td>NaN</td>\n",
       "      <td>NaN</td>\n",
       "      <td>0.0</td>\n",
       "    </tr>\n",
       "    <tr>\n",
       "      <th>323036</th>\n",
       "      <td>Nordeste</td>\n",
       "      <td>AL</td>\n",
       "      <td>São Miguel dos Campos</td>\n",
       "      <td>27</td>\n",
       "      <td>270860.0</td>\n",
       "      <td>27005.0</td>\n",
       "      <td>5ª REGIAO DE SAUDE</td>\n",
       "      <td>2020-09-12</td>\n",
       "      <td>37</td>\n",
       "      <td>61251.0</td>\n",
       "      <td>2082</td>\n",
       "      <td>2</td>\n",
       "      <td>32</td>\n",
       "      <td>0</td>\n",
       "      <td>NaN</td>\n",
       "      <td>NaN</td>\n",
       "      <td>0.0</td>\n",
       "    </tr>\n",
       "    <tr>\n",
       "      <th>756819</th>\n",
       "      <td>Sul</td>\n",
       "      <td>PR</td>\n",
       "      <td>Mercedes</td>\n",
       "      <td>41</td>\n",
       "      <td>411585.0</td>\n",
       "      <td>41020.0</td>\n",
       "      <td>20ª RS TOLEDO</td>\n",
       "      <td>2020-06-30</td>\n",
       "      <td>27</td>\n",
       "      <td>5536.0</td>\n",
       "      <td>4</td>\n",
       "      <td>1</td>\n",
       "      <td>0</td>\n",
       "      <td>0</td>\n",
       "      <td>NaN</td>\n",
       "      <td>NaN</td>\n",
       "      <td>0.0</td>\n",
       "    </tr>\n",
       "    <tr>\n",
       "      <th>444928</th>\n",
       "      <td>Sudeste</td>\n",
       "      <td>MG</td>\n",
       "      <td>Catuji</td>\n",
       "      <td>31</td>\n",
       "      <td>311545.0</td>\n",
       "      <td>31067.0</td>\n",
       "      <td>PADRE PARAISO</td>\n",
       "      <td>2020-06-02</td>\n",
       "      <td>23</td>\n",
       "      <td>6311.0</td>\n",
       "      <td>6</td>\n",
       "      <td>0</td>\n",
       "      <td>0</td>\n",
       "      <td>0</td>\n",
       "      <td>NaN</td>\n",
       "      <td>NaN</td>\n",
       "      <td>0.0</td>\n",
       "    </tr>\n",
       "    <tr>\n",
       "      <th>578783</th>\n",
       "      <td>Sudeste</td>\n",
       "      <td>ES</td>\n",
       "      <td>Pancas</td>\n",
       "      <td>32</td>\n",
       "      <td>320400.0</td>\n",
       "      <td>32001.0</td>\n",
       "      <td>CENTRAL</td>\n",
       "      <td>2020-09-06</td>\n",
       "      <td>37</td>\n",
       "      <td>23184.0</td>\n",
       "      <td>521</td>\n",
       "      <td>0</td>\n",
       "      <td>10</td>\n",
       "      <td>0</td>\n",
       "      <td>NaN</td>\n",
       "      <td>NaN</td>\n",
       "      <td>0.0</td>\n",
       "    </tr>\n",
       "    <tr>\n",
       "      <th>512129</th>\n",
       "      <td>Sudeste</td>\n",
       "      <td>MG</td>\n",
       "      <td>Ouro Verde de Minas</td>\n",
       "      <td>31</td>\n",
       "      <td>314620.0</td>\n",
       "      <td>31099.0</td>\n",
       "      <td>TEOFILO OTONI / MALACACHETA</td>\n",
       "      <td>2020-07-22</td>\n",
       "      <td>30</td>\n",
       "      <td>5934.0</td>\n",
       "      <td>10</td>\n",
       "      <td>8</td>\n",
       "      <td>2</td>\n",
       "      <td>0</td>\n",
       "      <td>NaN</td>\n",
       "      <td>NaN</td>\n",
       "      <td>0.0</td>\n",
       "    </tr>\n",
       "    <tr>\n",
       "      <th>736143</th>\n",
       "      <td>Sul</td>\n",
       "      <td>PR</td>\n",
       "      <td>Espigão Alto do Iguaçu</td>\n",
       "      <td>41</td>\n",
       "      <td>410754.0</td>\n",
       "      <td>41010.0</td>\n",
       "      <td>10ª RS CASCAVEL</td>\n",
       "      <td>2020-05-19</td>\n",
       "      <td>21</td>\n",
       "      <td>4117.0</td>\n",
       "      <td>0</td>\n",
       "      <td>0</td>\n",
       "      <td>0</td>\n",
       "      <td>0</td>\n",
       "      <td>NaN</td>\n",
       "      <td>NaN</td>\n",
       "      <td>0.0</td>\n",
       "    </tr>\n",
       "    <tr>\n",
       "      <th>56840</th>\n",
       "      <td>Norte</td>\n",
       "      <td>PA</td>\n",
       "      <td>Senador José Porfírio</td>\n",
       "      <td>15</td>\n",
       "      <td>150780.0</td>\n",
       "      <td>15012.0</td>\n",
       "      <td>XINGU</td>\n",
       "      <td>2020-05-09</td>\n",
       "      <td>19</td>\n",
       "      <td>11658.0</td>\n",
       "      <td>3</td>\n",
       "      <td>0</td>\n",
       "      <td>0</td>\n",
       "      <td>0</td>\n",
       "      <td>NaN</td>\n",
       "      <td>NaN</td>\n",
       "      <td>0.0</td>\n",
       "    </tr>\n",
       "    <tr>\n",
       "      <th>123630</th>\n",
       "      <td>Nordeste</td>\n",
       "      <td>MA</td>\n",
       "      <td>Senador La Rocque</td>\n",
       "      <td>21</td>\n",
       "      <td>211176.0</td>\n",
       "      <td>21008.0</td>\n",
       "      <td>IMPERATRIZ</td>\n",
       "      <td>2020-05-10</td>\n",
       "      <td>20</td>\n",
       "      <td>14293.0</td>\n",
       "      <td>10</td>\n",
       "      <td>3</td>\n",
       "      <td>1</td>\n",
       "      <td>1</td>\n",
       "      <td>NaN</td>\n",
       "      <td>NaN</td>\n",
       "      <td>0.0</td>\n",
       "    </tr>\n",
       "  </tbody>\n",
       "</table>\n",
       "</div>"
      ],
      "text/plain": [
       "          regiao estado               municipio  coduf    codmun  \\\n",
       "221131  Nordeste     RN             Pedro Velho     24  240980.0   \n",
       "275385  Nordeste     PE      Barra de Guabiraba     26  260130.0   \n",
       "323036  Nordeste     AL   São Miguel dos Campos     27  270860.0   \n",
       "756819       Sul     PR                Mercedes     41  411585.0   \n",
       "444928   Sudeste     MG                  Catuji     31  311545.0   \n",
       "578783   Sudeste     ES                  Pancas     32  320400.0   \n",
       "512129   Sudeste     MG     Ouro Verde de Minas     31  314620.0   \n",
       "736143       Sul     PR  Espigão Alto do Iguaçu     41  410754.0   \n",
       "56840      Norte     PA   Senador José Porfírio     15  150780.0   \n",
       "123630  Nordeste     MA       Senador La Rocque     21  211176.0   \n",
       "\n",
       "        codRegiaoSaude                          nomeRegiaoSaude       data  \\\n",
       "221131         24001.0  1ª REGIAO DE SAUDE - SAO JOSE DE MIPIBU 2020-09-10   \n",
       "275385         26003.0                                  CARUARU 2020-07-26   \n",
       "323036         27005.0                       5ª REGIAO DE SAUDE 2020-09-12   \n",
       "756819         41020.0                            20ª RS TOLEDO 2020-06-30   \n",
       "444928         31067.0                            PADRE PARAISO 2020-06-02   \n",
       "578783         32001.0                                  CENTRAL 2020-09-06   \n",
       "512129         31099.0              TEOFILO OTONI / MALACACHETA 2020-07-22   \n",
       "736143         41010.0                          10ª RS CASCAVEL 2020-05-19   \n",
       "56840          15012.0                                    XINGU 2020-05-09   \n",
       "123630         21008.0                               IMPERATRIZ 2020-05-10   \n",
       "\n",
       "        semanaEpi  populacaoTCU2019  casosAcumulado  casosNovos  \\\n",
       "221131         37           14806.0             105           0   \n",
       "275385         31           14385.0             139           2   \n",
       "323036         37           61251.0            2082           2   \n",
       "756819         27            5536.0               4           1   \n",
       "444928         23            6311.0               6           0   \n",
       "578783         37           23184.0             521           0   \n",
       "512129         30            5934.0              10           8   \n",
       "736143         21            4117.0               0           0   \n",
       "56840          19           11658.0               3           0   \n",
       "123630         20           14293.0              10           3   \n",
       "\n",
       "        obitosAcumulado  obitosNovos  Recuperadosnovos  emAcompanhamentoNovos  \\\n",
       "221131                2            0               NaN                    NaN   \n",
       "275385               10            0               NaN                    NaN   \n",
       "323036               32            0               NaN                    NaN   \n",
       "756819                0            0               NaN                    NaN   \n",
       "444928                0            0               NaN                    NaN   \n",
       "578783               10            0               NaN                    NaN   \n",
       "512129                2            0               NaN                    NaN   \n",
       "736143                0            0               NaN                    NaN   \n",
       "56840                 0            0               NaN                    NaN   \n",
       "123630                1            1               NaN                    NaN   \n",
       "\n",
       "        interior/metropolitana  \n",
       "221131                     0.0  \n",
       "275385                     0.0  \n",
       "323036                     0.0  \n",
       "756819                     0.0  \n",
       "444928                     0.0  \n",
       "578783                     0.0  \n",
       "512129                     0.0  \n",
       "736143                     0.0  \n",
       "56840                      0.0  \n",
       "123630                     0.0  "
      ]
     },
     "execution_count": 6,
     "metadata": {},
     "output_type": "execute_result"
    }
   ],
   "source": [
    "df.sample(10)"
   ]
  },
  {
   "cell_type": "code",
   "execution_count": 7,
   "metadata": {},
   "outputs": [
    {
     "data": {
      "text/plain": [
       "estado\n",
       "SP    34492\n",
       "RJ    17911\n",
       "CE     8861\n",
       "PE     8085\n",
       "MG     6897\n",
       "PA     6489\n",
       "BA     6408\n",
       "RS     4515\n",
       "GO     4265\n",
       "PR     4244\n",
       "AM     3984\n",
       "MA     3683\n",
       "ES     3452\n",
       "MT     3287\n",
       "DF     3148\n",
       "PB     2741\n",
       "SC     2686\n",
       "RN     2356\n",
       "PI     2061\n",
       "AL     2034\n",
       "SE     1999\n",
       "RO     1320\n",
       "MS     1204\n",
       "TO      890\n",
       "AP      697\n",
       "AC      652\n",
       "RR      616\n",
       "Name: obitosAcumulado, dtype: int64"
      ]
     },
     "execution_count": 7,
     "metadata": {},
     "output_type": "execute_result"
    }
   ],
   "source": [
    "df.groupby('estado')['obitosAcumulado'].max().sort_values(ascending=False)"
   ]
  },
  {
   "cell_type": "code",
   "execution_count": 8,
   "metadata": {},
   "outputs": [
    {
     "data": {
      "text/plain": [
       "<matplotlib.axes._subplots.AxesSubplot at 0x2e9f2a60>"
      ]
     },
     "execution_count": 8,
     "metadata": {},
     "output_type": "execute_result"
    },
    {
     "data": {
      "image/png": "[encoded data removed]",
      "text/plain": [
       "<Figure size 432x288 with 1 Axes>"
      ]
     },
     "metadata": {
      "needs_background": "light"
     },
     "output_type": "display_data"
    }
   ],
   "source": [
    "df.groupby('estado')['obitosAcumulado'].max().sort_values().tail(5).plot(kind='barh')"
   ]
  },
  {
   "cell_type": "code",
   "execution_count": 9,
   "metadata": {},
   "outputs": [],
   "source": [
    "df['data'] = df['data'].dt.strftime('%d/%m')"
   ]
  },
  {
   "cell_type": "code",
   "execution_count": 10,
   "metadata": {},
   "outputs": [
    {
     "data": {
      "text/plain": [
       "<matplotlib.axes._subplots.AxesSubplot at 0x15e7e2c8>"
      ]
     },
     "execution_count": 10,
     "metadata": {},
     "output_type": "execute_result"
    },
    {
     "data": {
      "image/png": "[encoded data removed]",
      "text/plain": [
       "<Figure size 432x288 with 1 Axes>"
      ]
     },
     "metadata": {
      "needs_background": "light"
     },
     "output_type": "display_data"
    }
   ],
   "source": [
    "sp = df.query('municipio == \"São Paulo\"')\n",
    "sp.tail(10).plot(kind='bar', \n",
    "        x='data', y='casosNovos', color='RED')"
   ]
  },
  {
   "cell_type": "code",
   "execution_count": 11,
   "metadata": {},
   "outputs": [
    {
     "data": {
      "text/plain": [
       "<matplotlib.axes._subplots.AxesSubplot at 0x22ac0ec8>"
      ]
     },
     "execution_count": 11,
     "metadata": {},
     "output_type": "execute_result"
    },
    {
     "data": {
      "image/png": "[encoded data removed]",
      "text/plain": [
       "<Figure size 432x288 with 1 Axes>"
      ]
     },
     "metadata": {
      "needs_background": "light"
     },
     "output_type": "display_data"
    }
   ],
   "source": [
    "sp.groupby('semanaEpi')['casosNovos'].sum().plot(kind='bar')"
   ]
  },
  {
   "cell_type": "code",
   "execution_count": 12,
   "metadata": {},
   "outputs": [
    {
     "data": {
      "text/plain": [
       "<matplotlib.axes._subplots.AxesSubplot at 0x218e24c0>"
      ]
     },
     "execution_count": 12,
     "metadata": {},
     "output_type": "execute_result"
    },
    {
     "data": {
      "image/png": "[encoded data removed]",
      "text/plain": [
       "<Figure size 432x288 with 1 Axes>"
      ]
     },
     "metadata": {
      "needs_background": "light"
     },
     "output_type": "display_data"
    }
   ],
   "source": [
    "sjc = df.query('municipio == \"São José dos Campos\"')\n",
    "sjc.tail(10).plot(kind='bar', \n",
    "        x='data', y='casosNovos', color='RED')"
   ]
  },
  {
   "cell_type": "code",
   "execution_count": 13,
   "metadata": {},
   "outputs": [
    {
     "data": {
      "text/plain": [
       "<matplotlib.axes._subplots.AxesSubplot at 0x207569a0>"
      ]
     },
     "execution_count": 13,
     "metadata": {},
     "output_type": "execute_result"
    },
    {
     "data": {
      "image/png": "[encoded data removed]",
      "text/plain": [
       "<Figure size 432x288 with 1 Axes>"
      ]
     },
     "metadata": {
      "needs_background": "light"
     },
     "output_type": "display_data"
    }
   ],
   "source": [
    "sp.groupby('semanaEpi')['casosNovos'].sum().plot(kind='bar')"
   ]
  },
  {
   "cell_type": "code",
   "execution_count": null,
   "metadata": {},
   "outputs": [],
   "source": []
  }
 ],
 "metadata": {
  "kernelspec": {
   "display_name": "Python 3",
   "language": "python",
   "name": "python3"
  },
  "language_info": {
   "codemirror_mode": {
    "name": "ipython",
    "version": 3
   },
   "file_extension": ".py",
   "mimetype": "text/x-python",
   "name": "python",
   "nbconvert_exporter": "python",
   "pygments_lexer": "ipython3",
   "version": "3.8.2"
  }
 },
 "nbformat": 4,
 "nbformat_minor": 4
}
