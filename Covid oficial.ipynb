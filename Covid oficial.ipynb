{
 "cells": [
  {
   "cell_type": "markdown",
   "metadata": {},
   "source": [
    "#### Os dados, até a data do presente estudo, estão no https://covid.saude.gov.br/\n",
    "#### O presente arquivo é de 8 de julho. Atenção: de acordo com o dia em que for feita a análise, a última barra da totalização por semana estará menor.\n",
    "#### Disclaimer/Aviso Legal: Este notebook tem um fim única e exclusivamente didático, para alunos da FATEC, como uma introdução à Análise de Dados Públicos. Desse modo, está excluída a garantia ou responsabilidade de qualquer tipo, por exemplo, de precisão, confiabilidade, completude e atualidade das informações."
   ]
  },
  {
   "cell_type": "code",
   "execution_count": 1,
   "metadata": {},
   "outputs": [],
   "source": [
    "import pandas as pd\n",
    "low_memory=False\n",
    "import matplotlib.pyplot as plt\n",
    "%matplotlib inline\n",
    "pd.options.display.max_columns = 80\n",
    "pd.options.display.max_rows = 90"
   ]
  },
  {
   "cell_type": "code",
   "execution_count": 2,
   "metadata": {},
   "outputs": [],
   "source": [
    "filename = r'C:\\Users\\fmasa\\Downloads\\HIST_PAINEL_COVIDBR_08jul2020.xlsx'\n",
    "df = pd.read_excel(filename)"
   ]
  },
  {
   "cell_type": "code",
   "execution_count": 3,
   "metadata": {},
   "outputs": [
    {
     "data": {
      "text/plain": [
       "(568708, 17)"
      ]
     },
     "execution_count": 3,
     "metadata": {},
     "output_type": "execute_result"
    }
   ],
   "source": [
    "df.shape"
   ]
  },
  {
   "cell_type": "code",
   "execution_count": 4,
   "metadata": {},
   "outputs": [
    {
     "name": "stdout",
     "output_type": "stream",
     "text": [
      "<class 'pandas.core.frame.DataFrame'>\n",
      "RangeIndex: 568708 entries, 0 to 568707\n",
      "Data columns (total 17 columns):\n",
      " #   Column                  Non-Null Count   Dtype         \n",
      "---  ------                  --------------   -----         \n",
      " 0   regiao                  568708 non-null  object        \n",
      " 1   estado                  568573 non-null  object        \n",
      " 2   municipio               562744 non-null  object        \n",
      " 3   coduf                   568708 non-null  int64         \n",
      " 4   codmun                  564928 non-null  float64       \n",
      " 5   codRegiaoSaude          562744 non-null  float64       \n",
      " 6   nomeRegiaoSaude         562744 non-null  object        \n",
      " 7   data                    568708 non-null  datetime64[ns]\n",
      " 8   semanaEpi               568708 non-null  int64         \n",
      " 9   populacaoTCU2019        566524 non-null  object        \n",
      " 10  casosAcumulado          568708 non-null  int64         \n",
      " 11  casosNovos              568708 non-null  int64         \n",
      " 12  obitosAcumulado         568708 non-null  int64         \n",
      " 13  obitosNovos             568708 non-null  int64         \n",
      " 14  Recuperadosnovos        81 non-null      float64       \n",
      " 15  emAcompanhamentoNovos   81 non-null      float64       \n",
      " 16  interior/metropolitana  562744 non-null  float64       \n",
      "dtypes: datetime64[ns](1), float64(5), int64(6), object(5)\n",
      "memory usage: 62.9+ MB\n"
     ]
    }
   ],
   "source": [
    "df.info()"
   ]
  },
  {
   "cell_type": "code",
   "execution_count": 5,
   "metadata": {},
   "outputs": [
    {
     "data": {
      "text/html": [
       "<div>\n",
       "<style scoped>\n",
       "    .dataframe tbody tr th:only-of-type {\n",
       "        vertical-align: middle;\n",
       "    }\n",
       "\n",
       "    .dataframe tbody tr th {\n",
       "        vertical-align: top;\n",
       "    }\n",
       "\n",
       "    .dataframe thead th {\n",
       "        text-align: right;\n",
       "    }\n",
       "</style>\n",
       "<table border=\"1\" class=\"dataframe\">\n",
       "  <thead>\n",
       "    <tr style=\"text-align: right;\">\n",
       "      <th></th>\n",
       "      <th>regiao</th>\n",
       "      <th>estado</th>\n",
       "      <th>municipio</th>\n",
       "      <th>coduf</th>\n",
       "      <th>codmun</th>\n",
       "      <th>codRegiaoSaude</th>\n",
       "      <th>nomeRegiaoSaude</th>\n",
       "      <th>data</th>\n",
       "      <th>semanaEpi</th>\n",
       "      <th>populacaoTCU2019</th>\n",
       "      <th>casosAcumulado</th>\n",
       "      <th>casosNovos</th>\n",
       "      <th>obitosAcumulado</th>\n",
       "      <th>obitosNovos</th>\n",
       "      <th>Recuperadosnovos</th>\n",
       "      <th>emAcompanhamentoNovos</th>\n",
       "      <th>interior/metropolitana</th>\n",
       "    </tr>\n",
       "  </thead>\n",
       "  <tbody>\n",
       "    <tr>\n",
       "      <th>491105</th>\n",
       "      <td>Sul</td>\n",
       "      <td>RS</td>\n",
       "      <td>Erval Seco</td>\n",
       "      <td>43</td>\n",
       "      <td>430730.0</td>\n",
       "      <td>43015.0</td>\n",
       "      <td>REGIAO 15</td>\n",
       "      <td>2020-06-20</td>\n",
       "      <td>25</td>\n",
       "      <td>6912</td>\n",
       "      <td>0</td>\n",
       "      <td>0</td>\n",
       "      <td>0</td>\n",
       "      <td>0</td>\n",
       "      <td>NaN</td>\n",
       "      <td>NaN</td>\n",
       "      <td>0.0</td>\n",
       "    </tr>\n",
       "    <tr>\n",
       "      <th>502944</th>\n",
       "      <td>Sul</td>\n",
       "      <td>RS</td>\n",
       "      <td>Nova Prata</td>\n",
       "      <td>43</td>\n",
       "      <td>431330.0</td>\n",
       "      <td>43025.0</td>\n",
       "      <td>REGIAO 25</td>\n",
       "      <td>2020-06-03</td>\n",
       "      <td>23</td>\n",
       "      <td>27257</td>\n",
       "      <td>19</td>\n",
       "      <td>2</td>\n",
       "      <td>0</td>\n",
       "      <td>0</td>\n",
       "      <td>NaN</td>\n",
       "      <td>NaN</td>\n",
       "      <td>0.0</td>\n",
       "    </tr>\n",
       "    <tr>\n",
       "      <th>118304</th>\n",
       "      <td>Nordeste</td>\n",
       "      <td>RN</td>\n",
       "      <td>Espírito Santo</td>\n",
       "      <td>24</td>\n",
       "      <td>240350.0</td>\n",
       "      <td>24001.0</td>\n",
       "      <td>1ª REGIAO DE SAUDE - SAO JOSE DE MIPIBU</td>\n",
       "      <td>2020-04-16</td>\n",
       "      <td>16</td>\n",
       "      <td>10505</td>\n",
       "      <td>0</td>\n",
       "      <td>0</td>\n",
       "      <td>0</td>\n",
       "      <td>0</td>\n",
       "      <td>NaN</td>\n",
       "      <td>NaN</td>\n",
       "      <td>0.0</td>\n",
       "    </tr>\n",
       "    <tr>\n",
       "      <th>295744</th>\n",
       "      <td>Sudeste</td>\n",
       "      <td>MG</td>\n",
       "      <td>Pescador</td>\n",
       "      <td>31</td>\n",
       "      <td>315000.0</td>\n",
       "      <td>31096.0</td>\n",
       "      <td>ITAMBACURI</td>\n",
       "      <td>2020-05-02</td>\n",
       "      <td>18</td>\n",
       "      <td>4252</td>\n",
       "      <td>0</td>\n",
       "      <td>0</td>\n",
       "      <td>0</td>\n",
       "      <td>0</td>\n",
       "      <td>NaN</td>\n",
       "      <td>NaN</td>\n",
       "      <td>0.0</td>\n",
       "    </tr>\n",
       "    <tr>\n",
       "      <th>195555</th>\n",
       "      <td>Nordeste</td>\n",
       "      <td>BA</td>\n",
       "      <td>Aramari</td>\n",
       "      <td>29</td>\n",
       "      <td>290220.0</td>\n",
       "      <td>29001.0</td>\n",
       "      <td>ALAGOINHAS</td>\n",
       "      <td>2020-07-08</td>\n",
       "      <td>28</td>\n",
       "      <td>11397</td>\n",
       "      <td>10</td>\n",
       "      <td>1</td>\n",
       "      <td>0</td>\n",
       "      <td>0</td>\n",
       "      <td>NaN</td>\n",
       "      <td>NaN</td>\n",
       "      <td>0.0</td>\n",
       "    </tr>\n",
       "    <tr>\n",
       "      <th>94300</th>\n",
       "      <td>Nordeste</td>\n",
       "      <td>PI</td>\n",
       "      <td>Uruçuí</td>\n",
       "      <td>22</td>\n",
       "      <td>221120.0</td>\n",
       "      <td>22007.0</td>\n",
       "      <td>TABULEIROS DO ALTO PARNAIBA</td>\n",
       "      <td>2020-05-06</td>\n",
       "      <td>19</td>\n",
       "      <td>21558</td>\n",
       "      <td>9</td>\n",
       "      <td>2</td>\n",
       "      <td>0</td>\n",
       "      <td>0</td>\n",
       "      <td>NaN</td>\n",
       "      <td>NaN</td>\n",
       "      <td>0.0</td>\n",
       "    </tr>\n",
       "    <tr>\n",
       "      <th>341134</th>\n",
       "      <td>Sudeste</td>\n",
       "      <td>RJ</td>\n",
       "      <td>Trajano de Moraes</td>\n",
       "      <td>33</td>\n",
       "      <td>330590.0</td>\n",
       "      <td>33009.0</td>\n",
       "      <td>SERRANA</td>\n",
       "      <td>2020-06-17</td>\n",
       "      <td>25</td>\n",
       "      <td>10626</td>\n",
       "      <td>30</td>\n",
       "      <td>0</td>\n",
       "      <td>0</td>\n",
       "      <td>0</td>\n",
       "      <td>NaN</td>\n",
       "      <td>NaN</td>\n",
       "      <td>0.0</td>\n",
       "    </tr>\n",
       "    <tr>\n",
       "      <th>482675</th>\n",
       "      <td>Sul</td>\n",
       "      <td>RS</td>\n",
       "      <td>Cacique Doble</td>\n",
       "      <td>43</td>\n",
       "      <td>430320.0</td>\n",
       "      <td>43018.0</td>\n",
       "      <td>REGIAO 18</td>\n",
       "      <td>2020-06-14</td>\n",
       "      <td>25</td>\n",
       "      <td>5065</td>\n",
       "      <td>2</td>\n",
       "      <td>0</td>\n",
       "      <td>0</td>\n",
       "      <td>0</td>\n",
       "      <td>NaN</td>\n",
       "      <td>NaN</td>\n",
       "      <td>0.0</td>\n",
       "    </tr>\n",
       "    <tr>\n",
       "      <th>176495</th>\n",
       "      <td>Nordeste</td>\n",
       "      <td>AL</td>\n",
       "      <td>Coqueiro Seco</td>\n",
       "      <td>27</td>\n",
       "      <td>270220.0</td>\n",
       "      <td>27001.0</td>\n",
       "      <td>1ª REGIAO DE SAUDE</td>\n",
       "      <td>2020-06-10</td>\n",
       "      <td>24</td>\n",
       "      <td>5845</td>\n",
       "      <td>77</td>\n",
       "      <td>8</td>\n",
       "      <td>2</td>\n",
       "      <td>0</td>\n",
       "      <td>NaN</td>\n",
       "      <td>NaN</td>\n",
       "      <td>1.0</td>\n",
       "    </tr>\n",
       "    <tr>\n",
       "      <th>154659</th>\n",
       "      <td>Nordeste</td>\n",
       "      <td>PB</td>\n",
       "      <td>Zabelê</td>\n",
       "      <td>25</td>\n",
       "      <td>251740.0</td>\n",
       "      <td>25005.0</td>\n",
       "      <td>5ª REGIAO</td>\n",
       "      <td>2020-06-14</td>\n",
       "      <td>25</td>\n",
       "      <td>2240</td>\n",
       "      <td>0</td>\n",
       "      <td>0</td>\n",
       "      <td>0</td>\n",
       "      <td>0</td>\n",
       "      <td>NaN</td>\n",
       "      <td>NaN</td>\n",
       "      <td>0.0</td>\n",
       "    </tr>\n",
       "  </tbody>\n",
       "</table>\n",
       "</div>"
      ],
      "text/plain": [
       "          regiao estado          municipio  coduf    codmun  codRegiaoSaude  \\\n",
       "491105       Sul     RS         Erval Seco     43  430730.0         43015.0   \n",
       "502944       Sul     RS         Nova Prata     43  431330.0         43025.0   \n",
       "118304  Nordeste     RN     Espírito Santo     24  240350.0         24001.0   \n",
       "295744   Sudeste     MG           Pescador     31  315000.0         31096.0   \n",
       "195555  Nordeste     BA            Aramari     29  290220.0         29001.0   \n",
       "94300   Nordeste     PI             Uruçuí     22  221120.0         22007.0   \n",
       "341134   Sudeste     RJ  Trajano de Moraes     33  330590.0         33009.0   \n",
       "482675       Sul     RS      Cacique Doble     43  430320.0         43018.0   \n",
       "176495  Nordeste     AL      Coqueiro Seco     27  270220.0         27001.0   \n",
       "154659  Nordeste     PB             Zabelê     25  251740.0         25005.0   \n",
       "\n",
       "                                nomeRegiaoSaude       data  semanaEpi  \\\n",
       "491105                                REGIAO 15 2020-06-20         25   \n",
       "502944                                REGIAO 25 2020-06-03         23   \n",
       "118304  1ª REGIAO DE SAUDE - SAO JOSE DE MIPIBU 2020-04-16         16   \n",
       "295744                               ITAMBACURI 2020-05-02         18   \n",
       "195555                               ALAGOINHAS 2020-07-08         28   \n",
       "94300               TABULEIROS DO ALTO PARNAIBA 2020-05-06         19   \n",
       "341134                                  SERRANA 2020-06-17         25   \n",
       "482675                                REGIAO 18 2020-06-14         25   \n",
       "176495                       1ª REGIAO DE SAUDE 2020-06-10         24   \n",
       "154659                                5ª REGIAO 2020-06-14         25   \n",
       "\n",
       "       populacaoTCU2019  casosAcumulado  casosNovos  obitosAcumulado  \\\n",
       "491105             6912               0           0                0   \n",
       "502944            27257              19           2                0   \n",
       "118304            10505               0           0                0   \n",
       "295744             4252               0           0                0   \n",
       "195555            11397              10           1                0   \n",
       "94300             21558               9           2                0   \n",
       "341134            10626              30           0                0   \n",
       "482675             5065               2           0                0   \n",
       "176495             5845              77           8                2   \n",
       "154659             2240               0           0                0   \n",
       "\n",
       "        obitosNovos  Recuperadosnovos  emAcompanhamentoNovos  \\\n",
       "491105            0               NaN                    NaN   \n",
       "502944            0               NaN                    NaN   \n",
       "118304            0               NaN                    NaN   \n",
       "295744            0               NaN                    NaN   \n",
       "195555            0               NaN                    NaN   \n",
       "94300             0               NaN                    NaN   \n",
       "341134            0               NaN                    NaN   \n",
       "482675            0               NaN                    NaN   \n",
       "176495            0               NaN                    NaN   \n",
       "154659            0               NaN                    NaN   \n",
       "\n",
       "        interior/metropolitana  \n",
       "491105                     0.0  \n",
       "502944                     0.0  \n",
       "118304                     0.0  \n",
       "295744                     0.0  \n",
       "195555                     0.0  \n",
       "94300                      0.0  \n",
       "341134                     0.0  \n",
       "482675                     0.0  \n",
       "176495                     1.0  \n",
       "154659                     0.0  "
      ]
     },
     "execution_count": 5,
     "metadata": {},
     "output_type": "execute_result"
    }
   ],
   "source": [
    "df.sample(10)"
   ]
  },
  {
   "cell_type": "code",
   "execution_count": 6,
   "metadata": {},
   "outputs": [
    {
     "data": {
      "text/plain": [
       "estado\n",
       "SP    16788\n",
       "RJ    10970\n",
       "CE     6665\n",
       "PE     5323\n",
       "PA     5169\n",
       "AM     2967\n",
       "MA     2324\n",
       "BA     2277\n",
       "ES     1911\n",
       "MG     1355\n",
       "RN     1326\n",
       "AL     1213\n",
       "PB     1171\n",
       "PR      895\n",
       "MT      882\n",
       "SE      875\n",
       "PI      858\n",
       "RS      825\n",
       "DF      801\n",
       "GO      733\n",
       "RO      585\n",
       "AP      462\n",
       "SC      432\n",
       "AC      404\n",
       "RR      386\n",
       "TO      233\n",
       "MS      134\n",
       "Name: obitosAcumulado, dtype: int64"
      ]
     },
     "execution_count": 6,
     "metadata": {},
     "output_type": "execute_result"
    }
   ],
   "source": [
    "df.groupby('estado')['obitosAcumulado'].max().sort_values(ascending=False)"
   ]
  },
  {
   "cell_type": "code",
   "execution_count": 7,
   "metadata": {},
   "outputs": [
    {
     "data": {
      "text/plain": [
       "<matplotlib.axes._subplots.AxesSubplot at 0x1d24fb20>"
      ]
     },
     "execution_count": 7,
     "metadata": {},
     "output_type": "execute_result"
    },
    {
     "data": {
      "image/png": "[encoded data removed]",
      "text/plain": [
       "<Figure size 432x288 with 1 Axes>"
      ]
     },
     "metadata": {
      "needs_background": "light"
     },
     "output_type": "display_data"
    }
   ],
   "source": [
    "df.groupby('estado')['obitosAcumulado'].max().sort_values().tail(5).plot(kind='barh')"
   ]
  },
  {
   "cell_type": "code",
   "execution_count": 8,
   "metadata": {},
   "outputs": [],
   "source": [
    "df['data'] = df['data'].dt.strftime('%d/%m')"
   ]
  },
  {
   "cell_type": "code",
   "execution_count": 9,
   "metadata": {},
   "outputs": [
    {
     "data": {
      "text/plain": [
       "<matplotlib.axes._subplots.AxesSubplot at 0x17d356d0>"
      ]
     },
     "execution_count": 9,
     "metadata": {},
     "output_type": "execute_result"
    },
    {
     "data": {
      "image/png": "[encoded data removed]",
      "text/plain": [
       "<Figure size 432x288 with 1 Axes>"
      ]
     },
     "metadata": {
      "needs_background": "light"
     },
     "output_type": "display_data"
    }
   ],
   "source": [
    "sp = df.query('municipio == \"São Paulo\"')\n",
    "sp.tail(10).plot(kind='bar', \n",
    "        x='data', y='casosNovos', color='RED')"
   ]
  },
  {
   "cell_type": "code",
   "execution_count": 10,
   "metadata": {},
   "outputs": [
    {
     "data": {
      "text/plain": [
       "<matplotlib.axes._subplots.AxesSubplot at 0x107c3490>"
      ]
     },
     "execution_count": 10,
     "metadata": {},
     "output_type": "execute_result"
    },
    {
     "data": {
      "image/png": "[encoded data removed]",
      "text/plain": [
       "<Figure size 432x288 with 1 Axes>"
      ]
     },
     "metadata": {
      "needs_background": "light"
     },
     "output_type": "display_data"
    }
   ],
   "source": [
    "sp.groupby('semanaEpi')['casosNovos'].sum().plot(kind='bar')"
   ]
  },
  {
   "cell_type": "code",
   "execution_count": 11,
   "metadata": {},
   "outputs": [
    {
     "data": {
      "text/plain": [
       "<matplotlib.axes._subplots.AxesSubplot at 0x1009a820>"
      ]
     },
     "execution_count": 11,
     "metadata": {},
     "output_type": "execute_result"
    },
    {
     "data": {
      "image/png": "[encoded data removed]",
      "text/plain": [
       "<Figure size 432x288 with 1 Axes>"
      ]
     },
     "metadata": {
      "needs_background": "light"
     },
     "output_type": "display_data"
    }
   ],
   "source": [
    "sjc = df.query('municipio == \"São José dos Campos\"')\n",
    "sjc.tail(10).plot(kind='bar', \n",
    "        x='data', y='casosNovos', color='RED')"
   ]
  },
  {
   "cell_type": "code",
   "execution_count": 12,
   "metadata": {},
   "outputs": [
    {
     "data": {
      "text/plain": [
       "<matplotlib.axes._subplots.AxesSubplot at 0xff98310>"
      ]
     },
     "execution_count": 12,
     "metadata": {},
     "output_type": "execute_result"
    },
    {
     "data": {
      "image/png": "[encoded data removed]",
      "text/plain": [
       "<Figure size 432x288 with 1 Axes>"
      ]
     },
     "metadata": {
      "needs_background": "light"
     },
     "output_type": "display_data"
    }
   ],
   "source": [
    "sp.groupby('semanaEpi')['casosNovos'].sum().plot(kind='bar')"
   ]
  },
  {
   "cell_type": "code",
   "execution_count": null,
   "metadata": {},
   "outputs": [],
   "source": []
  }
 ],
 "metadata": {
  "kernelspec": {
   "display_name": "Python 3",
   "language": "python",
   "name": "python3"
  },
  "language_info": {
   "codemirror_mode": {
    "name": "ipython",
    "version": 3
   },
   "file_extension": ".py",
   "mimetype": "text/x-python",
   "name": "python",
   "nbconvert_exporter": "python",
   "pygments_lexer": "ipython3",
   "version": "3.8.2"
  }
 },
 "nbformat": 4,
 "nbformat_minor": 4
}
