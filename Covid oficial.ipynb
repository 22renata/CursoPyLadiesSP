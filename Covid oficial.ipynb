{
 "cells": [
  {
   "cell_type": "markdown",
   "metadata": {},
   "source": [
    "#### Os dados, até a data do presente estudo, estão no https://covid.saude.gov.br/\n",
    "#### O presente arquivo é de 4 de novembro. Atenção: de acordo com o dia em que for feita a análise, a última barra da totalização por semana estará menor.\n",
    "#### Disclaimer/Aviso Legal: Este notebook tem um fim única e exclusivamente didático, para alunos da FATEC, como uma introdução à Análise de Dados Públicos. Desse modo, está excluída a garantia ou responsabilidade de qualquer tipo, por exemplo, de precisão, confiabilidade, completude e atualidade das informações."
   ]
  },
  {
   "cell_type": "code",
   "execution_count": 1,
   "metadata": {},
   "outputs": [],
   "source": [
    "import pandas as pd\n",
    "low_memory=False\n",
    "import matplotlib.pyplot as plt\n",
    "%matplotlib inline\n",
    "pd.options.display.max_columns = 80\n",
    "pd.options.display.max_rows = 90"
   ]
  },
  {
   "cell_type": "code",
   "execution_count": 2,
   "metadata": {},
   "outputs": [],
   "source": [
    "filename = r'C:\\Users\\fmasa\\Downloads\\HIST_PAINEL_COVIDBR_04nov2020.csv'\n",
    "df = pd.read_csv(filename, delimiter=';',\n",
    "                 error_bad_lines=False)"
   ]
  },
  {
   "cell_type": "code",
   "execution_count": 3,
   "metadata": {},
   "outputs": [
    {
     "data": {
      "text/plain": [
       "(1253905, 17)"
      ]
     },
     "execution_count": 3,
     "metadata": {},
     "output_type": "execute_result"
    }
   ],
   "source": [
    "df.shape"
   ]
  },
  {
   "cell_type": "code",
   "execution_count": 4,
   "metadata": {},
   "outputs": [
    {
     "name": "stdout",
     "output_type": "stream",
     "text": [
      "<class 'pandas.core.frame.DataFrame'>\n",
      "RangeIndex: 1253905 entries, 0 to 1253904\n",
      "Data columns (total 17 columns):\n",
      " #   Column                  Non-Null Count    Dtype  \n",
      "---  ------                  --------------    -----  \n",
      " 0   regiao                  1253905 non-null  object \n",
      " 1   estado                  1253651 non-null  object \n",
      " 2   municipio               1242110 non-null  object \n",
      " 3   coduf                   1253905 non-null  int64  \n",
      " 4   codmun                  1246793 non-null  float64\n",
      " 5   codRegiaoSaude          1242110 non-null  float64\n",
      " 6   nomeRegiaoSaude         1242110 non-null  object \n",
      " 7   data                    1253905 non-null  object \n",
      " 8   semanaEpi               1253905 non-null  int64  \n",
      " 9   populacaoTCU2019        1249222 non-null  float64\n",
      " 10  casosAcumulado          1253905 non-null  int64  \n",
      " 11  casosNovos              1253905 non-null  int64  \n",
      " 12  obitosAcumulado         1253905 non-null  int64  \n",
      " 13  obitosNovos             1253905 non-null  int64  \n",
      " 14  Recuperadosnovos        200 non-null      float64\n",
      " 15  emAcompanhamentoNovos   200 non-null      float64\n",
      " 16  interior/metropolitana  1242110 non-null  float64\n",
      "dtypes: float64(6), int64(6), object(5)\n",
      "memory usage: 138.7+ MB\n"
     ]
    }
   ],
   "source": [
    "df.info()"
   ]
  },
  {
   "cell_type": "code",
   "execution_count": 5,
   "metadata": {},
   "outputs": [
    {
     "data": {
      "text/html": [
       "<div>\n",
       "<style scoped>\n",
       "    .dataframe tbody tr th:only-of-type {\n",
       "        vertical-align: middle;\n",
       "    }\n",
       "\n",
       "    .dataframe tbody tr th {\n",
       "        vertical-align: top;\n",
       "    }\n",
       "\n",
       "    .dataframe thead th {\n",
       "        text-align: right;\n",
       "    }\n",
       "</style>\n",
       "<table border=\"1\" class=\"dataframe\">\n",
       "  <thead>\n",
       "    <tr style=\"text-align: right;\">\n",
       "      <th></th>\n",
       "      <th>regiao</th>\n",
       "      <th>estado</th>\n",
       "      <th>municipio</th>\n",
       "      <th>coduf</th>\n",
       "      <th>codmun</th>\n",
       "      <th>codRegiaoSaude</th>\n",
       "      <th>nomeRegiaoSaude</th>\n",
       "      <th>data</th>\n",
       "      <th>semanaEpi</th>\n",
       "      <th>populacaoTCU2019</th>\n",
       "      <th>casosAcumulado</th>\n",
       "      <th>casosNovos</th>\n",
       "      <th>obitosAcumulado</th>\n",
       "      <th>obitosNovos</th>\n",
       "      <th>Recuperadosnovos</th>\n",
       "      <th>emAcompanhamentoNovos</th>\n",
       "      <th>interior/metropolitana</th>\n",
       "    </tr>\n",
       "  </thead>\n",
       "  <tbody>\n",
       "    <tr>\n",
       "      <th>914596</th>\n",
       "      <td>Sul</td>\n",
       "      <td>PR</td>\n",
       "      <td>Ibiporã</td>\n",
       "      <td>41</td>\n",
       "      <td>410980.0</td>\n",
       "      <td>41017.0</td>\n",
       "      <td>17ª RS LONDRINA</td>\n",
       "      <td>2020-07-02</td>\n",
       "      <td>27</td>\n",
       "      <td>54558.0</td>\n",
       "      <td>51</td>\n",
       "      <td>1</td>\n",
       "      <td>1</td>\n",
       "      <td>0</td>\n",
       "      <td>NaN</td>\n",
       "      <td>NaN</td>\n",
       "      <td>0.0</td>\n",
       "    </tr>\n",
       "    <tr>\n",
       "      <th>333203</th>\n",
       "      <td>Nordeste</td>\n",
       "      <td>PB</td>\n",
       "      <td>Tacima</td>\n",
       "      <td>25</td>\n",
       "      <td>251640.0</td>\n",
       "      <td>25002.0</td>\n",
       "      <td>2ª REGIAO</td>\n",
       "      <td>2020-05-31</td>\n",
       "      <td>23</td>\n",
       "      <td>10911.0</td>\n",
       "      <td>17</td>\n",
       "      <td>3</td>\n",
       "      <td>1</td>\n",
       "      <td>0</td>\n",
       "      <td>NaN</td>\n",
       "      <td>NaN</td>\n",
       "      <td>0.0</td>\n",
       "    </tr>\n",
       "    <tr>\n",
       "      <th>1036680</th>\n",
       "      <td>Sul</td>\n",
       "      <td>SC</td>\n",
       "      <td>Videira</td>\n",
       "      <td>42</td>\n",
       "      <td>421930.0</td>\n",
       "      <td>42009.0</td>\n",
       "      <td>ALTO VALE DO RIO DO PEIXE</td>\n",
       "      <td>2020-10-13</td>\n",
       "      <td>42</td>\n",
       "      <td>53065.0</td>\n",
       "      <td>1757</td>\n",
       "      <td>0</td>\n",
       "      <td>16</td>\n",
       "      <td>0</td>\n",
       "      <td>NaN</td>\n",
       "      <td>NaN</td>\n",
       "      <td>0.0</td>\n",
       "    </tr>\n",
       "    <tr>\n",
       "      <th>893264</th>\n",
       "      <td>Sul</td>\n",
       "      <td>PR</td>\n",
       "      <td>Braganey</td>\n",
       "      <td>41</td>\n",
       "      <td>410335.0</td>\n",
       "      <td>41010.0</td>\n",
       "      <td>10ª RS CASCAVEL</td>\n",
       "      <td>2020-09-16</td>\n",
       "      <td>38</td>\n",
       "      <td>5427.0</td>\n",
       "      <td>53</td>\n",
       "      <td>0</td>\n",
       "      <td>2</td>\n",
       "      <td>0</td>\n",
       "      <td>NaN</td>\n",
       "      <td>NaN</td>\n",
       "      <td>0.0</td>\n",
       "    </tr>\n",
       "    <tr>\n",
       "      <th>1241208</th>\n",
       "      <td>Centro-Oeste</td>\n",
       "      <td>GO</td>\n",
       "      <td>Portelândia</td>\n",
       "      <td>52</td>\n",
       "      <td>521810.0</td>\n",
       "      <td>52016.0</td>\n",
       "      <td>SUDOESTE II</td>\n",
       "      <td>2020-04-10</td>\n",
       "      <td>15</td>\n",
       "      <td>4011.0</td>\n",
       "      <td>0</td>\n",
       "      <td>0</td>\n",
       "      <td>0</td>\n",
       "      <td>0</td>\n",
       "      <td>NaN</td>\n",
       "      <td>NaN</td>\n",
       "      <td>0.0</td>\n",
       "    </tr>\n",
       "    <tr>\n",
       "      <th>33740</th>\n",
       "      <td>Norte</td>\n",
       "      <td>AM</td>\n",
       "      <td>Novo Aripuanã</td>\n",
       "      <td>13</td>\n",
       "      <td>130330.0</td>\n",
       "      <td>13003.0</td>\n",
       "      <td>RIO MADEIRA</td>\n",
       "      <td>2020-06-26</td>\n",
       "      <td>26</td>\n",
       "      <td>25644.0</td>\n",
       "      <td>405</td>\n",
       "      <td>1</td>\n",
       "      <td>9</td>\n",
       "      <td>0</td>\n",
       "      <td>NaN</td>\n",
       "      <td>NaN</td>\n",
       "      <td>0.0</td>\n",
       "    </tr>\n",
       "    <tr>\n",
       "      <th>327124</th>\n",
       "      <td>Nordeste</td>\n",
       "      <td>PB</td>\n",
       "      <td>São José de Caiana</td>\n",
       "      <td>25</td>\n",
       "      <td>251430.0</td>\n",
       "      <td>25007.0</td>\n",
       "      <td>7ª REGIAO</td>\n",
       "      <td>2020-04-03</td>\n",
       "      <td>14</td>\n",
       "      <td>6359.0</td>\n",
       "      <td>0</td>\n",
       "      <td>0</td>\n",
       "      <td>0</td>\n",
       "      <td>0</td>\n",
       "      <td>NaN</td>\n",
       "      <td>NaN</td>\n",
       "      <td>0.0</td>\n",
       "    </tr>\n",
       "    <tr>\n",
       "      <th>870484</th>\n",
       "      <td>Sudeste</td>\n",
       "      <td>SP</td>\n",
       "      <td>Taboão da Serra</td>\n",
       "      <td>35</td>\n",
       "      <td>355280.0</td>\n",
       "      <td>35013.0</td>\n",
       "      <td>MANANCIAIS</td>\n",
       "      <td>2020-08-13</td>\n",
       "      <td>33</td>\n",
       "      <td>289664.0</td>\n",
       "      <td>4848</td>\n",
       "      <td>110</td>\n",
       "      <td>223</td>\n",
       "      <td>2</td>\n",
       "      <td>NaN</td>\n",
       "      <td>NaN</td>\n",
       "      <td>1.0</td>\n",
       "    </tr>\n",
       "    <tr>\n",
       "      <th>1183639</th>\n",
       "      <td>Centro-Oeste</td>\n",
       "      <td>MT</td>\n",
       "      <td>Nova Lacerda</td>\n",
       "      <td>51</td>\n",
       "      <td>510618.0</td>\n",
       "      <td>51012.0</td>\n",
       "      <td>SUDOESTE MATOGROSSENSE</td>\n",
       "      <td>2020-10-15</td>\n",
       "      <td>42</td>\n",
       "      <td>6640.0</td>\n",
       "      <td>159</td>\n",
       "      <td>0</td>\n",
       "      <td>4</td>\n",
       "      <td>0</td>\n",
       "      <td>NaN</td>\n",
       "      <td>NaN</td>\n",
       "      <td>0.0</td>\n",
       "    </tr>\n",
       "    <tr>\n",
       "      <th>647639</th>\n",
       "      <td>Sudeste</td>\n",
       "      <td>MG</td>\n",
       "      <td>Prados</td>\n",
       "      <td>31</td>\n",
       "      <td>315270.0</td>\n",
       "      <td>31015.0</td>\n",
       "      <td>SAO JOAO DEL REI</td>\n",
       "      <td>2020-06-06</td>\n",
       "      <td>23</td>\n",
       "      <td>9031.0</td>\n",
       "      <td>0</td>\n",
       "      <td>0</td>\n",
       "      <td>0</td>\n",
       "      <td>0</td>\n",
       "      <td>NaN</td>\n",
       "      <td>NaN</td>\n",
       "      <td>0.0</td>\n",
       "    </tr>\n",
       "  </tbody>\n",
       "</table>\n",
       "</div>"
      ],
      "text/plain": [
       "               regiao estado           municipio  coduf    codmun  \\\n",
       "914596            Sul     PR             Ibiporã     41  410980.0   \n",
       "333203       Nordeste     PB              Tacima     25  251640.0   \n",
       "1036680           Sul     SC             Videira     42  421930.0   \n",
       "893264            Sul     PR            Braganey     41  410335.0   \n",
       "1241208  Centro-Oeste     GO         Portelândia     52  521810.0   \n",
       "33740           Norte     AM       Novo Aripuanã     13  130330.0   \n",
       "327124       Nordeste     PB  São José de Caiana     25  251430.0   \n",
       "870484        Sudeste     SP     Taboão da Serra     35  355280.0   \n",
       "1183639  Centro-Oeste     MT        Nova Lacerda     51  510618.0   \n",
       "647639        Sudeste     MG              Prados     31  315270.0   \n",
       "\n",
       "         codRegiaoSaude            nomeRegiaoSaude        data  semanaEpi  \\\n",
       "914596          41017.0            17ª RS LONDRINA  2020-07-02         27   \n",
       "333203          25002.0                  2ª REGIAO  2020-05-31         23   \n",
       "1036680         42009.0  ALTO VALE DO RIO DO PEIXE  2020-10-13         42   \n",
       "893264          41010.0            10ª RS CASCAVEL  2020-09-16         38   \n",
       "1241208         52016.0                SUDOESTE II  2020-04-10         15   \n",
       "33740           13003.0                RIO MADEIRA  2020-06-26         26   \n",
       "327124          25007.0                  7ª REGIAO  2020-04-03         14   \n",
       "870484          35013.0                 MANANCIAIS  2020-08-13         33   \n",
       "1183639         51012.0     SUDOESTE MATOGROSSENSE  2020-10-15         42   \n",
       "647639          31015.0           SAO JOAO DEL REI  2020-06-06         23   \n",
       "\n",
       "         populacaoTCU2019  casosAcumulado  casosNovos  obitosAcumulado  \\\n",
       "914596            54558.0              51           1                1   \n",
       "333203            10911.0              17           3                1   \n",
       "1036680           53065.0            1757           0               16   \n",
       "893264             5427.0              53           0                2   \n",
       "1241208            4011.0               0           0                0   \n",
       "33740             25644.0             405           1                9   \n",
       "327124             6359.0               0           0                0   \n",
       "870484           289664.0            4848         110              223   \n",
       "1183639            6640.0             159           0                4   \n",
       "647639             9031.0               0           0                0   \n",
       "\n",
       "         obitosNovos  Recuperadosnovos  emAcompanhamentoNovos  \\\n",
       "914596             0               NaN                    NaN   \n",
       "333203             0               NaN                    NaN   \n",
       "1036680            0               NaN                    NaN   \n",
       "893264             0               NaN                    NaN   \n",
       "1241208            0               NaN                    NaN   \n",
       "33740              0               NaN                    NaN   \n",
       "327124             0               NaN                    NaN   \n",
       "870484             2               NaN                    NaN   \n",
       "1183639            0               NaN                    NaN   \n",
       "647639             0               NaN                    NaN   \n",
       "\n",
       "         interior/metropolitana  \n",
       "914596                      0.0  \n",
       "333203                      0.0  \n",
       "1036680                     0.0  \n",
       "893264                      0.0  \n",
       "1241208                     0.0  \n",
       "33740                       0.0  \n",
       "327124                      0.0  \n",
       "870484                      1.0  \n",
       "1183639                     0.0  \n",
       "647639                      0.0  "
      ]
     },
     "execution_count": 5,
     "metadata": {},
     "output_type": "execute_result"
    }
   ],
   "source": [
    "df.sample(10)"
   ]
  },
  {
   "cell_type": "code",
   "execution_count": 6,
   "metadata": {},
   "outputs": [
    {
     "data": {
      "text/plain": [
       "estado\n",
       "SP    39549\n",
       "RJ    20759\n",
       "CE     9370\n",
       "MG     9069\n",
       "PE     8667\n",
       "BA     7711\n",
       "PA     6767\n",
       "RS     5903\n",
       "GO     5797\n",
       "PR     5269\n",
       "AM     4588\n",
       "MA     4091\n",
       "ES     3884\n",
       "MT     3828\n",
       "DF     3719\n",
       "SC     3163\n",
       "PB     3130\n",
       "RN     2588\n",
       "PI     2441\n",
       "AL     2254\n",
       "SE     2228\n",
       "MS     1622\n",
       "RO     1464\n",
       "TO     1105\n",
       "AP      751\n",
       "AC      696\n",
       "RR      693\n",
       "Name: obitosAcumulado, dtype: int64"
      ]
     },
     "execution_count": 6,
     "metadata": {},
     "output_type": "execute_result"
    }
   ],
   "source": [
    "df.groupby('estado')['obitosAcumulado'].max().sort_values(ascending=False)"
   ]
  },
  {
   "cell_type": "code",
   "execution_count": 7,
   "metadata": {},
   "outputs": [
    {
     "data": {
      "text/plain": [
       "<AxesSubplot:ylabel='estado'>"
      ]
     },
     "execution_count": 7,
     "metadata": {},
     "output_type": "execute_result"
    },
    {
     "data": {
      "image/png": "[encoded data removed]",
      "text/plain": [
       "<Figure size 432x288 with 1 Axes>"
      ]
     },
     "metadata": {
      "needs_background": "light"
     },
     "output_type": "display_data"
    }
   ],
   "source": [
    "df.groupby('estado')['obitosAcumulado'].max().sort_values().tail(5).plot(kind='barh')"
   ]
  },
  {
   "cell_type": "code",
   "execution_count": 8,
   "metadata": {},
   "outputs": [
    {
     "data": {
      "text/plain": [
       "<AxesSubplot:xlabel='data'>"
      ]
     },
     "execution_count": 8,
     "metadata": {},
     "output_type": "execute_result"
    },
    {
     "data": {
      "image/png": "[encoded data removed]",
      "text/plain": [
       "<Figure size 432x288 with 1 Axes>"
      ]
     },
     "metadata": {
      "needs_background": "light"
     },
     "output_type": "display_data"
    }
   ],
   "source": [
    "sp = df.query('municipio == \"São Paulo\"')\n",
    "sp.tail(10).plot(kind='bar', \n",
    "        x='data', y='casosNovos', color='RED')"
   ]
  },
  {
   "cell_type": "code",
   "execution_count": 9,
   "metadata": {},
   "outputs": [
    {
     "data": {
      "text/plain": [
       "<AxesSubplot:xlabel='semanaEpi'>"
      ]
     },
     "execution_count": 9,
     "metadata": {},
     "output_type": "execute_result"
    },
    {
     "data": {
      "image/png": "[encoded data removed]",
      "text/plain": [
       "<Figure size 432x288 with 1 Axes>"
      ]
     },
     "metadata": {
      "needs_background": "light"
     },
     "output_type": "display_data"
    }
   ],
   "source": [
    "sp.groupby('semanaEpi')['casosNovos'].sum().plot(kind='bar')"
   ]
  },
  {
   "cell_type": "code",
   "execution_count": 12,
   "metadata": {},
   "outputs": [
    {
     "data": {
      "text/plain": [
       "<AxesSubplot:xlabel='data'>"
      ]
     },
     "execution_count": 12,
     "metadata": {},
     "output_type": "execute_result"
    },
    {
     "data": {
      "image/png": "[encoded data removed]",
      "text/plain": [
       "<Figure size 432x288 with 1 Axes>"
      ]
     },
     "metadata": {
      "needs_background": "light"
     },
     "output_type": "display_data"
    }
   ],
   "source": [
    "sjc = df.query('municipio == \"São José do Rio Preto\"')\n",
    "sjc.tail(10).plot(kind='bar', \n",
    "        x='data', y='casosNovos', color='RED')"
   ]
  },
  {
   "cell_type": "code",
   "execution_count": 13,
   "metadata": {},
   "outputs": [
    {
     "data": {
      "text/plain": [
       "<AxesSubplot:xlabel='semanaEpi'>"
      ]
     },
     "execution_count": 13,
     "metadata": {},
     "output_type": "execute_result"
    },
    {
     "data": {
      "image/png": "[encoded data removed]",
      "text/plain": [
       "<Figure size 432x288 with 1 Axes>"
      ]
     },
     "metadata": {
      "needs_background": "light"
     },
     "output_type": "display_data"
    }
   ],
   "source": [
    "sp.groupby('semanaEpi')['casosNovos'].sum().plot(kind='bar')"
   ]
  },
  {
   "cell_type": "code",
   "execution_count": null,
   "metadata": {},
   "outputs": [],
   "source": []
  }
 ],
 "metadata": {
  "kernelspec": {
   "display_name": "Python 3",
   "language": "python",
   "name": "python3"
  },
  "language_info": {
   "codemirror_mode": {
    "name": "ipython",
    "version": 3
   },
   "file_extension": ".py",
   "mimetype": "text/x-python",
   "name": "python",
   "nbconvert_exporter": "python",
   "pygments_lexer": "ipython3",
   "version": "3.8.2"
  }
 },
 "nbformat": 4,
 "nbformat_minor": 4
}
