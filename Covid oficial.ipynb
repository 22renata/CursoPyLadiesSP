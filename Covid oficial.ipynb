{
 "cells": [
  {
   "cell_type": "markdown",
   "metadata": {},
   "source": [
    "#### Os dados, até a data do presente estudo, estão no https://covid.saude.gov.br/\n",
    "#### O presente arquivo é de 4 de novembro. Atenção: de acordo com o dia em que for feita a análise, a última barra da totalização por semana estará menor.\n",
    "#### Disclaimer/Aviso Legal: Este notebook tem um fim única e exclusivamente didático, para alunos da FATEC, como uma introdução à Análise de Dados Públicos. Desse modo, está excluída a garantia ou responsabilidade de qualquer tipo, por exemplo, de precisão, confiabilidade, completude e atualidade das informações."
   ]
  },
  {
   "cell_type": "code",
   "execution_count": 1,
   "metadata": {},
   "outputs": [],
   "source": [
    "import pandas as pd\n",
    "low_memory=False\n",
    "import matplotlib.pyplot as plt\n",
    "%matplotlib inline\n",
    "pd.options.display.max_columns = 80\n",
    "pd.options.display.max_rows = 90"
   ]
  },
  {
   "cell_type": "code",
   "execution_count": 2,
   "metadata": {},
   "outputs": [],
   "source": [
    "filename = r'C:\\Users\\fmasa\\Downloads\\HIST_PAINEL_COVIDBR_04nov2020.csv'\n",
    "df = pd.read_csv(filename, delimiter=';',\n",
    "                 error_bad_lines=False)"
   ]
  },
  {
   "cell_type": "code",
   "execution_count": 3,
   "metadata": {},
   "outputs": [
    {
     "data": {
      "text/plain": [
       "(1253905, 17)"
      ]
     },
     "execution_count": 3,
     "metadata": {},
     "output_type": "execute_result"
    }
   ],
   "source": [
    "df.shape"
   ]
  },
  {
   "cell_type": "code",
   "execution_count": 4,
   "metadata": {},
   "outputs": [
    {
     "name": "stdout",
     "output_type": "stream",
     "text": [
      "<class 'pandas.core.frame.DataFrame'>\n",
      "RangeIndex: 1253905 entries, 0 to 1253904\n",
      "Data columns (total 17 columns):\n",
      " #   Column                  Non-Null Count    Dtype  \n",
      "---  ------                  --------------    -----  \n",
      " 0   regiao                  1253905 non-null  object \n",
      " 1   estado                  1253651 non-null  object \n",
      " 2   municipio               1242110 non-null  object \n",
      " 3   coduf                   1253905 non-null  int64  \n",
      " 4   codmun                  1246793 non-null  float64\n",
      " 5   codRegiaoSaude          1242110 non-null  float64\n",
      " 6   nomeRegiaoSaude         1242110 non-null  object \n",
      " 7   data                    1253905 non-null  object \n",
      " 8   semanaEpi               1253905 non-null  int64  \n",
      " 9   populacaoTCU2019        1249222 non-null  float64\n",
      " 10  casosAcumulado          1253905 non-null  int64  \n",
      " 11  casosNovos              1253905 non-null  int64  \n",
      " 12  obitosAcumulado         1253905 non-null  int64  \n",
      " 13  obitosNovos             1253905 non-null  int64  \n",
      " 14  Recuperadosnovos        200 non-null      float64\n",
      " 15  emAcompanhamentoNovos   200 non-null      float64\n",
      " 16  interior/metropolitana  1242110 non-null  float64\n",
      "dtypes: float64(6), int64(6), object(5)\n",
      "memory usage: 138.7+ MB\n"
     ]
    }
   ],
   "source": [
    "df.info()"
   ]
  },
  {
   "cell_type": "code",
   "execution_count": 5,
   "metadata": {},
   "outputs": [
    {
     "data": {
      "text/html": [
       "<div>\n",
       "<style scoped>\n",
       "    .dataframe tbody tr th:only-of-type {\n",
       "        vertical-align: middle;\n",
       "    }\n",
       "\n",
       "    .dataframe tbody tr th {\n",
       "        vertical-align: top;\n",
       "    }\n",
       "\n",
       "    .dataframe thead th {\n",
       "        text-align: right;\n",
       "    }\n",
       "</style>\n",
       "<table border=\"1\" class=\"dataframe\">\n",
       "  <thead>\n",
       "    <tr style=\"text-align: right;\">\n",
       "      <th></th>\n",
       "      <th>regiao</th>\n",
       "      <th>estado</th>\n",
       "      <th>municipio</th>\n",
       "      <th>coduf</th>\n",
       "      <th>codmun</th>\n",
       "      <th>codRegiaoSaude</th>\n",
       "      <th>nomeRegiaoSaude</th>\n",
       "      <th>data</th>\n",
       "      <th>semanaEpi</th>\n",
       "      <th>populacaoTCU2019</th>\n",
       "      <th>casosAcumulado</th>\n",
       "      <th>casosNovos</th>\n",
       "      <th>obitosAcumulado</th>\n",
       "      <th>obitosNovos</th>\n",
       "      <th>Recuperadosnovos</th>\n",
       "      <th>emAcompanhamentoNovos</th>\n",
       "      <th>interior/metropolitana</th>\n",
       "    </tr>\n",
       "  </thead>\n",
       "  <tbody>\n",
       "    <tr>\n",
       "      <th>874357</th>\n",
       "      <td>Sudeste</td>\n",
       "      <td>SP</td>\n",
       "      <td>Tejupá</td>\n",
       "      <td>35</td>\n",
       "      <td>355420.0</td>\n",
       "      <td>35061.0</td>\n",
       "      <td>VALE DO JURUMIRIM</td>\n",
       "      <td>2020-11-03</td>\n",
       "      <td>45</td>\n",
       "      <td>4532.0</td>\n",
       "      <td>28</td>\n",
       "      <td>0</td>\n",
       "      <td>0</td>\n",
       "      <td>0</td>\n",
       "      <td>NaN</td>\n",
       "      <td>NaN</td>\n",
       "      <td>0.0</td>\n",
       "    </tr>\n",
       "    <tr>\n",
       "      <th>1038469</th>\n",
       "      <td>Sul</td>\n",
       "      <td>RS</td>\n",
       "      <td>NaN</td>\n",
       "      <td>43</td>\n",
       "      <td>430000.0</td>\n",
       "      <td>NaN</td>\n",
       "      <td>NaN</td>\n",
       "      <td>2020-10-18</td>\n",
       "      <td>43</td>\n",
       "      <td>NaN</td>\n",
       "      <td>0</td>\n",
       "      <td>0</td>\n",
       "      <td>0</td>\n",
       "      <td>0</td>\n",
       "      <td>NaN</td>\n",
       "      <td>NaN</td>\n",
       "      <td>NaN</td>\n",
       "    </tr>\n",
       "    <tr>\n",
       "      <th>661106</th>\n",
       "      <td>Sudeste</td>\n",
       "      <td>MG</td>\n",
       "      <td>Santa Margarida</td>\n",
       "      <td>31</td>\n",
       "      <td>315790.0</td>\n",
       "      <td>31059.0</td>\n",
       "      <td>MANHUACU</td>\n",
       "      <td>2020-09-01</td>\n",
       "      <td>36</td>\n",
       "      <td>16208.0</td>\n",
       "      <td>116</td>\n",
       "      <td>4</td>\n",
       "      <td>2</td>\n",
       "      <td>0</td>\n",
       "      <td>NaN</td>\n",
       "      <td>NaN</td>\n",
       "      <td>0.0</td>\n",
       "    </tr>\n",
       "    <tr>\n",
       "      <th>3029</th>\n",
       "      <td>Nordeste</td>\n",
       "      <td>RN</td>\n",
       "      <td>NaN</td>\n",
       "      <td>24</td>\n",
       "      <td>NaN</td>\n",
       "      <td>NaN</td>\n",
       "      <td>NaN</td>\n",
       "      <td>2020-10-17</td>\n",
       "      <td>42</td>\n",
       "      <td>3506853.0</td>\n",
       "      <td>76849</td>\n",
       "      <td>189</td>\n",
       "      <td>2551</td>\n",
       "      <td>4</td>\n",
       "      <td>NaN</td>\n",
       "      <td>NaN</td>\n",
       "      <td>NaN</td>\n",
       "    </tr>\n",
       "    <tr>\n",
       "      <th>252225</th>\n",
       "      <td>Nordeste</td>\n",
       "      <td>RN</td>\n",
       "      <td>Bodó</td>\n",
       "      <td>24</td>\n",
       "      <td>240165.0</td>\n",
       "      <td>24004.0</td>\n",
       "      <td>4ª REGIAO DE SAUDE - CAICO</td>\n",
       "      <td>2020-05-02</td>\n",
       "      <td>18</td>\n",
       "      <td>2223.0</td>\n",
       "      <td>0</td>\n",
       "      <td>0</td>\n",
       "      <td>0</td>\n",
       "      <td>0</td>\n",
       "      <td>NaN</td>\n",
       "      <td>NaN</td>\n",
       "      <td>0.0</td>\n",
       "    </tr>\n",
       "    <tr>\n",
       "      <th>990216</th>\n",
       "      <td>Sul</td>\n",
       "      <td>SC</td>\n",
       "      <td>Dionísio Cerqueira</td>\n",
       "      <td>42</td>\n",
       "      <td>420500.0</td>\n",
       "      <td>42001.0</td>\n",
       "      <td>EXTREMO OESTE</td>\n",
       "      <td>2020-07-25</td>\n",
       "      <td>30</td>\n",
       "      <td>15498.0</td>\n",
       "      <td>44</td>\n",
       "      <td>0</td>\n",
       "      <td>3</td>\n",
       "      <td>0</td>\n",
       "      <td>NaN</td>\n",
       "      <td>NaN</td>\n",
       "      <td>0.0</td>\n",
       "    </tr>\n",
       "    <tr>\n",
       "      <th>357335</th>\n",
       "      <td>Nordeste</td>\n",
       "      <td>PE</td>\n",
       "      <td>Lagoa do Carro</td>\n",
       "      <td>26</td>\n",
       "      <td>260845.0</td>\n",
       "      <td>26006.0</td>\n",
       "      <td>LIMOEIRO</td>\n",
       "      <td>2020-07-18</td>\n",
       "      <td>29</td>\n",
       "      <td>18071.0</td>\n",
       "      <td>76</td>\n",
       "      <td>4</td>\n",
       "      <td>10</td>\n",
       "      <td>0</td>\n",
       "      <td>NaN</td>\n",
       "      <td>NaN</td>\n",
       "      <td>0.0</td>\n",
       "    </tr>\n",
       "    <tr>\n",
       "      <th>893990</th>\n",
       "      <td>Sul</td>\n",
       "      <td>PR</td>\n",
       "      <td>Cafezal do Sul</td>\n",
       "      <td>41</td>\n",
       "      <td>410347.0</td>\n",
       "      <td>41012.0</td>\n",
       "      <td>12ª RS UMUARAMA</td>\n",
       "      <td>2020-04-03</td>\n",
       "      <td>14</td>\n",
       "      <td>4044.0</td>\n",
       "      <td>0</td>\n",
       "      <td>0</td>\n",
       "      <td>0</td>\n",
       "      <td>0</td>\n",
       "      <td>NaN</td>\n",
       "      <td>NaN</td>\n",
       "      <td>0.0</td>\n",
       "    </tr>\n",
       "    <tr>\n",
       "      <th>928613</th>\n",
       "      <td>Sul</td>\n",
       "      <td>PR</td>\n",
       "      <td>Maria Helena</td>\n",
       "      <td>41</td>\n",
       "      <td>411470.0</td>\n",
       "      <td>41012.0</td>\n",
       "      <td>12ª RS UMUARAMA</td>\n",
       "      <td>2020-05-31</td>\n",
       "      <td>23</td>\n",
       "      <td>5677.0</td>\n",
       "      <td>12</td>\n",
       "      <td>0</td>\n",
       "      <td>0</td>\n",
       "      <td>0</td>\n",
       "      <td>NaN</td>\n",
       "      <td>NaN</td>\n",
       "      <td>0.0</td>\n",
       "    </tr>\n",
       "    <tr>\n",
       "      <th>790966</th>\n",
       "      <td>Sudeste</td>\n",
       "      <td>SP</td>\n",
       "      <td>Ilhabela</td>\n",
       "      <td>35</td>\n",
       "      <td>352040.0</td>\n",
       "      <td>35173.0</td>\n",
       "      <td>LITORAL NORTE</td>\n",
       "      <td>2020-04-05</td>\n",
       "      <td>15</td>\n",
       "      <td>34970.0</td>\n",
       "      <td>0</td>\n",
       "      <td>0</td>\n",
       "      <td>0</td>\n",
       "      <td>0</td>\n",
       "      <td>NaN</td>\n",
       "      <td>NaN</td>\n",
       "      <td>0.0</td>\n",
       "    </tr>\n",
       "  </tbody>\n",
       "</table>\n",
       "</div>"
      ],
      "text/plain": [
       "           regiao estado           municipio  coduf    codmun  codRegiaoSaude  \\\n",
       "874357    Sudeste     SP              Tejupá     35  355420.0         35061.0   \n",
       "1038469       Sul     RS                 NaN     43  430000.0             NaN   \n",
       "661106    Sudeste     MG     Santa Margarida     31  315790.0         31059.0   \n",
       "3029     Nordeste     RN                 NaN     24       NaN             NaN   \n",
       "252225   Nordeste     RN                Bodó     24  240165.0         24004.0   \n",
       "990216        Sul     SC  Dionísio Cerqueira     42  420500.0         42001.0   \n",
       "357335   Nordeste     PE      Lagoa do Carro     26  260845.0         26006.0   \n",
       "893990        Sul     PR      Cafezal do Sul     41  410347.0         41012.0   \n",
       "928613        Sul     PR        Maria Helena     41  411470.0         41012.0   \n",
       "790966    Sudeste     SP            Ilhabela     35  352040.0         35173.0   \n",
       "\n",
       "                    nomeRegiaoSaude        data  semanaEpi  populacaoTCU2019  \\\n",
       "874357            VALE DO JURUMIRIM  2020-11-03         45            4532.0   \n",
       "1038469                         NaN  2020-10-18         43               NaN   \n",
       "661106                     MANHUACU  2020-09-01         36           16208.0   \n",
       "3029                            NaN  2020-10-17         42         3506853.0   \n",
       "252225   4ª REGIAO DE SAUDE - CAICO  2020-05-02         18            2223.0   \n",
       "990216                EXTREMO OESTE  2020-07-25         30           15498.0   \n",
       "357335                     LIMOEIRO  2020-07-18         29           18071.0   \n",
       "893990              12ª RS UMUARAMA  2020-04-03         14            4044.0   \n",
       "928613              12ª RS UMUARAMA  2020-05-31         23            5677.0   \n",
       "790966                LITORAL NORTE  2020-04-05         15           34970.0   \n",
       "\n",
       "         casosAcumulado  casosNovos  obitosAcumulado  obitosNovos  \\\n",
       "874357               28           0                0            0   \n",
       "1038469               0           0                0            0   \n",
       "661106              116           4                2            0   \n",
       "3029              76849         189             2551            4   \n",
       "252225                0           0                0            0   \n",
       "990216               44           0                3            0   \n",
       "357335               76           4               10            0   \n",
       "893990                0           0                0            0   \n",
       "928613               12           0                0            0   \n",
       "790966                0           0                0            0   \n",
       "\n",
       "         Recuperadosnovos  emAcompanhamentoNovos  interior/metropolitana  \n",
       "874357                NaN                    NaN                     0.0  \n",
       "1038469               NaN                    NaN                     NaN  \n",
       "661106                NaN                    NaN                     0.0  \n",
       "3029                  NaN                    NaN                     NaN  \n",
       "252225                NaN                    NaN                     0.0  \n",
       "990216                NaN                    NaN                     0.0  \n",
       "357335                NaN                    NaN                     0.0  \n",
       "893990                NaN                    NaN                     0.0  \n",
       "928613                NaN                    NaN                     0.0  \n",
       "790966                NaN                    NaN                     0.0  "
      ]
     },
     "execution_count": 5,
     "metadata": {},
     "output_type": "execute_result"
    }
   ],
   "source": [
    "df.sample(10)"
   ]
  },
  {
   "cell_type": "code",
   "execution_count": 21,
   "metadata": {},
   "outputs": [
    {
     "data": {
      "text/plain": [
       "estado\n",
       "SP    39549\n",
       "RJ    20759\n",
       "CE     9370\n",
       "MG     9069\n",
       "PE     8667\n",
       "BA     7711\n",
       "PA     6767\n",
       "RS     5903\n",
       "GO     5797\n",
       "PR     5269\n",
       "AM     4588\n",
       "MA     4091\n",
       "ES     3884\n",
       "MT     3828\n",
       "DF     3719\n",
       "SC     3163\n",
       "PB     3130\n",
       "RN     2588\n",
       "PI     2441\n",
       "AL     2254\n",
       "SE     2228\n",
       "MS     1622\n",
       "RO     1464\n",
       "TO     1105\n",
       "AP      751\n",
       "AC      696\n",
       "RR      693\n",
       "Name: obitosAcumulado, dtype: int64"
      ]
     },
     "execution_count": 21,
     "metadata": {},
     "output_type": "execute_result"
    }
   ],
   "source": [
    "df.groupby('estado')['obitosAcumulado'].max().sort_values(ascending=False)"
   ]
  },
  {
   "cell_type": "code",
   "execution_count": 22,
   "metadata": {},
   "outputs": [
    {
     "data": {
      "text/plain": [
       "<AxesSubplot:ylabel='estado'>"
      ]
     },
     "execution_count": 22,
     "metadata": {},
     "output_type": "execute_result"
    },
    {
     "data": {
      "image/png": "[encoded data removed]",
      "text/plain": [
       "<Figure size 432x288 with 1 Axes>"
      ]
     },
     "metadata": {
      "needs_background": "light"
     },
     "output_type": "display_data"
    }
   ],
   "source": [
    "df.groupby('estado')['obitosAcumulado'].max().sort_values().tail(5).plot(kind='barh')"
   ]
  },
  {
   "cell_type": "code",
   "execution_count": 6,
   "metadata": {},
   "outputs": [
    {
     "data": {
      "text/plain": [
       "<AxesSubplot:xlabel='data'>"
      ]
     },
     "execution_count": 6,
     "metadata": {},
     "output_type": "execute_result"
    },
    {
     "data": {
      "image/png": "[encoded data removed]",
      "text/plain": [
       "<Figure size 432x288 with 1 Axes>"
      ]
     },
     "metadata": {
      "needs_background": "light"
     },
     "output_type": "display_data"
    }
   ],
   "source": [
    "sjc = df.query('municipio == \"São José dos Campos\"')\n",
    "sjc.tail(14).plot(kind='bar', \n",
    "        x='data', y='casosNovos', color='GREEN')"
   ]
  },
  {
   "cell_type": "code",
   "execution_count": 7,
   "metadata": {},
   "outputs": [
    {
     "data": {
      "text/plain": [
       "<AxesSubplot:xlabel='semanaEpi'>"
      ]
     },
     "execution_count": 7,
     "metadata": {},
     "output_type": "execute_result"
    },
    {
     "data": {
      "image/png": "[encoded data removed]",
      "text/plain": [
       "<Figure size 432x288 with 1 Axes>"
      ]
     },
     "metadata": {
      "needs_background": "light"
     },
     "output_type": "display_data"
    }
   ],
   "source": [
    "sjc.groupby('semanaEpi')['casosNovos'].sum().plot(kind='bar')"
   ]
  },
  {
   "cell_type": "code",
   "execution_count": 8,
   "metadata": {},
   "outputs": [
    {
     "data": {
      "text/plain": [
       "<AxesSubplot:xlabel='data'>"
      ]
     },
     "execution_count": 8,
     "metadata": {},
     "output_type": "execute_result"
    },
    {
     "data": {
      "image/png": "[encoded data removed]",
      "text/plain": [
       "<Figure size 432x288 with 1 Axes>"
      ]
     },
     "metadata": {
      "needs_background": "light"
     },
     "output_type": "display_data"
    }
   ],
   "source": [
    "sp = df.query('municipio == \"São Paulo\"')\n",
    "sp.tail(10).plot(kind='bar', \n",
    "        x='data', y='casosNovos', color='RED')"
   ]
  },
  {
   "cell_type": "code",
   "execution_count": 9,
   "metadata": {},
   "outputs": [
    {
     "data": {
      "text/plain": [
       "<AxesSubplot:xlabel='semanaEpi'>"
      ]
     },
     "execution_count": 9,
     "metadata": {},
     "output_type": "execute_result"
    },
    {
     "data": {
      "image/png": "[encoded data removed]",
      "text/plain": [
       "<Figure size 432x288 with 1 Axes>"
      ]
     },
     "metadata": {
      "needs_background": "light"
     },
     "output_type": "display_data"
    }
   ],
   "source": [
    "sp.groupby('semanaEpi')['casosNovos'].sum().plot(kind='bar')"
   ]
  },
  {
   "cell_type": "code",
   "execution_count": null,
   "metadata": {},
   "outputs": [],
   "source": []
  }
 ],
 "metadata": {
  "kernelspec": {
   "display_name": "Python 3",
   "language": "python",
   "name": "python3"
  },
  "language_info": {
   "codemirror_mode": {
    "name": "ipython",
    "version": 3
   },
   "file_extension": ".py",
   "mimetype": "text/x-python",
   "name": "python",
   "nbconvert_exporter": "python",
   "pygments_lexer": "ipython3",
   "version": "3.8.2"
  }
 },
 "nbformat": 4,
 "nbformat_minor": 4
}
