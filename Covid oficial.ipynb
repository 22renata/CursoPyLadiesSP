{
 "cells": [
  {
   "cell_type": "markdown",
   "metadata": {},
   "source": [
    "#### Os dados, até a data do presente estudo, estão no https://covid.saude.gov.br/\n",
    "#### O presente arquivo é de 10 de setembro. Atenção: de acordo com o dia em que for feita a análise, a última barra da totalização por semana estará menor.\n",
    "#### Disclaimer/Aviso Legal: Este notebook tem um fim única e exclusivamente didático, para alunos da FATEC, como uma introdução à Análise de Dados Públicos. Desse modo, está excluída a garantia ou responsabilidade de qualquer tipo, por exemplo, de precisão, confiabilidade, completude e atualidade das informações."
   ]
  },
  {
   "cell_type": "code",
   "execution_count": 1,
   "metadata": {},
   "outputs": [],
   "source": [
    "import pandas as pd\n",
    "low_memory=False\n",
    "import matplotlib.pyplot as plt\n",
    "%matplotlib inline\n",
    "pd.options.display.max_columns = 80\n",
    "pd.options.display.max_rows = 90"
   ]
  },
  {
   "cell_type": "code",
   "execution_count": 2,
   "metadata": {},
   "outputs": [],
   "source": [
    "filename = r'C:\\Users\\fmasa\\Downloads\\HIST_PAINEL_COVIDBR_10set2020.xlsx'\n",
    "df = pd.read_excel(filename)"
   ]
  },
  {
   "cell_type": "code",
   "execution_count": 3,
   "metadata": {},
   "outputs": [
    {
     "data": {
      "text/plain": [
       "(943684, 17)"
      ]
     },
     "execution_count": 3,
     "metadata": {},
     "output_type": "execute_result"
    }
   ],
   "source": [
    "df.shape"
   ]
  },
  {
   "cell_type": "code",
   "execution_count": 4,
   "metadata": {},
   "outputs": [
    {
     "name": "stdout",
     "output_type": "stream",
     "text": [
      "<class 'pandas.core.frame.DataFrame'>\n",
      "RangeIndex: 943684 entries, 0 to 943683\n",
      "Data columns (total 17 columns):\n",
      " #   Column                  Non-Null Count   Dtype         \n",
      "---  ------                  --------------   -----         \n",
      " 0   regiao                  943684 non-null  object        \n",
      " 1   estado                  943485 non-null  object        \n",
      " 2   municipio               934584 non-null  object        \n",
      " 3   coduf                   943684 non-null  int64         \n",
      " 4   codmun                  938112 non-null  float64       \n",
      " 5   codRegiaoSaude          934584 non-null  float64       \n",
      " 6   nomeRegiaoSaude         934584 non-null  object        \n",
      " 7   data                    943684 non-null  datetime64[ns]\n",
      " 8   semanaEpi               943684 non-null  int64         \n",
      " 9   populacaoTCU2019        940156 non-null  float64       \n",
      " 10  casosAcumulado          943684 non-null  int64         \n",
      " 11  casosNovos              943684 non-null  int64         \n",
      " 12  obitosAcumulado         943684 non-null  int64         \n",
      " 13  obitosNovos             943684 non-null  int64         \n",
      " 14  Recuperadosnovos        145 non-null     float64       \n",
      " 15  emAcompanhamentoNovos   145 non-null     float64       \n",
      " 16  interior/metropolitana  934584 non-null  float64       \n",
      "dtypes: datetime64[ns](1), float64(6), int64(6), object(4)\n",
      "memory usage: 108.0+ MB\n"
     ]
    }
   ],
   "source": [
    "df.info()"
   ]
  },
  {
   "cell_type": "code",
   "execution_count": 5,
   "metadata": {},
   "outputs": [
    {
     "data": {
      "text/html": [
       "<div>\n",
       "<style scoped>\n",
       "    .dataframe tbody tr th:only-of-type {\n",
       "        vertical-align: middle;\n",
       "    }\n",
       "\n",
       "    .dataframe tbody tr th {\n",
       "        vertical-align: top;\n",
       "    }\n",
       "\n",
       "    .dataframe thead th {\n",
       "        text-align: right;\n",
       "    }\n",
       "</style>\n",
       "<table border=\"1\" class=\"dataframe\">\n",
       "  <thead>\n",
       "    <tr style=\"text-align: right;\">\n",
       "      <th></th>\n",
       "      <th>regiao</th>\n",
       "      <th>estado</th>\n",
       "      <th>municipio</th>\n",
       "      <th>coduf</th>\n",
       "      <th>codmun</th>\n",
       "      <th>codRegiaoSaude</th>\n",
       "      <th>nomeRegiaoSaude</th>\n",
       "      <th>data</th>\n",
       "      <th>semanaEpi</th>\n",
       "      <th>populacaoTCU2019</th>\n",
       "      <th>casosAcumulado</th>\n",
       "      <th>casosNovos</th>\n",
       "      <th>obitosAcumulado</th>\n",
       "      <th>obitosNovos</th>\n",
       "      <th>Recuperadosnovos</th>\n",
       "      <th>emAcompanhamentoNovos</th>\n",
       "      <th>interior/metropolitana</th>\n",
       "    </tr>\n",
       "  </thead>\n",
       "  <tbody>\n",
       "    <tr>\n",
       "      <th>337345</th>\n",
       "      <td>Nordeste</td>\n",
       "      <td>BA</td>\n",
       "      <td>Gandu</td>\n",
       "      <td>29</td>\n",
       "      <td>291120.0</td>\n",
       "      <td>29027.0</td>\n",
       "      <td>VALENCA</td>\n",
       "      <td>2020-08-15</td>\n",
       "      <td>33</td>\n",
       "      <td>32403.0</td>\n",
       "      <td>1278</td>\n",
       "      <td>2</td>\n",
       "      <td>17</td>\n",
       "      <td>0</td>\n",
       "      <td>NaN</td>\n",
       "      <td>NaN</td>\n",
       "      <td>0.0</td>\n",
       "    </tr>\n",
       "    <tr>\n",
       "      <th>75566</th>\n",
       "      <td>Norte</td>\n",
       "      <td>TO</td>\n",
       "      <td>Porto Alegre do Tocantins</td>\n",
       "      <td>17</td>\n",
       "      <td>171800.0</td>\n",
       "      <td>17003.0</td>\n",
       "      <td>SUDESTE</td>\n",
       "      <td>2020-07-11</td>\n",
       "      <td>28</td>\n",
       "      <td>3139.0</td>\n",
       "      <td>0</td>\n",
       "      <td>0</td>\n",
       "      <td>0</td>\n",
       "      <td>0</td>\n",
       "      <td>NaN</td>\n",
       "      <td>NaN</td>\n",
       "      <td>0.0</td>\n",
       "    </tr>\n",
       "    <tr>\n",
       "      <th>836806</th>\n",
       "      <td>Sul</td>\n",
       "      <td>RS</td>\n",
       "      <td>Porto Mauá</td>\n",
       "      <td>43</td>\n",
       "      <td>431505.0</td>\n",
       "      <td>43014.0</td>\n",
       "      <td>REGIAO 14</td>\n",
       "      <td>2020-08-12</td>\n",
       "      <td>33</td>\n",
       "      <td>2374.0</td>\n",
       "      <td>6</td>\n",
       "      <td>0</td>\n",
       "      <td>0</td>\n",
       "      <td>0</td>\n",
       "      <td>NaN</td>\n",
       "      <td>NaN</td>\n",
       "      <td>0.0</td>\n",
       "    </tr>\n",
       "    <tr>\n",
       "      <th>757183</th>\n",
       "      <td>Sul</td>\n",
       "      <td>SC</td>\n",
       "      <td>Lauro Müller</td>\n",
       "      <td>42</td>\n",
       "      <td>420960.0</td>\n",
       "      <td>42015.0</td>\n",
       "      <td>CARBONIFERA</td>\n",
       "      <td>2020-08-21</td>\n",
       "      <td>34</td>\n",
       "      <td>15244.0</td>\n",
       "      <td>345</td>\n",
       "      <td>7</td>\n",
       "      <td>5</td>\n",
       "      <td>0</td>\n",
       "      <td>NaN</td>\n",
       "      <td>NaN</td>\n",
       "      <td>0.0</td>\n",
       "    </tr>\n",
       "    <tr>\n",
       "      <th>83214</th>\n",
       "      <td>Nordeste</td>\n",
       "      <td>MA</td>\n",
       "      <td>Alto Parnaíba</td>\n",
       "      <td>21</td>\n",
       "      <td>210050.0</td>\n",
       "      <td>21003.0</td>\n",
       "      <td>BALSAS</td>\n",
       "      <td>2020-04-22</td>\n",
       "      <td>17</td>\n",
       "      <td>11190.0</td>\n",
       "      <td>0</td>\n",
       "      <td>0</td>\n",
       "      <td>0</td>\n",
       "      <td>0</td>\n",
       "      <td>NaN</td>\n",
       "      <td>NaN</td>\n",
       "      <td>0.0</td>\n",
       "    </tr>\n",
       "    <tr>\n",
       "      <th>888891</th>\n",
       "      <td>Centro-Oeste</td>\n",
       "      <td>MT</td>\n",
       "      <td>Lambari D'Oeste</td>\n",
       "      <td>51</td>\n",
       "      <td>510523.0</td>\n",
       "      <td>51011.0</td>\n",
       "      <td>OESTE MATOGROSSENSE</td>\n",
       "      <td>2020-08-17</td>\n",
       "      <td>34</td>\n",
       "      <td>6121.0</td>\n",
       "      <td>79</td>\n",
       "      <td>4</td>\n",
       "      <td>0</td>\n",
       "      <td>0</td>\n",
       "      <td>NaN</td>\n",
       "      <td>NaN</td>\n",
       "      <td>0.0</td>\n",
       "    </tr>\n",
       "    <tr>\n",
       "      <th>521185</th>\n",
       "      <td>Sudeste</td>\n",
       "      <td>MG</td>\n",
       "      <td>Três Corações</td>\n",
       "      <td>31</td>\n",
       "      <td>316930.0</td>\n",
       "      <td>31010.0</td>\n",
       "      <td>TRES CORACOES</td>\n",
       "      <td>2020-04-17</td>\n",
       "      <td>16</td>\n",
       "      <td>79482.0</td>\n",
       "      <td>0</td>\n",
       "      <td>0</td>\n",
       "      <td>0</td>\n",
       "      <td>0</td>\n",
       "      <td>NaN</td>\n",
       "      <td>NaN</td>\n",
       "      <td>0.0</td>\n",
       "    </tr>\n",
       "    <tr>\n",
       "      <th>858604</th>\n",
       "      <td>Sul</td>\n",
       "      <td>RS</td>\n",
       "      <td>Três Forquilhas</td>\n",
       "      <td>43</td>\n",
       "      <td>432183.0</td>\n",
       "      <td>43004.0</td>\n",
       "      <td>REGIAO 04</td>\n",
       "      <td>2020-07-01</td>\n",
       "      <td>27</td>\n",
       "      <td>2697.0</td>\n",
       "      <td>5</td>\n",
       "      <td>0</td>\n",
       "      <td>0</td>\n",
       "      <td>0</td>\n",
       "      <td>NaN</td>\n",
       "      <td>NaN</td>\n",
       "      <td>0.0</td>\n",
       "    </tr>\n",
       "    <tr>\n",
       "      <th>501377</th>\n",
       "      <td>Sudeste</td>\n",
       "      <td>MG</td>\n",
       "      <td>Santa Rita do Sapucaí</td>\n",
       "      <td>31</td>\n",
       "      <td>315960.0</td>\n",
       "      <td>31007.0</td>\n",
       "      <td>POUSO ALEGRE</td>\n",
       "      <td>2020-05-03</td>\n",
       "      <td>19</td>\n",
       "      <td>43260.0</td>\n",
       "      <td>1</td>\n",
       "      <td>0</td>\n",
       "      <td>0</td>\n",
       "      <td>0</td>\n",
       "      <td>NaN</td>\n",
       "      <td>NaN</td>\n",
       "      <td>0.0</td>\n",
       "    </tr>\n",
       "    <tr>\n",
       "      <th>162074</th>\n",
       "      <td>Nordeste</td>\n",
       "      <td>CE</td>\n",
       "      <td>Capistrano</td>\n",
       "      <td>23</td>\n",
       "      <td>230290.0</td>\n",
       "      <td>23004.0</td>\n",
       "      <td>4ª REGIAO BATURITE</td>\n",
       "      <td>2020-06-29</td>\n",
       "      <td>27</td>\n",
       "      <td>17738.0</td>\n",
       "      <td>365</td>\n",
       "      <td>23</td>\n",
       "      <td>7</td>\n",
       "      <td>1</td>\n",
       "      <td>NaN</td>\n",
       "      <td>NaN</td>\n",
       "      <td>0.0</td>\n",
       "    </tr>\n",
       "  </tbody>\n",
       "</table>\n",
       "</div>"
      ],
      "text/plain": [
       "              regiao estado                  municipio  coduf    codmun  \\\n",
       "337345      Nordeste     BA                      Gandu     29  291120.0   \n",
       "75566          Norte     TO  Porto Alegre do Tocantins     17  171800.0   \n",
       "836806           Sul     RS                 Porto Mauá     43  431505.0   \n",
       "757183           Sul     SC               Lauro Müller     42  420960.0   \n",
       "83214       Nordeste     MA              Alto Parnaíba     21  210050.0   \n",
       "888891  Centro-Oeste     MT            Lambari D'Oeste     51  510523.0   \n",
       "521185       Sudeste     MG              Três Corações     31  316930.0   \n",
       "858604           Sul     RS            Três Forquilhas     43  432183.0   \n",
       "501377       Sudeste     MG      Santa Rita do Sapucaí     31  315960.0   \n",
       "162074      Nordeste     CE                 Capistrano     23  230290.0   \n",
       "\n",
       "        codRegiaoSaude      nomeRegiaoSaude       data  semanaEpi  \\\n",
       "337345         29027.0              VALENCA 2020-08-15         33   \n",
       "75566          17003.0              SUDESTE 2020-07-11         28   \n",
       "836806         43014.0            REGIAO 14 2020-08-12         33   \n",
       "757183         42015.0          CARBONIFERA 2020-08-21         34   \n",
       "83214          21003.0               BALSAS 2020-04-22         17   \n",
       "888891         51011.0  OESTE MATOGROSSENSE 2020-08-17         34   \n",
       "521185         31010.0        TRES CORACOES 2020-04-17         16   \n",
       "858604         43004.0            REGIAO 04 2020-07-01         27   \n",
       "501377         31007.0         POUSO ALEGRE 2020-05-03         19   \n",
       "162074         23004.0   4ª REGIAO BATURITE 2020-06-29         27   \n",
       "\n",
       "        populacaoTCU2019  casosAcumulado  casosNovos  obitosAcumulado  \\\n",
       "337345           32403.0            1278           2               17   \n",
       "75566             3139.0               0           0                0   \n",
       "836806            2374.0               6           0                0   \n",
       "757183           15244.0             345           7                5   \n",
       "83214            11190.0               0           0                0   \n",
       "888891            6121.0              79           4                0   \n",
       "521185           79482.0               0           0                0   \n",
       "858604            2697.0               5           0                0   \n",
       "501377           43260.0               1           0                0   \n",
       "162074           17738.0             365          23                7   \n",
       "\n",
       "        obitosNovos  Recuperadosnovos  emAcompanhamentoNovos  \\\n",
       "337345            0               NaN                    NaN   \n",
       "75566             0               NaN                    NaN   \n",
       "836806            0               NaN                    NaN   \n",
       "757183            0               NaN                    NaN   \n",
       "83214             0               NaN                    NaN   \n",
       "888891            0               NaN                    NaN   \n",
       "521185            0               NaN                    NaN   \n",
       "858604            0               NaN                    NaN   \n",
       "501377            0               NaN                    NaN   \n",
       "162074            1               NaN                    NaN   \n",
       "\n",
       "        interior/metropolitana  \n",
       "337345                     0.0  \n",
       "75566                      0.0  \n",
       "836806                     0.0  \n",
       "757183                     0.0  \n",
       "83214                      0.0  \n",
       "888891                     0.0  \n",
       "521185                     0.0  \n",
       "858604                     0.0  \n",
       "501377                     0.0  \n",
       "162074                     0.0  "
      ]
     },
     "execution_count": 5,
     "metadata": {},
     "output_type": "execute_result"
    }
   ],
   "source": [
    "df.sample(10)"
   ]
  },
  {
   "cell_type": "code",
   "execution_count": 6,
   "metadata": {},
   "outputs": [
    {
     "data": {
      "text/plain": [
       "estado\n",
       "SP    32104\n",
       "RJ    16871\n",
       "CE     8639\n",
       "PE     7792\n",
       "PA     6289\n",
       "MG     6009\n",
       "BA     5818\n",
       "RS     3929\n",
       "AM     3874\n",
       "PR     3710\n",
       "GO     3627\n",
       "MA     3550\n",
       "ES     3314\n",
       "MT     3025\n",
       "DF     2843\n",
       "PB     2590\n",
       "SC     2483\n",
       "RN     2302\n",
       "AL     1957\n",
       "SE     1933\n",
       "PI     1931\n",
       "RO     1217\n",
       "MS     1024\n",
       "TO      773\n",
       "AP      676\n",
       "AC      635\n",
       "RR      607\n",
       "Name: obitosAcumulado, dtype: int64"
      ]
     },
     "execution_count": 6,
     "metadata": {},
     "output_type": "execute_result"
    }
   ],
   "source": [
    "df.groupby('estado')['obitosAcumulado'].max().sort_values(ascending=False)"
   ]
  },
  {
   "cell_type": "code",
   "execution_count": 7,
   "metadata": {},
   "outputs": [
    {
     "data": {
      "text/plain": [
       "<matplotlib.axes._subplots.AxesSubplot at 0x2a469aa8>"
      ]
     },
     "execution_count": 7,
     "metadata": {},
     "output_type": "execute_result"
    },
    {
     "data": {
      "image/png": "[encoded data removed]",
      "text/plain": [
       "<Figure size 432x288 with 1 Axes>"
      ]
     },
     "metadata": {
      "needs_background": "light"
     },
     "output_type": "display_data"
    }
   ],
   "source": [
    "df.groupby('estado')['obitosAcumulado'].max().sort_values().tail(5).plot(kind='barh')"
   ]
  },
  {
   "cell_type": "code",
   "execution_count": 8,
   "metadata": {},
   "outputs": [],
   "source": [
    "df['data'] = df['data'].dt.strftime('%d/%m')"
   ]
  },
  {
   "cell_type": "code",
   "execution_count": 9,
   "metadata": {},
   "outputs": [
    {
     "data": {
      "text/plain": [
       "<matplotlib.axes._subplots.AxesSubplot at 0x19ab93a0>"
      ]
     },
     "execution_count": 9,
     "metadata": {},
     "output_type": "execute_result"
    },
    {
     "data": {
      "image/png": "[encoded data removed]",
      "text/plain": [
       "<Figure size 432x288 with 1 Axes>"
      ]
     },
     "metadata": {
      "needs_background": "light"
     },
     "output_type": "display_data"
    }
   ],
   "source": [
    "sp = df.query('municipio == \"São Paulo\"')\n",
    "sp.tail(10).plot(kind='bar', \n",
    "        x='data', y='casosNovos', color='RED')"
   ]
  },
  {
   "cell_type": "code",
   "execution_count": 10,
   "metadata": {},
   "outputs": [
    {
     "data": {
      "text/plain": [
       "<matplotlib.axes._subplots.AxesSubplot at 0x1ffc6070>"
      ]
     },
     "execution_count": 10,
     "metadata": {},
     "output_type": "execute_result"
    },
    {
     "data": {
      "image/png": "[encoded data removed]",
      "text/plain": [
       "<Figure size 432x288 with 1 Axes>"
      ]
     },
     "metadata": {
      "needs_background": "light"
     },
     "output_type": "display_data"
    }
   ],
   "source": [
    "sp.groupby('semanaEpi')['casosNovos'].sum().plot(kind='bar')"
   ]
  },
  {
   "cell_type": "code",
   "execution_count": 11,
   "metadata": {},
   "outputs": [
    {
     "data": {
      "text/plain": [
       "<matplotlib.axes._subplots.AxesSubplot at 0x1f1ebe20>"
      ]
     },
     "execution_count": 11,
     "metadata": {},
     "output_type": "execute_result"
    },
    {
     "data": {
      "image/png": "[encoded data removed]",
      "text/plain": [
       "<Figure size 432x288 with 1 Axes>"
      ]
     },
     "metadata": {
      "needs_background": "light"
     },
     "output_type": "display_data"
    }
   ],
   "source": [
    "sjc = df.query('municipio == \"São José dos Campos\"')\n",
    "sjc.tail(10).plot(kind='bar', \n",
    "        x='data', y='casosNovos', color='RED')"
   ]
  },
  {
   "cell_type": "code",
   "execution_count": 12,
   "metadata": {},
   "outputs": [
    {
     "data": {
      "text/plain": [
       "<matplotlib.axes._subplots.AxesSubplot at 0x1dc90b20>"
      ]
     },
     "execution_count": 12,
     "metadata": {},
     "output_type": "execute_result"
    },
    {
     "data": {
      "image/png": "[encoded data removed]",
      "text/plain": [
       "<Figure size 432x288 with 1 Axes>"
      ]
     },
     "metadata": {
      "needs_background": "light"
     },
     "output_type": "display_data"
    }
   ],
   "source": [
    "sp.groupby('semanaEpi')['casosNovos'].sum().plot(kind='bar')"
   ]
  },
  {
   "cell_type": "code",
   "execution_count": null,
   "metadata": {},
   "outputs": [],
   "source": []
  }
 ],
 "metadata": {
  "kernelspec": {
   "display_name": "Python 3",
   "language": "python",
   "name": "python3"
  },
  "language_info": {
   "codemirror_mode": {
    "name": "ipython",
    "version": 3
   },
   "file_extension": ".py",
   "mimetype": "text/x-python",
   "name": "python",
   "nbconvert_exporter": "python",
   "pygments_lexer": "ipython3",
   "version": "3.8.2"
  }
 },
 "nbformat": 4,
 "nbformat_minor": 4
}
