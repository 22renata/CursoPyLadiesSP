{
 "cells": [
  {
   "cell_type": "markdown",
   "metadata": {},
   "source": [
    "#### Os dados, até a data do presente estudo, estão no https://covid.saude.gov.br/\n",
    "#### O presente arquivo é de domingo, 28 de junho. Atenção: de acordo com o dia em que for feita a análise, a última barra da totalização por semana estará menor.\n",
    "#### Disclaimer/Aviso Legal: Este notebook tem um fim única e exclusivamente didático, para alunos da FATEC, como uma introdução à Análise de Dados Públicos. Desse modo, está excluída a garantia ou responsabilidade de qualquer tipo, por exemplo, de precisão, confiabilidade, completude e atualidade das informações."
   ]
  },
  {
   "cell_type": "code",
   "execution_count": 1,
   "metadata": {},
   "outputs": [],
   "source": [
    "import pandas as pd\n",
    "low_memory=False\n",
    "import matplotlib.pyplot as plt\n",
    "%matplotlib inline\n",
    "pd.options.display.max_columns = 80\n",
    "pd.options.display.max_rows = 90"
   ]
  },
  {
   "cell_type": "code",
   "execution_count": 2,
   "metadata": {},
   "outputs": [],
   "source": [
    "filename = r'C:\\Users\\fmasa\\Downloads\\HIST_PAINEL_COVIDBR_28jun2020.xlsx'\n",
    "df = pd.read_excel(filename)"
   ]
  },
  {
   "cell_type": "code",
   "execution_count": 3,
   "metadata": {},
   "outputs": [
    {
     "data": {
      "text/plain": [
       "(501982, 17)"
      ]
     },
     "execution_count": 3,
     "metadata": {},
     "output_type": "execute_result"
    }
   ],
   "source": [
    "df.shape"
   ]
  },
  {
   "cell_type": "code",
   "execution_count": 4,
   "metadata": {},
   "outputs": [
    {
     "name": "stdout",
     "output_type": "stream",
     "text": [
      "<class 'pandas.core.frame.DataFrame'>\n",
      "RangeIndex: 501982 entries, 0 to 501981\n",
      "Data columns (total 17 columns):\n",
      " #   Column                 Non-Null Count   Dtype         \n",
      "---  ------                 --------------   -----         \n",
      " 0   regiao                 501982 non-null  object        \n",
      " 1   estado                 501857 non-null  object        \n",
      " 2   municipio              496508 non-null  object        \n",
      " 3   coduf                  501982 non-null  int64         \n",
      " 4   codmun                 498482 non-null  float64       \n",
      " 5   codRegiaoSaude         496508 non-null  float64       \n",
      " 6   nomeRegiaoSaude        496508 non-null  object        \n",
      " 7   data                   501982 non-null  datetime64[ns]\n",
      " 8   semanaEpi              501982 non-null  int64         \n",
      " 9   populacaoTCU2019       500008 non-null  object        \n",
      " 10  casosAcumulado         501982 non-null  int64         \n",
      " 11  casosNovos             501982 non-null  int64         \n",
      " 12  obitosAcumulado        501982 non-null  int64         \n",
      " 13  obitosNovos            501982 non-null  int64         \n",
      " 14  Recuperadosnovos       71 non-null      float64       \n",
      " 15  emAcompanhamentoNovos  71 non-null      float64       \n",
      " 16  FgMetro                496508 non-null  float64       \n",
      "dtypes: datetime64[ns](1), float64(5), int64(6), object(5)\n",
      "memory usage: 55.5+ MB\n"
     ]
    }
   ],
   "source": [
    "df.info()"
   ]
  },
  {
   "cell_type": "code",
   "execution_count": 5,
   "metadata": {},
   "outputs": [
    {
     "data": {
      "text/html": [
       "<div>\n",
       "<style scoped>\n",
       "    .dataframe tbody tr th:only-of-type {\n",
       "        vertical-align: middle;\n",
       "    }\n",
       "\n",
       "    .dataframe tbody tr th {\n",
       "        vertical-align: top;\n",
       "    }\n",
       "\n",
       "    .dataframe thead th {\n",
       "        text-align: right;\n",
       "    }\n",
       "</style>\n",
       "<table border=\"1\" class=\"dataframe\">\n",
       "  <thead>\n",
       "    <tr style=\"text-align: right;\">\n",
       "      <th></th>\n",
       "      <th>regiao</th>\n",
       "      <th>estado</th>\n",
       "      <th>municipio</th>\n",
       "      <th>coduf</th>\n",
       "      <th>codmun</th>\n",
       "      <th>codRegiaoSaude</th>\n",
       "      <th>nomeRegiaoSaude</th>\n",
       "      <th>data</th>\n",
       "      <th>semanaEpi</th>\n",
       "      <th>populacaoTCU2019</th>\n",
       "      <th>casosAcumulado</th>\n",
       "      <th>casosNovos</th>\n",
       "      <th>obitosAcumulado</th>\n",
       "      <th>obitosNovos</th>\n",
       "      <th>Recuperadosnovos</th>\n",
       "      <th>emAcompanhamentoNovos</th>\n",
       "      <th>FgMetro</th>\n",
       "    </tr>\n",
       "  </thead>\n",
       "  <tbody>\n",
       "    <tr>\n",
       "      <th>447784</th>\n",
       "      <td>Sul</td>\n",
       "      <td>RS</td>\n",
       "      <td>Parobé</td>\n",
       "      <td>43</td>\n",
       "      <td>431405.0</td>\n",
       "      <td>43006.0</td>\n",
       "      <td>REGIAO 06 - VALE DO PARANHANA E COSTA SERR</td>\n",
       "      <td>2020-05-06</td>\n",
       "      <td>19</td>\n",
       "      <td>58272</td>\n",
       "      <td>0</td>\n",
       "      <td>0</td>\n",
       "      <td>0</td>\n",
       "      <td>0</td>\n",
       "      <td>NaN</td>\n",
       "      <td>NaN</td>\n",
       "      <td>1.0</td>\n",
       "    </tr>\n",
       "    <tr>\n",
       "      <th>426358</th>\n",
       "      <td>Sul</td>\n",
       "      <td>RS</td>\n",
       "      <td>Arroio dos Ratos</td>\n",
       "      <td>43</td>\n",
       "      <td>430110.0</td>\n",
       "      <td>43009.0</td>\n",
       "      <td>REGIAO 09</td>\n",
       "      <td>2020-05-12</td>\n",
       "      <td>20</td>\n",
       "      <td>14151</td>\n",
       "      <td>4</td>\n",
       "      <td>0</td>\n",
       "      <td>0</td>\n",
       "      <td>0</td>\n",
       "      <td>NaN</td>\n",
       "      <td>NaN</td>\n",
       "      <td>1.0</td>\n",
       "    </tr>\n",
       "    <tr>\n",
       "      <th>62294</th>\n",
       "      <td>Nordeste</td>\n",
       "      <td>MA</td>\n",
       "      <td>São Raimundo do Doca Bezerra</td>\n",
       "      <td>21</td>\n",
       "      <td>211163.0</td>\n",
       "      <td>21010.0</td>\n",
       "      <td>PEDREIRAS</td>\n",
       "      <td>2020-05-10</td>\n",
       "      <td>20</td>\n",
       "      <td>5237</td>\n",
       "      <td>0</td>\n",
       "      <td>0</td>\n",
       "      <td>0</td>\n",
       "      <td>0</td>\n",
       "      <td>NaN</td>\n",
       "      <td>NaN</td>\n",
       "      <td>0.0</td>\n",
       "    </tr>\n",
       "    <tr>\n",
       "      <th>122722</th>\n",
       "      <td>Nordeste</td>\n",
       "      <td>PB</td>\n",
       "      <td>Coxixola</td>\n",
       "      <td>25</td>\n",
       "      <td>250485.0</td>\n",
       "      <td>25005.0</td>\n",
       "      <td>5ª REGIAO</td>\n",
       "      <td>2020-04-26</td>\n",
       "      <td>18</td>\n",
       "      <td>1921</td>\n",
       "      <td>1</td>\n",
       "      <td>0</td>\n",
       "      <td>0</td>\n",
       "      <td>0</td>\n",
       "      <td>NaN</td>\n",
       "      <td>NaN</td>\n",
       "      <td>0.0</td>\n",
       "    </tr>\n",
       "    <tr>\n",
       "      <th>472802</th>\n",
       "      <td>Centro-Oeste</td>\n",
       "      <td>MT</td>\n",
       "      <td>Curvelândia</td>\n",
       "      <td>51</td>\n",
       "      <td>510343.0</td>\n",
       "      <td>51011.0</td>\n",
       "      <td>OESTE MATOGROSSENSE</td>\n",
       "      <td>2020-05-20</td>\n",
       "      <td>21</td>\n",
       "      <td>5219</td>\n",
       "      <td>4</td>\n",
       "      <td>0</td>\n",
       "      <td>0</td>\n",
       "      <td>0</td>\n",
       "      <td>NaN</td>\n",
       "      <td>NaN</td>\n",
       "      <td>0.0</td>\n",
       "    </tr>\n",
       "    <tr>\n",
       "      <th>274178</th>\n",
       "      <td>Sudeste</td>\n",
       "      <td>MG</td>\n",
       "      <td>Santa Rita de Ibitipoca</td>\n",
       "      <td>31</td>\n",
       "      <td>315940.0</td>\n",
       "      <td>31013.0</td>\n",
       "      <td>BARBACENA</td>\n",
       "      <td>2020-05-18</td>\n",
       "      <td>21</td>\n",
       "      <td>3425</td>\n",
       "      <td>0</td>\n",
       "      <td>0</td>\n",
       "      <td>0</td>\n",
       "      <td>0</td>\n",
       "      <td>NaN</td>\n",
       "      <td>NaN</td>\n",
       "      <td>0.0</td>\n",
       "    </tr>\n",
       "    <tr>\n",
       "      <th>62859</th>\n",
       "      <td>Nordeste</td>\n",
       "      <td>MA</td>\n",
       "      <td>Serrano do Maranhão</td>\n",
       "      <td>21</td>\n",
       "      <td>211178.0</td>\n",
       "      <td>21011.0</td>\n",
       "      <td>PINHEIRO</td>\n",
       "      <td>2020-05-11</td>\n",
       "      <td>20</td>\n",
       "      <td>10253</td>\n",
       "      <td>1</td>\n",
       "      <td>0</td>\n",
       "      <td>0</td>\n",
       "      <td>0</td>\n",
       "      <td>NaN</td>\n",
       "      <td>NaN</td>\n",
       "      <td>0.0</td>\n",
       "    </tr>\n",
       "    <tr>\n",
       "      <th>118366</th>\n",
       "      <td>Nordeste</td>\n",
       "      <td>PB</td>\n",
       "      <td>Aroeiras</td>\n",
       "      <td>25</td>\n",
       "      <td>250130.0</td>\n",
       "      <td>25015.0</td>\n",
       "      <td>15ª REGIAO</td>\n",
       "      <td>2020-06-27</td>\n",
       "      <td>26</td>\n",
       "      <td>19153</td>\n",
       "      <td>76</td>\n",
       "      <td>0</td>\n",
       "      <td>0</td>\n",
       "      <td>0</td>\n",
       "      <td>NaN</td>\n",
       "      <td>NaN</td>\n",
       "      <td>0.0</td>\n",
       "    </tr>\n",
       "    <tr>\n",
       "      <th>127659</th>\n",
       "      <td>Nordeste</td>\n",
       "      <td>PB</td>\n",
       "      <td>Mataraca</td>\n",
       "      <td>25</td>\n",
       "      <td>250930.0</td>\n",
       "      <td>25014.0</td>\n",
       "      <td>14ª REGIAO</td>\n",
       "      <td>2020-06-14</td>\n",
       "      <td>25</td>\n",
       "      <td>8434</td>\n",
       "      <td>55</td>\n",
       "      <td>3</td>\n",
       "      <td>1</td>\n",
       "      <td>0</td>\n",
       "      <td>NaN</td>\n",
       "      <td>NaN</td>\n",
       "      <td>0.0</td>\n",
       "    </tr>\n",
       "    <tr>\n",
       "      <th>120646</th>\n",
       "      <td>Nordeste</td>\n",
       "      <td>PB</td>\n",
       "      <td>Cachoeira dos Índios</td>\n",
       "      <td>25</td>\n",
       "      <td>250330.0</td>\n",
       "      <td>25009.0</td>\n",
       "      <td>9ª REGIAO</td>\n",
       "      <td>2020-04-18</td>\n",
       "      <td>16</td>\n",
       "      <td>10244</td>\n",
       "      <td>0</td>\n",
       "      <td>0</td>\n",
       "      <td>0</td>\n",
       "      <td>0</td>\n",
       "      <td>NaN</td>\n",
       "      <td>NaN</td>\n",
       "      <td>0.0</td>\n",
       "    </tr>\n",
       "  </tbody>\n",
       "</table>\n",
       "</div>"
      ],
      "text/plain": [
       "              regiao estado                     municipio  coduf    codmun  \\\n",
       "447784           Sul     RS                        Parobé     43  431405.0   \n",
       "426358           Sul     RS              Arroio dos Ratos     43  430110.0   \n",
       "62294       Nordeste     MA  São Raimundo do Doca Bezerra     21  211163.0   \n",
       "122722      Nordeste     PB                      Coxixola     25  250485.0   \n",
       "472802  Centro-Oeste     MT                   Curvelândia     51  510343.0   \n",
       "274178       Sudeste     MG       Santa Rita de Ibitipoca     31  315940.0   \n",
       "62859       Nordeste     MA           Serrano do Maranhão     21  211178.0   \n",
       "118366      Nordeste     PB                      Aroeiras     25  250130.0   \n",
       "127659      Nordeste     PB                      Mataraca     25  250930.0   \n",
       "120646      Nordeste     PB          Cachoeira dos Índios     25  250330.0   \n",
       "\n",
       "        codRegiaoSaude                             nomeRegiaoSaude       data  \\\n",
       "447784         43006.0  REGIAO 06 - VALE DO PARANHANA E COSTA SERR 2020-05-06   \n",
       "426358         43009.0                                   REGIAO 09 2020-05-12   \n",
       "62294          21010.0                                   PEDREIRAS 2020-05-10   \n",
       "122722         25005.0                                   5ª REGIAO 2020-04-26   \n",
       "472802         51011.0                         OESTE MATOGROSSENSE 2020-05-20   \n",
       "274178         31013.0                                   BARBACENA 2020-05-18   \n",
       "62859          21011.0                                    PINHEIRO 2020-05-11   \n",
       "118366         25015.0                                  15ª REGIAO 2020-06-27   \n",
       "127659         25014.0                                  14ª REGIAO 2020-06-14   \n",
       "120646         25009.0                                   9ª REGIAO 2020-04-18   \n",
       "\n",
       "        semanaEpi populacaoTCU2019  casosAcumulado  casosNovos  \\\n",
       "447784         19            58272               0           0   \n",
       "426358         20            14151               4           0   \n",
       "62294          20             5237               0           0   \n",
       "122722         18             1921               1           0   \n",
       "472802         21             5219               4           0   \n",
       "274178         21             3425               0           0   \n",
       "62859          20            10253               1           0   \n",
       "118366         26            19153              76           0   \n",
       "127659         25             8434              55           3   \n",
       "120646         16            10244               0           0   \n",
       "\n",
       "        obitosAcumulado  obitosNovos  Recuperadosnovos  emAcompanhamentoNovos  \\\n",
       "447784                0            0               NaN                    NaN   \n",
       "426358                0            0               NaN                    NaN   \n",
       "62294                 0            0               NaN                    NaN   \n",
       "122722                0            0               NaN                    NaN   \n",
       "472802                0            0               NaN                    NaN   \n",
       "274178                0            0               NaN                    NaN   \n",
       "62859                 0            0               NaN                    NaN   \n",
       "118366                0            0               NaN                    NaN   \n",
       "127659                1            0               NaN                    NaN   \n",
       "120646                0            0               NaN                    NaN   \n",
       "\n",
       "        FgMetro  \n",
       "447784      1.0  \n",
       "426358      1.0  \n",
       "62294       0.0  \n",
       "122722      0.0  \n",
       "472802      0.0  \n",
       "274178      0.0  \n",
       "62859       0.0  \n",
       "118366      0.0  \n",
       "127659      0.0  \n",
       "120646      0.0  "
      ]
     },
     "execution_count": 5,
     "metadata": {},
     "output_type": "execute_result"
    }
   ],
   "source": [
    "df.sample(10)"
   ]
  },
  {
   "cell_type": "code",
   "execution_count": 6,
   "metadata": {},
   "outputs": [
    {
     "data": {
      "text/plain": [
       "estado\n",
       "SP    14338\n",
       "RJ     9819\n",
       "CE     5990\n",
       "PA     4845\n",
       "PE     4751\n",
       "AM     2780\n",
       "MA     1982\n",
       "BA     1748\n",
       "ES     1568\n",
       "AL     1012\n",
       "RN      937\n",
       "PB      911\n",
       "MG      899\n",
       "SE      620\n",
       "PI      615\n",
       "PR      599\n",
       "MT      563\n",
       "RS      559\n",
       "DF      548\n",
       "RO      486\n",
       "GO      435\n",
       "AP      407\n",
       "AC      353\n",
       "SC      312\n",
       "RR      281\n",
       "TO      192\n",
       "MS       72\n",
       "Name: obitosAcumulado, dtype: int64"
      ]
     },
     "execution_count": 6,
     "metadata": {},
     "output_type": "execute_result"
    }
   ],
   "source": [
    "df.groupby('estado')['obitosAcumulado'].max().sort_values(ascending=False)"
   ]
  },
  {
   "cell_type": "code",
   "execution_count": 7,
   "metadata": {},
   "outputs": [
    {
     "data": {
      "text/plain": [
       "<matplotlib.axes._subplots.AxesSubplot at 0x1c4210e8>"
      ]
     },
     "execution_count": 7,
     "metadata": {},
     "output_type": "execute_result"
    },
    {
     "data": {
      "image/png": "[encoded data removed]",
      "text/plain": [
       "<Figure size 432x288 with 1 Axes>"
      ]
     },
     "metadata": {
      "needs_background": "light"
     },
     "output_type": "display_data"
    }
   ],
   "source": [
    "df.groupby('estado')['obitosAcumulado'].max().sort_values().tail(5).plot(kind='barh')"
   ]
  },
  {
   "cell_type": "code",
   "execution_count": 8,
   "metadata": {},
   "outputs": [],
   "source": [
    "df['data'] = df['data'].dt.strftime('%d/%m')"
   ]
  },
  {
   "cell_type": "code",
   "execution_count": 9,
   "metadata": {},
   "outputs": [
    {
     "data": {
      "text/plain": [
       "<matplotlib.axes._subplots.AxesSubplot at 0x1cc3b790>"
      ]
     },
     "execution_count": 9,
     "metadata": {},
     "output_type": "execute_result"
    },
    {
     "data": {
      "image/png": "[encoded data removed]",
      "text/plain": [
       "<Figure size 432x288 with 1 Axes>"
      ]
     },
     "metadata": {
      "needs_background": "light"
     },
     "output_type": "display_data"
    }
   ],
   "source": [
    "sp = df.query('municipio == \"São Paulo\"')\n",
    "sp.tail(10).plot(kind='bar', \n",
    "        x='data', y='casosNovos', color='RED')"
   ]
  },
  {
   "cell_type": "code",
   "execution_count": 10,
   "metadata": {},
   "outputs": [
    {
     "data": {
      "text/plain": [
       "<matplotlib.axes._subplots.AxesSubplot at 0x110bc898>"
      ]
     },
     "execution_count": 10,
     "metadata": {},
     "output_type": "execute_result"
    },
    {
     "data": {
      "image/png": "[encoded data removed]",
      "text/plain": [
       "<Figure size 432x288 with 1 Axes>"
      ]
     },
     "metadata": {
      "needs_background": "light"
     },
     "output_type": "display_data"
    }
   ],
   "source": [
    "sp.groupby('semanaEpi')['casosNovos'].sum().plot(kind='bar')"
   ]
  },
  {
   "cell_type": "code",
   "execution_count": 11,
   "metadata": {},
   "outputs": [
    {
     "data": {
      "text/plain": [
       "<matplotlib.axes._subplots.AxesSubplot at 0x10d2acb8>"
      ]
     },
     "execution_count": 11,
     "metadata": {},
     "output_type": "execute_result"
    },
    {
     "data": {
      "image/png": "[encoded data removed]",
      "text/plain": [
       "<Figure size 432x288 with 1 Axes>"
      ]
     },
     "metadata": {
      "needs_background": "light"
     },
     "output_type": "display_data"
    }
   ],
   "source": [
    "sjc = df.query('municipio == \"São José dos Campos\"')\n",
    "sjc.tail(10).plot(kind='bar', \n",
    "        x='data', y='casosNovos', color='RED')"
   ]
  },
  {
   "cell_type": "code",
   "execution_count": 12,
   "metadata": {},
   "outputs": [
    {
     "data": {
      "text/plain": [
       "<matplotlib.axes._subplots.AxesSubplot at 0xfb4fe20>"
      ]
     },
     "execution_count": 12,
     "metadata": {},
     "output_type": "execute_result"
    },
    {
     "data": {
      "image/png": "[encoded data removed]",
      "text/plain": [
       "<Figure size 432x288 with 1 Axes>"
      ]
     },
     "metadata": {
      "needs_background": "light"
     },
     "output_type": "display_data"
    }
   ],
   "source": [
    "sp.groupby('semanaEpi')['casosNovos'].sum().plot(kind='bar')"
   ]
  },
  {
   "cell_type": "code",
   "execution_count": null,
   "metadata": {},
   "outputs": [],
   "source": []
  }
 ],
 "metadata": {
  "kernelspec": {
   "display_name": "Python 3",
   "language": "python",
   "name": "python3"
  },
  "language_info": {
   "codemirror_mode": {
    "name": "ipython",
    "version": 3
   },
   "file_extension": ".py",
   "mimetype": "text/x-python",
   "name": "python",
   "nbconvert_exporter": "python",
   "pygments_lexer": "ipython3",
   "version": "3.8.2"
  }
 },
 "nbformat": 4,
 "nbformat_minor": 4
}
