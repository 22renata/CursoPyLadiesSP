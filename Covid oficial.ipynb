{
 "cells": [
  {
   "cell_type": "markdown",
   "metadata": {},
   "source": [
    "#### Os dados, até a data do presente estudo, estão no https://covid.saude.gov.br/\n",
    "#### O presente arquivo é de 4 de novembro. Atenção: de acordo com o dia em que for feita a análise, a última barra da totalização por semana estará menor.\n",
    "#### Disclaimer/Aviso Legal: Este notebook tem um fim única e exclusivamente didático, para alunos da FATEC, como uma introdução à Análise de Dados Públicos. Desse modo, está excluída a garantia ou responsabilidade de qualquer tipo, por exemplo, de precisão, confiabilidade, completude e atualidade das informações."
   ]
  },
  {
   "cell_type": "code",
   "execution_count": 1,
   "metadata": {},
   "outputs": [],
   "source": [
    "import pandas as pd\n",
    "low_memory=False\n",
    "import matplotlib.pyplot as plt\n",
    "%matplotlib inline\n",
    "pd.options.display.max_columns = 80\n",
    "pd.options.display.max_rows = 90"
   ]
  },
  {
   "cell_type": "code",
   "execution_count": 2,
   "metadata": {},
   "outputs": [],
   "source": [
    "filename = r'C:\\Users\\fmasa\\Downloads\\HIST_PAINEL_COVIDBR_18nov2020.csv'\n",
    "df = pd.read_csv(filename, delimiter=';',\n",
    "                 error_bad_lines=False)"
   ]
  },
  {
   "cell_type": "code",
   "execution_count": 3,
   "metadata": {},
   "outputs": [
    {
     "data": {
      "text/plain": [
       "(1332571, 17)"
      ]
     },
     "execution_count": 3,
     "metadata": {},
     "output_type": "execute_result"
    }
   ],
   "source": [
    "df.shape"
   ]
  },
  {
   "cell_type": "code",
   "execution_count": 4,
   "metadata": {},
   "outputs": [
    {
     "name": "stdout",
     "output_type": "stream",
     "text": [
      "<class 'pandas.core.frame.DataFrame'>\n",
      "RangeIndex: 1332571 entries, 0 to 1332570\n",
      "Data columns (total 17 columns):\n",
      " #   Column                  Non-Null Count    Dtype  \n",
      "---  ------                  --------------    -----  \n",
      " 0   regiao                  1332571 non-null  object \n",
      " 1   estado                  1332303 non-null  object \n",
      " 2   municipio               1320090 non-null  object \n",
      " 3   coduf                   1332571 non-null  int64  \n",
      " 4   codmun                  1325067 non-null  float64\n",
      " 5   codRegiaoSaude          1320090 non-null  float64\n",
      " 6   nomeRegiaoSaude         1320090 non-null  object \n",
      " 7   data                    1332571 non-null  object \n",
      " 8   semanaEpi               1332571 non-null  int64  \n",
      " 9   populacaoTCU2019        1327594 non-null  float64\n",
      " 10  casosAcumulado          1332571 non-null  int64  \n",
      " 11  casosNovos              1332571 non-null  int64  \n",
      " 12  obitosAcumulado         1332571 non-null  int64  \n",
      " 13  obitosNovos             1332571 non-null  int64  \n",
      " 14  Recuperadosnovos        214 non-null      float64\n",
      " 15  emAcompanhamentoNovos   214 non-null      float64\n",
      " 16  interior/metropolitana  1320090 non-null  float64\n",
      "dtypes: float64(6), int64(6), object(5)\n",
      "memory usage: 147.4+ MB\n"
     ]
    }
   ],
   "source": [
    "df.info()"
   ]
  },
  {
   "cell_type": "code",
   "execution_count": 5,
   "metadata": {},
   "outputs": [
    {
     "data": {
      "text/html": [
       "<div>\n",
       "<style scoped>\n",
       "    .dataframe tbody tr th:only-of-type {\n",
       "        vertical-align: middle;\n",
       "    }\n",
       "\n",
       "    .dataframe tbody tr th {\n",
       "        vertical-align: top;\n",
       "    }\n",
       "\n",
       "    .dataframe thead th {\n",
       "        text-align: right;\n",
       "    }\n",
       "</style>\n",
       "<table border=\"1\" class=\"dataframe\">\n",
       "  <thead>\n",
       "    <tr style=\"text-align: right;\">\n",
       "      <th></th>\n",
       "      <th>regiao</th>\n",
       "      <th>estado</th>\n",
       "      <th>municipio</th>\n",
       "      <th>coduf</th>\n",
       "      <th>codmun</th>\n",
       "      <th>codRegiaoSaude</th>\n",
       "      <th>nomeRegiaoSaude</th>\n",
       "      <th>data</th>\n",
       "      <th>semanaEpi</th>\n",
       "      <th>populacaoTCU2019</th>\n",
       "      <th>casosAcumulado</th>\n",
       "      <th>casosNovos</th>\n",
       "      <th>obitosAcumulado</th>\n",
       "      <th>obitosNovos</th>\n",
       "      <th>Recuperadosnovos</th>\n",
       "      <th>emAcompanhamentoNovos</th>\n",
       "      <th>interior/metropolitana</th>\n",
       "    </tr>\n",
       "  </thead>\n",
       "  <tbody>\n",
       "    <tr>\n",
       "      <th>1067145</th>\n",
       "      <td>Sul</td>\n",
       "      <td>SC</td>\n",
       "      <td>Lajeado Grande</td>\n",
       "      <td>42</td>\n",
       "      <td>420945.0</td>\n",
       "      <td>42003.0</td>\n",
       "      <td>XANXERE</td>\n",
       "      <td>2020-04-10</td>\n",
       "      <td>15</td>\n",
       "      <td>1427.0</td>\n",
       "      <td>0</td>\n",
       "      <td>0</td>\n",
       "      <td>0</td>\n",
       "      <td>0</td>\n",
       "      <td>NaN</td>\n",
       "      <td>NaN</td>\n",
       "      <td>0.0</td>\n",
       "    </tr>\n",
       "    <tr>\n",
       "      <th>278825</th>\n",
       "      <td>Nordeste</td>\n",
       "      <td>RN</td>\n",
       "      <td>Jardim do Seridó</td>\n",
       "      <td>24</td>\n",
       "      <td>240570.0</td>\n",
       "      <td>24004.0</td>\n",
       "      <td>4ª REGIAO DE SAUDE - CAICO</td>\n",
       "      <td>2020-10-06</td>\n",
       "      <td>41</td>\n",
       "      <td>12396.0</td>\n",
       "      <td>132</td>\n",
       "      <td>0</td>\n",
       "      <td>2</td>\n",
       "      <td>0</td>\n",
       "      <td>NaN</td>\n",
       "      <td>NaN</td>\n",
       "      <td>0.0</td>\n",
       "    </tr>\n",
       "    <tr>\n",
       "      <th>493221</th>\n",
       "      <td>Nordeste</td>\n",
       "      <td>BA</td>\n",
       "      <td>Jaguaripe</td>\n",
       "      <td>29</td>\n",
       "      <td>291780.0</td>\n",
       "      <td>29022.0</td>\n",
       "      <td>SANTO ANTONIO DE JESUS</td>\n",
       "      <td>2020-07-09</td>\n",
       "      <td>28</td>\n",
       "      <td>18788.0</td>\n",
       "      <td>52</td>\n",
       "      <td>0</td>\n",
       "      <td>2</td>\n",
       "      <td>0</td>\n",
       "      <td>NaN</td>\n",
       "      <td>NaN</td>\n",
       "      <td>0.0</td>\n",
       "    </tr>\n",
       "    <tr>\n",
       "      <th>664134</th>\n",
       "      <td>Sudeste</td>\n",
       "      <td>MG</td>\n",
       "      <td>Natércia</td>\n",
       "      <td>31</td>\n",
       "      <td>314440.0</td>\n",
       "      <td>31007.0</td>\n",
       "      <td>POUSO ALEGRE</td>\n",
       "      <td>2020-08-14</td>\n",
       "      <td>33</td>\n",
       "      <td>4730.0</td>\n",
       "      <td>38</td>\n",
       "      <td>0</td>\n",
       "      <td>0</td>\n",
       "      <td>0</td>\n",
       "      <td>NaN</td>\n",
       "      <td>NaN</td>\n",
       "      <td>0.0</td>\n",
       "    </tr>\n",
       "    <tr>\n",
       "      <th>945550</th>\n",
       "      <td>Sul</td>\n",
       "      <td>PR</td>\n",
       "      <td>Barbosa Ferraz</td>\n",
       "      <td>41</td>\n",
       "      <td>410250.0</td>\n",
       "      <td>41011.0</td>\n",
       "      <td>11ª RS CAMPO MOURAO</td>\n",
       "      <td>2020-03-27</td>\n",
       "      <td>13</td>\n",
       "      <td>11568.0</td>\n",
       "      <td>0</td>\n",
       "      <td>0</td>\n",
       "      <td>0</td>\n",
       "      <td>0</td>\n",
       "      <td>NaN</td>\n",
       "      <td>NaN</td>\n",
       "      <td>0.0</td>\n",
       "    </tr>\n",
       "    <tr>\n",
       "      <th>81166</th>\n",
       "      <td>Norte</td>\n",
       "      <td>AP</td>\n",
       "      <td>Santana</td>\n",
       "      <td>16</td>\n",
       "      <td>160060.0</td>\n",
       "      <td>16003.0</td>\n",
       "      <td>AREA SUDOESTE</td>\n",
       "      <td>2020-10-05</td>\n",
       "      <td>41</td>\n",
       "      <td>121364.0</td>\n",
       "      <td>8867</td>\n",
       "      <td>21</td>\n",
       "      <td>86</td>\n",
       "      <td>0</td>\n",
       "      <td>NaN</td>\n",
       "      <td>NaN</td>\n",
       "      <td>1.0</td>\n",
       "    </tr>\n",
       "    <tr>\n",
       "      <th>502003</th>\n",
       "      <td>Nordeste</td>\n",
       "      <td>BA</td>\n",
       "      <td>Maracás</td>\n",
       "      <td>29</td>\n",
       "      <td>292050.0</td>\n",
       "      <td>29015.0</td>\n",
       "      <td>JEQUIE</td>\n",
       "      <td>2020-07-22</td>\n",
       "      <td>30</td>\n",
       "      <td>20834.0</td>\n",
       "      <td>144</td>\n",
       "      <td>29</td>\n",
       "      <td>3</td>\n",
       "      <td>0</td>\n",
       "      <td>NaN</td>\n",
       "      <td>NaN</td>\n",
       "      <td>0.0</td>\n",
       "    </tr>\n",
       "    <tr>\n",
       "      <th>707315</th>\n",
       "      <td>Sudeste</td>\n",
       "      <td>MG</td>\n",
       "      <td>Santa Rosa da Serra</td>\n",
       "      <td>31</td>\n",
       "      <td>315970.0</td>\n",
       "      <td>31082.0</td>\n",
       "      <td>SAO GOTARDO</td>\n",
       "      <td>2020-09-30</td>\n",
       "      <td>40</td>\n",
       "      <td>3350.0</td>\n",
       "      <td>13</td>\n",
       "      <td>0</td>\n",
       "      <td>0</td>\n",
       "      <td>0</td>\n",
       "      <td>NaN</td>\n",
       "      <td>NaN</td>\n",
       "      <td>0.0</td>\n",
       "    </tr>\n",
       "    <tr>\n",
       "      <th>116544</th>\n",
       "      <td>Nordeste</td>\n",
       "      <td>MA</td>\n",
       "      <td>Alto Alegre do Maranhão</td>\n",
       "      <td>21</td>\n",
       "      <td>210043.0</td>\n",
       "      <td>21007.0</td>\n",
       "      <td>CODO</td>\n",
       "      <td>2020-04-16</td>\n",
       "      <td>16</td>\n",
       "      <td>27053.0</td>\n",
       "      <td>0</td>\n",
       "      <td>0</td>\n",
       "      <td>0</td>\n",
       "      <td>0</td>\n",
       "      <td>NaN</td>\n",
       "      <td>NaN</td>\n",
       "      <td>0.0</td>\n",
       "    </tr>\n",
       "    <tr>\n",
       "      <th>1061030</th>\n",
       "      <td>Sul</td>\n",
       "      <td>SC</td>\n",
       "      <td>Iporã do Oeste</td>\n",
       "      <td>42</td>\n",
       "      <td>420765.0</td>\n",
       "      <td>42001.0</td>\n",
       "      <td>EXTREMO OESTE</td>\n",
       "      <td>2020-05-27</td>\n",
       "      <td>22</td>\n",
       "      <td>8996.0</td>\n",
       "      <td>0</td>\n",
       "      <td>0</td>\n",
       "      <td>0</td>\n",
       "      <td>0</td>\n",
       "      <td>NaN</td>\n",
       "      <td>NaN</td>\n",
       "      <td>0.0</td>\n",
       "    </tr>\n",
       "  </tbody>\n",
       "</table>\n",
       "</div>"
      ],
      "text/plain": [
       "           regiao estado                municipio  coduf    codmun  \\\n",
       "1067145       Sul     SC           Lajeado Grande     42  420945.0   \n",
       "278825   Nordeste     RN         Jardim do Seridó     24  240570.0   \n",
       "493221   Nordeste     BA                Jaguaripe     29  291780.0   \n",
       "664134    Sudeste     MG                 Natércia     31  314440.0   \n",
       "945550        Sul     PR           Barbosa Ferraz     41  410250.0   \n",
       "81166       Norte     AP                  Santana     16  160060.0   \n",
       "502003   Nordeste     BA                  Maracás     29  292050.0   \n",
       "707315    Sudeste     MG      Santa Rosa da Serra     31  315970.0   \n",
       "116544   Nordeste     MA  Alto Alegre do Maranhão     21  210043.0   \n",
       "1061030       Sul     SC           Iporã do Oeste     42  420765.0   \n",
       "\n",
       "         codRegiaoSaude             nomeRegiaoSaude        data  semanaEpi  \\\n",
       "1067145         42003.0                     XANXERE  2020-04-10         15   \n",
       "278825          24004.0  4ª REGIAO DE SAUDE - CAICO  2020-10-06         41   \n",
       "493221          29022.0      SANTO ANTONIO DE JESUS  2020-07-09         28   \n",
       "664134          31007.0                POUSO ALEGRE  2020-08-14         33   \n",
       "945550          41011.0         11ª RS CAMPO MOURAO  2020-03-27         13   \n",
       "81166           16003.0               AREA SUDOESTE  2020-10-05         41   \n",
       "502003          29015.0                      JEQUIE  2020-07-22         30   \n",
       "707315          31082.0                 SAO GOTARDO  2020-09-30         40   \n",
       "116544          21007.0                        CODO  2020-04-16         16   \n",
       "1061030         42001.0               EXTREMO OESTE  2020-05-27         22   \n",
       "\n",
       "         populacaoTCU2019  casosAcumulado  casosNovos  obitosAcumulado  \\\n",
       "1067145            1427.0               0           0                0   \n",
       "278825            12396.0             132           0                2   \n",
       "493221            18788.0              52           0                2   \n",
       "664134             4730.0              38           0                0   \n",
       "945550            11568.0               0           0                0   \n",
       "81166            121364.0            8867          21               86   \n",
       "502003            20834.0             144          29                3   \n",
       "707315             3350.0              13           0                0   \n",
       "116544            27053.0               0           0                0   \n",
       "1061030            8996.0               0           0                0   \n",
       "\n",
       "         obitosNovos  Recuperadosnovos  emAcompanhamentoNovos  \\\n",
       "1067145            0               NaN                    NaN   \n",
       "278825             0               NaN                    NaN   \n",
       "493221             0               NaN                    NaN   \n",
       "664134             0               NaN                    NaN   \n",
       "945550             0               NaN                    NaN   \n",
       "81166              0               NaN                    NaN   \n",
       "502003             0               NaN                    NaN   \n",
       "707315             0               NaN                    NaN   \n",
       "116544             0               NaN                    NaN   \n",
       "1061030            0               NaN                    NaN   \n",
       "\n",
       "         interior/metropolitana  \n",
       "1067145                     0.0  \n",
       "278825                      0.0  \n",
       "493221                      0.0  \n",
       "664134                      0.0  \n",
       "945550                      0.0  \n",
       "81166                       1.0  \n",
       "502003                      0.0  \n",
       "707315                      0.0  \n",
       "116544                      0.0  \n",
       "1061030                     0.0  "
      ]
     },
     "execution_count": 5,
     "metadata": {},
     "output_type": "execute_result"
    }
   ],
   "source": [
    "df.sample(10)"
   ]
  },
  {
   "cell_type": "code",
   "execution_count": 6,
   "metadata": {},
   "outputs": [
    {
     "data": {
      "text/plain": [
       "estado\n",
       "SP    40927\n",
       "RJ    21698\n",
       "MG     9605\n",
       "CE     9461\n",
       "PE     8873\n",
       "BA     8013\n",
       "PA     6844\n",
       "RS     6356\n",
       "GO     6107\n",
       "PR     5793\n",
       "AM     4728\n",
       "MA     4203\n",
       "ES     4058\n",
       "MT     4009\n",
       "DF     3845\n",
       "SC     3384\n",
       "PB     3223\n",
       "RN     2649\n",
       "PI     2554\n",
       "AL     2304\n",
       "SE     2266\n",
       "MS     1699\n",
       "RO     1511\n",
       "TO     1144\n",
       "AP      783\n",
       "RR      709\n",
       "AC      709\n",
       "Name: obitosAcumulado, dtype: int64"
      ]
     },
     "execution_count": 6,
     "metadata": {},
     "output_type": "execute_result"
    }
   ],
   "source": [
    "df.groupby('estado')['obitosAcumulado'].max().sort_values(ascending=False)"
   ]
  },
  {
   "cell_type": "code",
   "execution_count": 7,
   "metadata": {},
   "outputs": [
    {
     "data": {
      "text/plain": [
       "<AxesSubplot:ylabel='estado'>"
      ]
     },
     "execution_count": 7,
     "metadata": {},
     "output_type": "execute_result"
    },
    {
     "data": {
      "image/png": "[encoded data removed]",
      "text/plain": [
       "<Figure size 432x288 with 1 Axes>"
      ]
     },
     "metadata": {
      "needs_background": "light"
     },
     "output_type": "display_data"
    }
   ],
   "source": [
    "df.groupby('estado')['obitosAcumulado'].max().sort_values().tail(5).plot(kind='barh')"
   ]
  },
  {
   "cell_type": "code",
   "execution_count": 8,
   "metadata": {},
   "outputs": [
    {
     "data": {
      "text/plain": [
       "<AxesSubplot:xlabel='data'>"
      ]
     },
     "execution_count": 8,
     "metadata": {},
     "output_type": "execute_result"
    },
    {
     "data": {
      "image/png": "[encoded data removed]",
      "text/plain": [
       "<Figure size 432x288 with 1 Axes>"
      ]
     },
     "metadata": {
      "needs_background": "light"
     },
     "output_type": "display_data"
    }
   ],
   "source": [
    "rj = df.query('municipio == \"Rio de Janeiro\"')\n",
    "rj.tail(14).plot(kind='bar', \n",
    "        x='data', y='casosNovos', color='GREEN')"
   ]
  },
  {
   "cell_type": "code",
   "execution_count": 9,
   "metadata": {},
   "outputs": [
    {
     "data": {
      "text/plain": [
       "<AxesSubplot:xlabel='semanaEpi'>"
      ]
     },
     "execution_count": 9,
     "metadata": {},
     "output_type": "execute_result"
    },
    {
     "data": {
      "image/png": "[encoded data removed]",
      "text/plain": [
       "<Figure size 432x288 with 1 Axes>"
      ]
     },
     "metadata": {
      "needs_background": "light"
     },
     "output_type": "display_data"
    }
   ],
   "source": [
    "rj.groupby('semanaEpi')['casosNovos'].sum().plot(kind='bar')"
   ]
  },
  {
   "cell_type": "code",
   "execution_count": 10,
   "metadata": {},
   "outputs": [
    {
     "data": {
      "text/plain": [
       "<AxesSubplot:xlabel='data'>"
      ]
     },
     "execution_count": 10,
     "metadata": {},
     "output_type": "execute_result"
    },
    {
     "data": {
      "image/png": "[encoded data removed]",
      "text/plain": [
       "<Figure size 432x288 with 1 Axes>"
      ]
     },
     "metadata": {
      "needs_background": "light"
     },
     "output_type": "display_data"
    }
   ],
   "source": [
    "sp = df.query('municipio == \"São Paulo\"')\n",
    "sp.tail(10).plot(kind='bar', \n",
    "        x='data', y='casosNovos', color='RED')"
   ]
  },
  {
   "cell_type": "code",
   "execution_count": 11,
   "metadata": {},
   "outputs": [
    {
     "data": {
      "text/plain": [
       "<AxesSubplot:xlabel='semanaEpi'>"
      ]
     },
     "execution_count": 11,
     "metadata": {},
     "output_type": "execute_result"
    },
    {
     "data": {
      "image/png": "[encoded data removed]",
      "text/plain": [
       "<Figure size 432x288 with 1 Axes>"
      ]
     },
     "metadata": {
      "needs_background": "light"
     },
     "output_type": "display_data"
    }
   ],
   "source": [
    "sp.groupby('semanaEpi')['casosNovos'].sum().plot(kind='bar')"
   ]
  },
  {
   "cell_type": "code",
   "execution_count": null,
   "metadata": {},
   "outputs": [],
   "source": []
  }
 ],
 "metadata": {
  "kernelspec": {
   "display_name": "Python 3",
   "language": "python",
   "name": "python3"
  },
  "language_info": {
   "codemirror_mode": {
    "name": "ipython",
    "version": 3
   },
   "file_extension": ".py",
   "mimetype": "text/x-python",
   "name": "python",
   "nbconvert_exporter": "python",
   "pygments_lexer": "ipython3",
   "version": "3.8.2"
  }
 },
 "nbformat": 4,
 "nbformat_minor": 4
}
