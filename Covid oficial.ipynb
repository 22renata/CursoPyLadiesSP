{
 "cells": [
  {
   "cell_type": "markdown",
   "metadata": {},
   "source": [
    "#### Os dados, até a data do presente estudo, estão no https://covid.saude.gov.br/\n",
    "#### O presente arquivo é de 20 de outubro. Atenção: de acordo com o dia em que for feita a análise, a última barra da totalização por semana estará menor.\n",
    "#### Disclaimer/Aviso Legal: Este notebook tem um fim única e exclusivamente didático, para alunos da FATEC, como uma introdução à Análise de Dados Públicos. Desse modo, está excluída a garantia ou responsabilidade de qualquer tipo, por exemplo, de precisão, confiabilidade, completude e atualidade das informações."
   ]
  },
  {
   "cell_type": "code",
   "execution_count": 1,
   "metadata": {},
   "outputs": [],
   "source": [
    "import pandas as pd\n",
    "low_memory=False\n",
    "import matplotlib.pyplot as plt\n",
    "%matplotlib inline\n",
    "pd.options.display.max_columns = 80\n",
    "pd.options.display.max_rows = 90"
   ]
  },
  {
   "cell_type": "code",
   "execution_count": 2,
   "metadata": {},
   "outputs": [],
   "source": [
    "filename = r'C:\\Users\\fmasa\\Downloads\\HIST_PAINEL_COVIDBR_20out2020.csv'\n",
    "df = pd.read_csv(filename, delimiter=';',\n",
    "                 error_bad_lines=False)"
   ]
  },
  {
   "cell_type": "code",
   "execution_count": 3,
   "metadata": {},
   "outputs": [
    {
     "data": {
      "text/plain": [
       "(1169620, 17)"
      ]
     },
     "execution_count": 3,
     "metadata": {},
     "output_type": "execute_result"
    }
   ],
   "source": [
    "df.shape"
   ]
  },
  {
   "cell_type": "code",
   "execution_count": 4,
   "metadata": {},
   "outputs": [
    {
     "name": "stdout",
     "output_type": "stream",
     "text": [
      "<class 'pandas.core.frame.DataFrame'>\n",
      "RangeIndex: 1169620 entries, 0 to 1169619\n",
      "Data columns (total 17 columns):\n",
      " #   Column                  Non-Null Count    Dtype  \n",
      "---  ------                  --------------    -----  \n",
      " 0   regiao                  1169620 non-null  object \n",
      " 1   estado                  1169381 non-null  object \n",
      " 2   municipio               1158560 non-null  object \n",
      " 3   coduf                   1169620 non-null  int64  \n",
      " 4   codmun                  1162928 non-null  float64\n",
      " 5   codRegiaoSaude          1158560 non-null  float64\n",
      " 6   nomeRegiaoSaude         1158560 non-null  object \n",
      " 7   data                    1169620 non-null  object \n",
      " 8   semanaEpi               1169620 non-null  int64  \n",
      " 9   populacaoTCU2019        1165252 non-null  float64\n",
      " 10  casosAcumulado          1169620 non-null  int64  \n",
      " 11  casosNovos              1169620 non-null  int64  \n",
      " 12  obitosAcumulado         1169620 non-null  int64  \n",
      " 13  obitosNovos             1169620 non-null  int64  \n",
      " 14  Recuperadosnovos        185 non-null      float64\n",
      " 15  emAcompanhamentoNovos   185 non-null      float64\n",
      " 16  interior/metropolitana  1158560 non-null  float64\n",
      "dtypes: float64(6), int64(6), object(5)\n",
      "memory usage: 129.4+ MB\n"
     ]
    }
   ],
   "source": [
    "df.info()"
   ]
  },
  {
   "cell_type": "code",
   "execution_count": 5,
   "metadata": {},
   "outputs": [
    {
     "data": {
      "text/html": [
       "<div>\n",
       "<style scoped>\n",
       "    .dataframe tbody tr th:only-of-type {\n",
       "        vertical-align: middle;\n",
       "    }\n",
       "\n",
       "    .dataframe tbody tr th {\n",
       "        vertical-align: top;\n",
       "    }\n",
       "\n",
       "    .dataframe thead th {\n",
       "        text-align: right;\n",
       "    }\n",
       "</style>\n",
       "<table border=\"1\" class=\"dataframe\">\n",
       "  <thead>\n",
       "    <tr style=\"text-align: right;\">\n",
       "      <th></th>\n",
       "      <th>regiao</th>\n",
       "      <th>estado</th>\n",
       "      <th>municipio</th>\n",
       "      <th>coduf</th>\n",
       "      <th>codmun</th>\n",
       "      <th>codRegiaoSaude</th>\n",
       "      <th>nomeRegiaoSaude</th>\n",
       "      <th>data</th>\n",
       "      <th>semanaEpi</th>\n",
       "      <th>populacaoTCU2019</th>\n",
       "      <th>casosAcumulado</th>\n",
       "      <th>casosNovos</th>\n",
       "      <th>obitosAcumulado</th>\n",
       "      <th>obitosNovos</th>\n",
       "      <th>Recuperadosnovos</th>\n",
       "      <th>emAcompanhamentoNovos</th>\n",
       "      <th>interior/metropolitana</th>\n",
       "    </tr>\n",
       "  </thead>\n",
       "  <tbody>\n",
       "    <tr>\n",
       "      <th>712401</th>\n",
       "      <td>Sudeste</td>\n",
       "      <td>SP</td>\n",
       "      <td>Campo Limpo Paulista</td>\n",
       "      <td>35</td>\n",
       "      <td>350960.0</td>\n",
       "      <td>35073.0</td>\n",
       "      <td>JUNDIAI</td>\n",
       "      <td>2020-09-16</td>\n",
       "      <td>38</td>\n",
       "      <td>84650.0</td>\n",
       "      <td>1158</td>\n",
       "      <td>73</td>\n",
       "      <td>65</td>\n",
       "      <td>0</td>\n",
       "      <td>NaN</td>\n",
       "      <td>NaN</td>\n",
       "      <td>0.0</td>\n",
       "    </tr>\n",
       "    <tr>\n",
       "      <th>903718</th>\n",
       "      <td>Sul</td>\n",
       "      <td>PR</td>\n",
       "      <td>Tupãssi</td>\n",
       "      <td>41</td>\n",
       "      <td>412795.0</td>\n",
       "      <td>41020.0</td>\n",
       "      <td>20ª RS TOLEDO</td>\n",
       "      <td>2020-08-04</td>\n",
       "      <td>32</td>\n",
       "      <td>8124.0</td>\n",
       "      <td>59</td>\n",
       "      <td>0</td>\n",
       "      <td>1</td>\n",
       "      <td>0</td>\n",
       "      <td>NaN</td>\n",
       "      <td>NaN</td>\n",
       "      <td>0.0</td>\n",
       "    </tr>\n",
       "    <tr>\n",
       "      <th>915017</th>\n",
       "      <td>Sul</td>\n",
       "      <td>SC</td>\n",
       "      <td>Bocaina do Sul</td>\n",
       "      <td>42</td>\n",
       "      <td>420243.0</td>\n",
       "      <td>42013.0</td>\n",
       "      <td>SERRA CATARINENSE</td>\n",
       "      <td>2020-10-10</td>\n",
       "      <td>41</td>\n",
       "      <td>3474.0</td>\n",
       "      <td>28</td>\n",
       "      <td>0</td>\n",
       "      <td>2</td>\n",
       "      <td>0</td>\n",
       "      <td>NaN</td>\n",
       "      <td>NaN</td>\n",
       "      <td>0.0</td>\n",
       "    </tr>\n",
       "    <tr>\n",
       "      <th>572441</th>\n",
       "      <td>Sudeste</td>\n",
       "      <td>MG</td>\n",
       "      <td>Mário Campos</td>\n",
       "      <td>31</td>\n",
       "      <td>314015.0</td>\n",
       "      <td>31017.0</td>\n",
       "      <td>BETIM</td>\n",
       "      <td>2020-10-10</td>\n",
       "      <td>41</td>\n",
       "      <td>15416.0</td>\n",
       "      <td>138</td>\n",
       "      <td>0</td>\n",
       "      <td>9</td>\n",
       "      <td>0</td>\n",
       "      <td>NaN</td>\n",
       "      <td>NaN</td>\n",
       "      <td>1.0</td>\n",
       "    </tr>\n",
       "    <tr>\n",
       "      <th>776475</th>\n",
       "      <td>Sudeste</td>\n",
       "      <td>SP</td>\n",
       "      <td>Pedreira</td>\n",
       "      <td>35</td>\n",
       "      <td>353710.0</td>\n",
       "      <td>35072.0</td>\n",
       "      <td>REGIAO METROPOLITANA DE CAMPINAS</td>\n",
       "      <td>2020-09-26</td>\n",
       "      <td>39</td>\n",
       "      <td>47919.0</td>\n",
       "      <td>541</td>\n",
       "      <td>-1</td>\n",
       "      <td>7</td>\n",
       "      <td>0</td>\n",
       "      <td>NaN</td>\n",
       "      <td>NaN</td>\n",
       "      <td>1.0</td>\n",
       "    </tr>\n",
       "    <tr>\n",
       "      <th>1110894</th>\n",
       "      <td>Centro-Oeste</td>\n",
       "      <td>MT</td>\n",
       "      <td>Santa Carmem</td>\n",
       "      <td>51</td>\n",
       "      <td>510724.0</td>\n",
       "      <td>51014.0</td>\n",
       "      <td>TELES PIRES</td>\n",
       "      <td>2020-08-12</td>\n",
       "      <td>33</td>\n",
       "      <td>4525.0</td>\n",
       "      <td>81</td>\n",
       "      <td>2</td>\n",
       "      <td>1</td>\n",
       "      <td>0</td>\n",
       "      <td>NaN</td>\n",
       "      <td>NaN</td>\n",
       "      <td>0.0</td>\n",
       "    </tr>\n",
       "    <tr>\n",
       "      <th>465286</th>\n",
       "      <td>Nordeste</td>\n",
       "      <td>BA</td>\n",
       "      <td>Saubara</td>\n",
       "      <td>29</td>\n",
       "      <td>292975.0</td>\n",
       "      <td>29020.0</td>\n",
       "      <td>SALVADOR</td>\n",
       "      <td>2020-09-05</td>\n",
       "      <td>36</td>\n",
       "      <td>12043.0</td>\n",
       "      <td>60</td>\n",
       "      <td>0</td>\n",
       "      <td>6</td>\n",
       "      <td>0</td>\n",
       "      <td>NaN</td>\n",
       "      <td>NaN</td>\n",
       "      <td>0.0</td>\n",
       "    </tr>\n",
       "    <tr>\n",
       "      <th>33695</th>\n",
       "      <td>Norte</td>\n",
       "      <td>AM</td>\n",
       "      <td>Silves</td>\n",
       "      <td>13</td>\n",
       "      <td>130400.0</td>\n",
       "      <td>13004.0</td>\n",
       "      <td>MEDIO AMAZONAS</td>\n",
       "      <td>2020-09-14</td>\n",
       "      <td>38</td>\n",
       "      <td>9171.0</td>\n",
       "      <td>352</td>\n",
       "      <td>0</td>\n",
       "      <td>5</td>\n",
       "      <td>0</td>\n",
       "      <td>NaN</td>\n",
       "      <td>NaN</td>\n",
       "      <td>1.0</td>\n",
       "    </tr>\n",
       "    <tr>\n",
       "      <th>1014804</th>\n",
       "      <td>Sul</td>\n",
       "      <td>RS</td>\n",
       "      <td>Jaguarão</td>\n",
       "      <td>43</td>\n",
       "      <td>431100.0</td>\n",
       "      <td>43021.0</td>\n",
       "      <td>REGIAO 21</td>\n",
       "      <td>2020-08-18</td>\n",
       "      <td>34</td>\n",
       "      <td>26680.0</td>\n",
       "      <td>60</td>\n",
       "      <td>0</td>\n",
       "      <td>3</td>\n",
       "      <td>0</td>\n",
       "      <td>NaN</td>\n",
       "      <td>NaN</td>\n",
       "      <td>0.0</td>\n",
       "    </tr>\n",
       "    <tr>\n",
       "      <th>478718</th>\n",
       "      <td>Sudeste</td>\n",
       "      <td>MG</td>\n",
       "      <td>Alagoa</td>\n",
       "      <td>31</td>\n",
       "      <td>310130.0</td>\n",
       "      <td>31008.0</td>\n",
       "      <td>SAO LOURENCO</td>\n",
       "      <td>2020-06-09</td>\n",
       "      <td>24</td>\n",
       "      <td>2674.0</td>\n",
       "      <td>0</td>\n",
       "      <td>0</td>\n",
       "      <td>0</td>\n",
       "      <td>0</td>\n",
       "      <td>NaN</td>\n",
       "      <td>NaN</td>\n",
       "      <td>0.0</td>\n",
       "    </tr>\n",
       "  </tbody>\n",
       "</table>\n",
       "</div>"
      ],
      "text/plain": [
       "               regiao estado             municipio  coduf    codmun  \\\n",
       "712401        Sudeste     SP  Campo Limpo Paulista     35  350960.0   \n",
       "903718            Sul     PR               Tupãssi     41  412795.0   \n",
       "915017            Sul     SC        Bocaina do Sul     42  420243.0   \n",
       "572441        Sudeste     MG          Mário Campos     31  314015.0   \n",
       "776475        Sudeste     SP              Pedreira     35  353710.0   \n",
       "1110894  Centro-Oeste     MT          Santa Carmem     51  510724.0   \n",
       "465286       Nordeste     BA               Saubara     29  292975.0   \n",
       "33695           Norte     AM                Silves     13  130400.0   \n",
       "1014804           Sul     RS              Jaguarão     43  431100.0   \n",
       "478718        Sudeste     MG                Alagoa     31  310130.0   \n",
       "\n",
       "         codRegiaoSaude                   nomeRegiaoSaude        data  \\\n",
       "712401          35073.0                           JUNDIAI  2020-09-16   \n",
       "903718          41020.0                     20ª RS TOLEDO  2020-08-04   \n",
       "915017          42013.0                 SERRA CATARINENSE  2020-10-10   \n",
       "572441          31017.0                             BETIM  2020-10-10   \n",
       "776475          35072.0  REGIAO METROPOLITANA DE CAMPINAS  2020-09-26   \n",
       "1110894         51014.0                       TELES PIRES  2020-08-12   \n",
       "465286          29020.0                          SALVADOR  2020-09-05   \n",
       "33695           13004.0                    MEDIO AMAZONAS  2020-09-14   \n",
       "1014804         43021.0                         REGIAO 21  2020-08-18   \n",
       "478718          31008.0                      SAO LOURENCO  2020-06-09   \n",
       "\n",
       "         semanaEpi  populacaoTCU2019  casosAcumulado  casosNovos  \\\n",
       "712401          38           84650.0            1158          73   \n",
       "903718          32            8124.0              59           0   \n",
       "915017          41            3474.0              28           0   \n",
       "572441          41           15416.0             138           0   \n",
       "776475          39           47919.0             541          -1   \n",
       "1110894         33            4525.0              81           2   \n",
       "465286          36           12043.0              60           0   \n",
       "33695           38            9171.0             352           0   \n",
       "1014804         34           26680.0              60           0   \n",
       "478718          24            2674.0               0           0   \n",
       "\n",
       "         obitosAcumulado  obitosNovos  Recuperadosnovos  \\\n",
       "712401                65            0               NaN   \n",
       "903718                 1            0               NaN   \n",
       "915017                 2            0               NaN   \n",
       "572441                 9            0               NaN   \n",
       "776475                 7            0               NaN   \n",
       "1110894                1            0               NaN   \n",
       "465286                 6            0               NaN   \n",
       "33695                  5            0               NaN   \n",
       "1014804                3            0               NaN   \n",
       "478718                 0            0               NaN   \n",
       "\n",
       "         emAcompanhamentoNovos  interior/metropolitana  \n",
       "712401                     NaN                     0.0  \n",
       "903718                     NaN                     0.0  \n",
       "915017                     NaN                     0.0  \n",
       "572441                     NaN                     1.0  \n",
       "776475                     NaN                     1.0  \n",
       "1110894                    NaN                     0.0  \n",
       "465286                     NaN                     0.0  \n",
       "33695                      NaN                     1.0  \n",
       "1014804                    NaN                     0.0  \n",
       "478718                     NaN                     0.0  "
      ]
     },
     "execution_count": 5,
     "metadata": {},
     "output_type": "execute_result"
    }
   ],
   "source": [
    "df.sample(10)"
   ]
  },
  {
   "cell_type": "code",
   "execution_count": 6,
   "metadata": {},
   "outputs": [
    {
     "data": {
      "text/plain": [
       "estado\n",
       "SP    38246\n",
       "RJ    19836\n",
       "CE     9218\n",
       "PE     8505\n",
       "MG     8483\n",
       "BA     7363\n",
       "PA     6686\n",
       "RS     5452\n",
       "GO     5444\n",
       "PR     4999\n",
       "AM     4363\n",
       "MA     3949\n",
       "ES     3740\n",
       "MT     3690\n",
       "DF     3575\n",
       "PB     3010\n",
       "SC     2991\n",
       "RN     2553\n",
       "PI     2304\n",
       "AL     2187\n",
       "SE     2145\n",
       "MS     1512\n",
       "RO     1429\n",
       "TO     1055\n",
       "AP      734\n",
       "RR      686\n",
       "AC      682\n",
       "Name: obitosAcumulado, dtype: int64"
      ]
     },
     "execution_count": 6,
     "metadata": {},
     "output_type": "execute_result"
    }
   ],
   "source": [
    "df.groupby('estado')['obitosAcumulado'].max().sort_values(ascending=False)"
   ]
  },
  {
   "cell_type": "code",
   "execution_count": 7,
   "metadata": {},
   "outputs": [
    {
     "data": {
      "text/plain": [
       "<AxesSubplot:ylabel='estado'>"
      ]
     },
     "execution_count": 7,
     "metadata": {},
     "output_type": "execute_result"
    },
    {
     "data": {
      "image/png": "[encoded data removed]",
      "text/plain": [
       "<Figure size 432x288 with 1 Axes>"
      ]
     },
     "metadata": {
      "needs_background": "light"
     },
     "output_type": "display_data"
    }
   ],
   "source": [
    "df.groupby('estado')['obitosAcumulado'].max().sort_values().tail(5).plot(kind='barh')"
   ]
  },
  {
   "cell_type": "code",
   "execution_count": 8,
   "metadata": {},
   "outputs": [
    {
     "data": {
      "text/plain": [
       "<AxesSubplot:xlabel='data'>"
      ]
     },
     "execution_count": 8,
     "metadata": {},
     "output_type": "execute_result"
    },
    {
     "data": {
      "image/png": "[encoded data removed]",
      "text/plain": [
       "<Figure size 432x288 with 1 Axes>"
      ]
     },
     "metadata": {
      "needs_background": "light"
     },
     "output_type": "display_data"
    }
   ],
   "source": [
    "sp = df.query('municipio == \"São Paulo\"')\n",
    "sp.tail(10).plot(kind='bar', \n",
    "        x='data', y='casosNovos', color='RED')"
   ]
  },
  {
   "cell_type": "code",
   "execution_count": 9,
   "metadata": {},
   "outputs": [
    {
     "data": {
      "text/plain": [
       "<AxesSubplot:xlabel='semanaEpi'>"
      ]
     },
     "execution_count": 9,
     "metadata": {},
     "output_type": "execute_result"
    },
    {
     "data": {
      "image/png": "[encoded data removed]",
      "text/plain": [
       "<Figure size 432x288 with 1 Axes>"
      ]
     },
     "metadata": {
      "needs_background": "light"
     },
     "output_type": "display_data"
    }
   ],
   "source": [
    "sp.groupby('semanaEpi')['casosNovos'].sum().plot(kind='bar')"
   ]
  },
  {
   "cell_type": "code",
   "execution_count": 10,
   "metadata": {},
   "outputs": [
    {
     "data": {
      "text/plain": [
       "<AxesSubplot:xlabel='data'>"
      ]
     },
     "execution_count": 10,
     "metadata": {},
     "output_type": "execute_result"
    },
    {
     "data": {
      "image/png": "[encoded data removed]",
      "text/plain": [
       "<Figure size 432x288 with 1 Axes>"
      ]
     },
     "metadata": {
      "needs_background": "light"
     },
     "output_type": "display_data"
    }
   ],
   "source": [
    "sjc = df.query('municipio == \"São José dos Campos\"')\n",
    "sjc.tail(10).plot(kind='bar', \n",
    "        x='data', y='casosNovos', color='RED')"
   ]
  },
  {
   "cell_type": "code",
   "execution_count": 11,
   "metadata": {},
   "outputs": [
    {
     "data": {
      "text/plain": [
       "<AxesSubplot:xlabel='semanaEpi'>"
      ]
     },
     "execution_count": 11,
     "metadata": {},
     "output_type": "execute_result"
    },
    {
     "data": {
      "image/png": "[encoded data removed]",
      "text/plain": [
       "<Figure size 432x288 with 1 Axes>"
      ]
     },
     "metadata": {
      "needs_background": "light"
     },
     "output_type": "display_data"
    }
   ],
   "source": [
    "sp.groupby('semanaEpi')['casosNovos'].sum().plot(kind='bar')"
   ]
  },
  {
   "cell_type": "code",
   "execution_count": null,
   "metadata": {},
   "outputs": [],
   "source": []
  }
 ],
 "metadata": {
  "kernelspec": {
   "display_name": "Python 3",
   "language": "python",
   "name": "python3"
  },
  "language_info": {
   "codemirror_mode": {
    "name": "ipython",
    "version": 3
   },
   "file_extension": ".py",
   "mimetype": "text/x-python",
   "name": "python",
   "nbconvert_exporter": "python",
   "pygments_lexer": "ipython3",
   "version": "3.8.2"
  }
 },
 "nbformat": 4,
 "nbformat_minor": 4
}
