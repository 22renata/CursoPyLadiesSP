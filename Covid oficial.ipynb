{
 "cells": [
  {
   "cell_type": "markdown",
   "metadata": {},
   "source": [
    "#### Os dados, até a data do presente estudo, estão no https://covid.saude.gov.br/\n",
    "#### O presente arquivo é de 28 de setembro. Atenção: de acordo com o dia em que for feita a análise, a última barra da totalização por semana estará menor.\n",
    "#### Disclaimer/Aviso Legal: Este notebook tem um fim única e exclusivamente didático, para alunos da FATEC, como uma introdução à Análise de Dados Públicos. Desse modo, está excluída a garantia ou responsabilidade de qualquer tipo, por exemplo, de precisão, confiabilidade, completude e atualidade das informações."
   ]
  },
  {
   "cell_type": "code",
   "execution_count": 1,
   "metadata": {},
   "outputs": [],
   "source": [
    "import pandas as pd\n",
    "low_memory=False\n",
    "import matplotlib.pyplot as plt\n",
    "%matplotlib inline\n",
    "pd.options.display.max_columns = 80\n",
    "pd.options.display.max_rows = 90"
   ]
  },
  {
   "cell_type": "code",
   "execution_count": 2,
   "metadata": {},
   "outputs": [],
   "source": [
    "filename = r'C:\\Users\\fmasa\\Downloads\\HIST_PAINEL_COVIDBR_28set2020.xlsx'\n",
    "df = pd.read_excel(filename)"
   ]
  },
  {
   "cell_type": "code",
   "execution_count": 3,
   "metadata": {},
   "outputs": [
    {
     "data": {
      "text/plain": [
       "(1045816, 17)"
      ]
     },
     "execution_count": 3,
     "metadata": {},
     "output_type": "execute_result"
    }
   ],
   "source": [
    "df.shape"
   ]
  },
  {
   "cell_type": "code",
   "execution_count": 4,
   "metadata": {},
   "outputs": [
    {
     "name": "stdout",
     "output_type": "stream",
     "text": [
      "<class 'pandas.core.frame.DataFrame'>\n",
      "RangeIndex: 1045816 entries, 0 to 1045815\n",
      "Data columns (total 17 columns):\n",
      " #   Column                  Non-Null Count    Dtype         \n",
      "---  ------                  --------------    -----         \n",
      " 0   regiao                  1045816 non-null  object        \n",
      " 1   estado                  1045599 non-null  object        \n",
      " 2   municipio               1035834 non-null  object        \n",
      " 3   coduf                   1045816 non-null  int64         \n",
      " 4   codmun                  1039740 non-null  float64       \n",
      " 5   codRegiaoSaude          1035834 non-null  float64       \n",
      " 6   nomeRegiaoSaude         1035834 non-null  object        \n",
      " 7   data                    1045816 non-null  datetime64[ns]\n",
      " 8   semanaEpi               1045816 non-null  int64         \n",
      " 9   populacaoTCU2019        1041910 non-null  float64       \n",
      " 10  casosAcumulado          1045816 non-null  int64         \n",
      " 11  casosNovos              1045816 non-null  int64         \n",
      " 12  obitosAcumulado         1045816 non-null  int64         \n",
      " 13  obitosNovos             1045816 non-null  int64         \n",
      " 14  Recuperadosnovos        163 non-null      float64       \n",
      " 15  emAcompanhamentoNovos   163 non-null      float64       \n",
      " 16  interior/metropolitana  1035834 non-null  float64       \n",
      "dtypes: datetime64[ns](1), float64(6), int64(6), object(4)\n",
      "memory usage: 119.7+ MB\n"
     ]
    }
   ],
   "source": [
    "df.info()"
   ]
  },
  {
   "cell_type": "code",
   "execution_count": 5,
   "metadata": {},
   "outputs": [
    {
     "data": {
      "text/html": [
       "<div>\n",
       "<style scoped>\n",
       "    .dataframe tbody tr th:only-of-type {\n",
       "        vertical-align: middle;\n",
       "    }\n",
       "\n",
       "    .dataframe tbody tr th {\n",
       "        vertical-align: top;\n",
       "    }\n",
       "\n",
       "    .dataframe thead th {\n",
       "        text-align: right;\n",
       "    }\n",
       "</style>\n",
       "<table border=\"1\" class=\"dataframe\">\n",
       "  <thead>\n",
       "    <tr style=\"text-align: right;\">\n",
       "      <th></th>\n",
       "      <th>regiao</th>\n",
       "      <th>estado</th>\n",
       "      <th>municipio</th>\n",
       "      <th>coduf</th>\n",
       "      <th>codmun</th>\n",
       "      <th>codRegiaoSaude</th>\n",
       "      <th>nomeRegiaoSaude</th>\n",
       "      <th>data</th>\n",
       "      <th>semanaEpi</th>\n",
       "      <th>populacaoTCU2019</th>\n",
       "      <th>casosAcumulado</th>\n",
       "      <th>casosNovos</th>\n",
       "      <th>obitosAcumulado</th>\n",
       "      <th>obitosNovos</th>\n",
       "      <th>Recuperadosnovos</th>\n",
       "      <th>emAcompanhamentoNovos</th>\n",
       "      <th>interior/metropolitana</th>\n",
       "    </tr>\n",
       "  </thead>\n",
       "  <tbody>\n",
       "    <tr>\n",
       "      <th>843569</th>\n",
       "      <td>Sul</td>\n",
       "      <td>SC</td>\n",
       "      <td>Novo Horizonte</td>\n",
       "      <td>42</td>\n",
       "      <td>421165.0</td>\n",
       "      <td>42003.0</td>\n",
       "      <td>XANXERE</td>\n",
       "      <td>2020-07-26</td>\n",
       "      <td>31</td>\n",
       "      <td>2442.0</td>\n",
       "      <td>5</td>\n",
       "      <td>1</td>\n",
       "      <td>0</td>\n",
       "      <td>0</td>\n",
       "      <td>NaN</td>\n",
       "      <td>NaN</td>\n",
       "      <td>0.0</td>\n",
       "    </tr>\n",
       "    <tr>\n",
       "      <th>926479</th>\n",
       "      <td>Sul</td>\n",
       "      <td>RS</td>\n",
       "      <td>Portão</td>\n",
       "      <td>43</td>\n",
       "      <td>431480.0</td>\n",
       "      <td>43007.0</td>\n",
       "      <td>REGIAO 07</td>\n",
       "      <td>2020-06-10</td>\n",
       "      <td>24</td>\n",
       "      <td>37079.0</td>\n",
       "      <td>24</td>\n",
       "      <td>2</td>\n",
       "      <td>1</td>\n",
       "      <td>0</td>\n",
       "      <td>NaN</td>\n",
       "      <td>NaN</td>\n",
       "      <td>1.0</td>\n",
       "    </tr>\n",
       "    <tr>\n",
       "      <th>285658</th>\n",
       "      <td>Nordeste</td>\n",
       "      <td>PE</td>\n",
       "      <td>Buíque</td>\n",
       "      <td>26</td>\n",
       "      <td>260280.0</td>\n",
       "      <td>26002.0</td>\n",
       "      <td>ARCOVERDE</td>\n",
       "      <td>2020-04-20</td>\n",
       "      <td>17</td>\n",
       "      <td>58378.0</td>\n",
       "      <td>0</td>\n",
       "      <td>0</td>\n",
       "      <td>0</td>\n",
       "      <td>0</td>\n",
       "      <td>NaN</td>\n",
       "      <td>NaN</td>\n",
       "      <td>0.0</td>\n",
       "    </tr>\n",
       "    <tr>\n",
       "      <th>231100</th>\n",
       "      <td>Nordeste</td>\n",
       "      <td>RN</td>\n",
       "      <td>São Bento do Trairí</td>\n",
       "      <td>24</td>\n",
       "      <td>241170.0</td>\n",
       "      <td>24005.0</td>\n",
       "      <td>5ª REGIAO DE SAUDE - SANTA CRUZ</td>\n",
       "      <td>2020-08-24</td>\n",
       "      <td>35</td>\n",
       "      <td>4449.0</td>\n",
       "      <td>50</td>\n",
       "      <td>0</td>\n",
       "      <td>1</td>\n",
       "      <td>0</td>\n",
       "      <td>NaN</td>\n",
       "      <td>NaN</td>\n",
       "      <td>0.0</td>\n",
       "    </tr>\n",
       "    <tr>\n",
       "      <th>656274</th>\n",
       "      <td>Sudeste</td>\n",
       "      <td>SP</td>\n",
       "      <td>Guarulhos</td>\n",
       "      <td>35</td>\n",
       "      <td>351880.0</td>\n",
       "      <td>35011.0</td>\n",
       "      <td>ALTO DO TIETE</td>\n",
       "      <td>2020-08-02</td>\n",
       "      <td>32</td>\n",
       "      <td>1379182.0</td>\n",
       "      <td>12427</td>\n",
       "      <td>36</td>\n",
       "      <td>1079</td>\n",
       "      <td>0</td>\n",
       "      <td>NaN</td>\n",
       "      <td>NaN</td>\n",
       "      <td>1.0</td>\n",
       "    </tr>\n",
       "    <tr>\n",
       "      <th>314021</th>\n",
       "      <td>Nordeste</td>\n",
       "      <td>PE</td>\n",
       "      <td>Vertentes</td>\n",
       "      <td>26</td>\n",
       "      <td>261620.0</td>\n",
       "      <td>26003.0</td>\n",
       "      <td>CARUARU</td>\n",
       "      <td>2020-07-20</td>\n",
       "      <td>30</td>\n",
       "      <td>20731.0</td>\n",
       "      <td>114</td>\n",
       "      <td>1</td>\n",
       "      <td>2</td>\n",
       "      <td>0</td>\n",
       "      <td>NaN</td>\n",
       "      <td>NaN</td>\n",
       "      <td>0.0</td>\n",
       "    </tr>\n",
       "    <tr>\n",
       "      <th>477097</th>\n",
       "      <td>Sudeste</td>\n",
       "      <td>MG</td>\n",
       "      <td>Estrela do Indaiá</td>\n",
       "      <td>31</td>\n",
       "      <td>312470.0</td>\n",
       "      <td>31028.0</td>\n",
       "      <td>BOM DESPACHO</td>\n",
       "      <td>2020-06-04</td>\n",
       "      <td>23</td>\n",
       "      <td>3500.0</td>\n",
       "      <td>0</td>\n",
       "      <td>0</td>\n",
       "      <td>0</td>\n",
       "      <td>0</td>\n",
       "      <td>NaN</td>\n",
       "      <td>NaN</td>\n",
       "      <td>0.0</td>\n",
       "    </tr>\n",
       "    <tr>\n",
       "      <th>61604</th>\n",
       "      <td>Norte</td>\n",
       "      <td>AP</td>\n",
       "      <td>Amapá</td>\n",
       "      <td>16</td>\n",
       "      <td>160010.0</td>\n",
       "      <td>16002.0</td>\n",
       "      <td>AREA NORTE</td>\n",
       "      <td>2020-07-05</td>\n",
       "      <td>28</td>\n",
       "      <td>9109.0</td>\n",
       "      <td>346</td>\n",
       "      <td>1</td>\n",
       "      <td>4</td>\n",
       "      <td>0</td>\n",
       "      <td>NaN</td>\n",
       "      <td>NaN</td>\n",
       "      <td>0.0</td>\n",
       "    </tr>\n",
       "    <tr>\n",
       "      <th>810363</th>\n",
       "      <td>Sul</td>\n",
       "      <td>PR</td>\n",
       "      <td>Doutor Ulysses</td>\n",
       "      <td>41</td>\n",
       "      <td>412863.0</td>\n",
       "      <td>41002.0</td>\n",
       "      <td>2ª RS METROPOLITANA</td>\n",
       "      <td>2020-04-19</td>\n",
       "      <td>17</td>\n",
       "      <td>5580.0</td>\n",
       "      <td>0</td>\n",
       "      <td>0</td>\n",
       "      <td>0</td>\n",
       "      <td>0</td>\n",
       "      <td>NaN</td>\n",
       "      <td>NaN</td>\n",
       "      <td>1.0</td>\n",
       "    </tr>\n",
       "    <tr>\n",
       "      <th>614894</th>\n",
       "      <td>Sudeste</td>\n",
       "      <td>RJ</td>\n",
       "      <td>Sumidouro</td>\n",
       "      <td>33</td>\n",
       "      <td>330570.0</td>\n",
       "      <td>33009.0</td>\n",
       "      <td>SERRANA</td>\n",
       "      <td>2020-05-06</td>\n",
       "      <td>19</td>\n",
       "      <td>15623.0</td>\n",
       "      <td>2</td>\n",
       "      <td>0</td>\n",
       "      <td>0</td>\n",
       "      <td>0</td>\n",
       "      <td>NaN</td>\n",
       "      <td>NaN</td>\n",
       "      <td>0.0</td>\n",
       "    </tr>\n",
       "  </tbody>\n",
       "</table>\n",
       "</div>"
      ],
      "text/plain": [
       "          regiao estado            municipio  coduf    codmun  codRegiaoSaude  \\\n",
       "843569       Sul     SC       Novo Horizonte     42  421165.0         42003.0   \n",
       "926479       Sul     RS               Portão     43  431480.0         43007.0   \n",
       "285658  Nordeste     PE               Buíque     26  260280.0         26002.0   \n",
       "231100  Nordeste     RN  São Bento do Trairí     24  241170.0         24005.0   \n",
       "656274   Sudeste     SP            Guarulhos     35  351880.0         35011.0   \n",
       "314021  Nordeste     PE            Vertentes     26  261620.0         26003.0   \n",
       "477097   Sudeste     MG    Estrela do Indaiá     31  312470.0         31028.0   \n",
       "61604      Norte     AP                Amapá     16  160010.0         16002.0   \n",
       "810363       Sul     PR       Doutor Ulysses     41  412863.0         41002.0   \n",
       "614894   Sudeste     RJ            Sumidouro     33  330570.0         33009.0   \n",
       "\n",
       "                        nomeRegiaoSaude       data  semanaEpi  \\\n",
       "843569                          XANXERE 2020-07-26         31   \n",
       "926479                        REGIAO 07 2020-06-10         24   \n",
       "285658                        ARCOVERDE 2020-04-20         17   \n",
       "231100  5ª REGIAO DE SAUDE - SANTA CRUZ 2020-08-24         35   \n",
       "656274                    ALTO DO TIETE 2020-08-02         32   \n",
       "314021                          CARUARU 2020-07-20         30   \n",
       "477097                     BOM DESPACHO 2020-06-04         23   \n",
       "61604                        AREA NORTE 2020-07-05         28   \n",
       "810363              2ª RS METROPOLITANA 2020-04-19         17   \n",
       "614894                          SERRANA 2020-05-06         19   \n",
       "\n",
       "        populacaoTCU2019  casosAcumulado  casosNovos  obitosAcumulado  \\\n",
       "843569            2442.0               5           1                0   \n",
       "926479           37079.0              24           2                1   \n",
       "285658           58378.0               0           0                0   \n",
       "231100            4449.0              50           0                1   \n",
       "656274         1379182.0           12427          36             1079   \n",
       "314021           20731.0             114           1                2   \n",
       "477097            3500.0               0           0                0   \n",
       "61604             9109.0             346           1                4   \n",
       "810363            5580.0               0           0                0   \n",
       "614894           15623.0               2           0                0   \n",
       "\n",
       "        obitosNovos  Recuperadosnovos  emAcompanhamentoNovos  \\\n",
       "843569            0               NaN                    NaN   \n",
       "926479            0               NaN                    NaN   \n",
       "285658            0               NaN                    NaN   \n",
       "231100            0               NaN                    NaN   \n",
       "656274            0               NaN                    NaN   \n",
       "314021            0               NaN                    NaN   \n",
       "477097            0               NaN                    NaN   \n",
       "61604             0               NaN                    NaN   \n",
       "810363            0               NaN                    NaN   \n",
       "614894            0               NaN                    NaN   \n",
       "\n",
       "        interior/metropolitana  \n",
       "843569                     0.0  \n",
       "926479                     1.0  \n",
       "285658                     0.0  \n",
       "231100                     0.0  \n",
       "656274                     1.0  \n",
       "314021                     0.0  \n",
       "477097                     0.0  \n",
       "61604                      0.0  \n",
       "810363                     1.0  \n",
       "614894                     0.0  "
      ]
     },
     "execution_count": 5,
     "metadata": {},
     "output_type": "execute_result"
    }
   ],
   "source": [
    "df.sample(10)"
   ]
  },
  {
   "cell_type": "code",
   "execution_count": 6,
   "metadata": {},
   "outputs": [
    {
     "data": {
      "text/plain": [
       "estado\n",
       "SP    35125\n",
       "RJ    18291\n",
       "CE     8921\n",
       "PE     8190\n",
       "MG     7240\n",
       "BA     6648\n",
       "PA     6551\n",
       "RS     4648\n",
       "GO     4529\n",
       "PR     4378\n",
       "AM     4031\n",
       "MA     3735\n",
       "ES     3524\n",
       "MT     3372\n",
       "DF     3203\n",
       "PB     2804\n",
       "SC     2765\n",
       "RN     2377\n",
       "PI     2101\n",
       "AL     2062\n",
       "SE     2025\n",
       "RO     1340\n",
       "MS     1278\n",
       "TO      922\n",
       "AP      704\n",
       "AC      657\n",
       "RR      637\n",
       "Name: obitosAcumulado, dtype: int64"
      ]
     },
     "execution_count": 6,
     "metadata": {},
     "output_type": "execute_result"
    }
   ],
   "source": [
    "df.groupby('estado')['obitosAcumulado'].max().sort_values(ascending=False)"
   ]
  },
  {
   "cell_type": "code",
   "execution_count": 7,
   "metadata": {},
   "outputs": [
    {
     "data": {
      "text/plain": [
       "<matplotlib.axes._subplots.AxesSubplot at 0x2f155508>"
      ]
     },
     "execution_count": 7,
     "metadata": {},
     "output_type": "execute_result"
    },
    {
     "data": {
      "image/png": "[encoded data removed]",
      "text/plain": [
       "<Figure size 432x288 with 1 Axes>"
      ]
     },
     "metadata": {
      "needs_background": "light"
     },
     "output_type": "display_data"
    }
   ],
   "source": [
    "df.groupby('estado')['obitosAcumulado'].max().sort_values().tail(5).plot(kind='barh')"
   ]
  },
  {
   "cell_type": "code",
   "execution_count": 8,
   "metadata": {},
   "outputs": [],
   "source": [
    "df['data'] = df['data'].dt.strftime('%d/%m')"
   ]
  },
  {
   "cell_type": "code",
   "execution_count": 9,
   "metadata": {},
   "outputs": [
    {
     "data": {
      "text/plain": [
       "<matplotlib.axes._subplots.AxesSubplot at 0x18105118>"
      ]
     },
     "execution_count": 9,
     "metadata": {},
     "output_type": "execute_result"
    },
    {
     "data": {
      "image/png": "[encoded data removed]",
      "text/plain": [
       "<Figure size 432x288 with 1 Axes>"
      ]
     },
     "metadata": {
      "needs_background": "light"
     },
     "output_type": "display_data"
    }
   ],
   "source": [
    "sp = df.query('municipio == \"São Paulo\"')\n",
    "sp.tail(10).plot(kind='bar', \n",
    "        x='data', y='casosNovos', color='RED')"
   ]
  },
  {
   "cell_type": "code",
   "execution_count": 10,
   "metadata": {},
   "outputs": [
    {
     "data": {
      "text/plain": [
       "<matplotlib.axes._subplots.AxesSubplot at 0x223bf4f0>"
      ]
     },
     "execution_count": 10,
     "metadata": {},
     "output_type": "execute_result"
    },
    {
     "data": {
      "image/png": "[encoded data removed]",
      "text/plain": [
       "<Figure size 432x288 with 1 Axes>"
      ]
     },
     "metadata": {
      "needs_background": "light"
     },
     "output_type": "display_data"
    }
   ],
   "source": [
    "sp.groupby('semanaEpi')['casosNovos'].sum().plot(kind='bar')"
   ]
  },
  {
   "cell_type": "code",
   "execution_count": 11,
   "metadata": {},
   "outputs": [
    {
     "data": {
      "text/plain": [
       "<matplotlib.axes._subplots.AxesSubplot at 0x21124958>"
      ]
     },
     "execution_count": 11,
     "metadata": {},
     "output_type": "execute_result"
    },
    {
     "data": {
      "image/png": "[encoded data removed]",
      "text/plain": [
       "<Figure size 432x288 with 1 Axes>"
      ]
     },
     "metadata": {
      "needs_background": "light"
     },
     "output_type": "display_data"
    }
   ],
   "source": [
    "sjc = df.query('municipio == \"São José dos Campos\"')\n",
    "sjc.tail(10).plot(kind='bar', \n",
    "        x='data', y='casosNovos', color='RED')"
   ]
  },
  {
   "cell_type": "code",
   "execution_count": 12,
   "metadata": {},
   "outputs": [
    {
     "data": {
      "text/plain": [
       "<matplotlib.axes._subplots.AxesSubplot at 0x1ffe3c70>"
      ]
     },
     "execution_count": 12,
     "metadata": {},
     "output_type": "execute_result"
    },
    {
     "data": {
      "image/png": "[encoded data removed]",
      "text/plain": [
       "<Figure size 432x288 with 1 Axes>"
      ]
     },
     "metadata": {
      "needs_background": "light"
     },
     "output_type": "display_data"
    }
   ],
   "source": [
    "sp.groupby('semanaEpi')['casosNovos'].sum().plot(kind='bar')"
   ]
  },
  {
   "cell_type": "code",
   "execution_count": null,
   "metadata": {},
   "outputs": [],
   "source": []
  }
 ],
 "metadata": {
  "kernelspec": {
   "display_name": "Python 3",
   "language": "python",
   "name": "python3"
  },
  "language_info": {
   "codemirror_mode": {
    "name": "ipython",
    "version": 3
   },
   "file_extension": ".py",
   "mimetype": "text/x-python",
   "name": "python",
   "nbconvert_exporter": "python",
   "pygments_lexer": "ipython3",
   "version": "3.8.2"
  }
 },
 "nbformat": 4,
 "nbformat_minor": 4
}
