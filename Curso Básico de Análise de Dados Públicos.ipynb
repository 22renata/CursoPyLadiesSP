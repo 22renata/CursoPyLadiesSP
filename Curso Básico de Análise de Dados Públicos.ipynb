{
 "cells": [
  {
   "cell_type": "markdown",
   "metadata": {},
   "source": [
    "**Introdução**\n",
    "--------------------\n",
    "\n",
    "Créditos: [Curso de Jornalismo Computacional](https://github.com/computationaljournalism), de Columbia, dado neste ano. Colaboração da jornalista [Judite Cypreste](https://twitter.com/juditecypreste/) do [ColaboraDados](http://colaboradados.com.br/)\n",
    "\n",
    "Para instalação do Python e de todas as bibliotecas, siga [estes passos](http://bit.ly/pybrpandas) ou use o comando \"pip install -r requirements.txt\"\n",
    "\n",
    "Estamos num ambiente chamado Jupyter Notebook, nele você pode trabalhar suas Análises. Podemos inserir textos em um formato chamado Markdown, ou também códigos, que são instruções para o computador, em alguma linguagem, como Python, R ou Julia. No help você poderá visualizar todas as teclas de atalho. Iremos usar **shift-enter** para executar códigos numa célula e alt-enter para criar uma nova embaixo. Código Markdown esc-m, célula acima esc-a, célula abaixo esc-b."
   ]
  },
  {
   "cell_type": "markdown",
   "metadata": {},
   "source": [
    "**Sugerimos** você seguir a seguinte ordem didática:\n",
    "    1. Analisando Tuites do Bolsonaro\n",
    "    2. Usando a nova API da Câmara dos Deputados\n",
    "    3. Análise da Fila do SUS do Estado de Santa Catarina\n",
    "    4. Microdados do INEP sem medo\n",
    "    5. Dados da Câmara via Pandas\n",
    "    6. Mapa de Calor de Roubo de Veículos"
   ]
  },
  {
   "cell_type": "code",
   "execution_count": null,
   "metadata": {},
   "outputs": [],
   "source": []
  }
 ],
 "metadata": {
  "kernelspec": {
   "display_name": "Python 3",
   "language": "python",
   "name": "python3"
  },
  "language_info": {
   "codemirror_mode": {
    "name": "ipython",
    "version": 3
   },
   "file_extension": ".py",
   "mimetype": "text/x-python",
   "name": "python",
   "nbconvert_exporter": "python",
   "pygments_lexer": "ipython3",
   "version": "3.7.3"
  }
 },
 "nbformat": 4,
 "nbformat_minor": 2
}
