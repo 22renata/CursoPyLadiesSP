{
 "cells": [
  {
   "cell_type": "markdown",
   "metadata": {},
   "source": [
    "**Pandas Dataframe**\n",
    "---------------\n",
    "Uma biblioteca muito utilizada em Ciência de Dados é o pandas. E a estrutura de dados mais útil é o dataframe. Vamos fazer uma Análise real, com Dados Públicos do SUS de Santa Catarina, créditos para a Larissa Lautert, do PyLadies Florianópolis, que me forneceu este notebook. O problema analisado é a excessiva demora na Fila do SUS, naquele dataset concreto de dados."
   ]
  },
  {
   "cell_type": "code",
   "execution_count": 1,
   "metadata": {},
   "outputs": [],
   "source": [
    "import pandas as pd\n",
    "low_memory=False\n",
    "%matplotlib inline\n",
    "pd.options.display.max_columns = 80\n",
    "pd.options.display.max_rows = 90"
   ]
  },
  {
   "cell_type": "markdown",
   "metadata": {},
   "source": [
    "Pandas é a biblioteca que carrego na memória com um apelido pd, low_memory normalmente é True, porém, para acelerar nossa carga colocaremos False, matplotlib permite visualizações básicas e faremos os gráficos diretamente nos dataframes, max_columns e max_rows apenas para diminuir a apresentação de conjuntos muito extensos de dados."
   ]
  },
  {
   "cell_type": "code",
   "execution_count": 2,
   "metadata": {},
   "outputs": [
    {
     "name": "stderr",
     "output_type": "stream",
     "text": [
      "c:\\users\\fmasa\\appdata\\local\\programs\\python\\python37\\lib\\site-packages\\IPython\\core\\interactiveshell.py:3057: DtypeWarning: Columns (7,12,13,16) have mixed types. Specify dtype option on import or set low_memory=False.\n",
      "  interactivity=interactivity, compiler=compiler, result=result)\n"
     ]
    }
   ],
   "source": [
    "filename = 'fila-publica-2017-11-30.csv'\n",
    "df = pd.read_csv(filename)"
   ]
  },
  {
   "cell_type": "markdown",
   "metadata": {},
   "source": [
    "Este arquivo deve estar na mesma pasta do seu notebook. Tivemos alguns avisos, que não irão afetar nossa Análise."
   ]
  },
  {
   "cell_type": "code",
   "execution_count": 3,
   "metadata": {},
   "outputs": [
    {
     "data": {
      "text/plain": [
       "(1306967, 17)"
      ]
     },
     "execution_count": 3,
     "metadata": {},
     "output_type": "execute_result"
    }
   ],
   "source": [
    "df.shape"
   ]
  },
  {
   "cell_type": "code",
   "execution_count": 4,
   "metadata": {},
   "outputs": [
    {
     "data": {
      "text/html": [
       "<div>\n",
       "<style scoped>\n",
       "    .dataframe tbody tr th:only-of-type {\n",
       "        vertical-align: middle;\n",
       "    }\n",
       "\n",
       "    .dataframe tbody tr th {\n",
       "        vertical-align: top;\n",
       "    }\n",
       "\n",
       "    .dataframe thead th {\n",
       "        text-align: right;\n",
       "    }\n",
       "</style>\n",
       "<table border=\"1\" class=\"dataframe\">\n",
       "  <thead>\n",
       "    <tr style=\"text-align: right;\">\n",
       "      <th></th>\n",
       "      <th>POSIÇÃO</th>\n",
       "      <th>TEMPO MÉDIO DE ESPERA(DIAS)</th>\n",
       "      <th>NASCIMENTO</th>\n",
       "      <th>CNES DA UNIDADE SOLICITANTE</th>\n",
       "      <th>CÓDIGO SIGTAP DO PROCEDIMENTO</th>\n",
       "    </tr>\n",
       "  </thead>\n",
       "  <tbody>\n",
       "    <tr>\n",
       "      <th>count</th>\n",
       "      <td>1.306967e+06</td>\n",
       "      <td>1.288724e+06</td>\n",
       "      <td>0.0</td>\n",
       "      <td>1.306967e+06</td>\n",
       "      <td>1.305728e+06</td>\n",
       "    </tr>\n",
       "    <tr>\n",
       "      <th>mean</th>\n",
       "      <td>2.502004e+03</td>\n",
       "      <td>1.942741e+02</td>\n",
       "      <td>NaN</td>\n",
       "      <td>3.539747e+06</td>\n",
       "      <td>2.414849e+08</td>\n",
       "    </tr>\n",
       "    <tr>\n",
       "      <th>std</th>\n",
       "      <td>3.291319e+03</td>\n",
       "      <td>3.145126e+02</td>\n",
       "      <td>NaN</td>\n",
       "      <td>1.972460e+06</td>\n",
       "      <td>5.118480e+07</td>\n",
       "    </tr>\n",
       "    <tr>\n",
       "      <th>min</th>\n",
       "      <td>1.000000e+00</td>\n",
       "      <td>0.000000e+00</td>\n",
       "      <td>NaN</td>\n",
       "      <td>1.925900e+04</td>\n",
       "      <td>2.040601e+07</td>\n",
       "    </tr>\n",
       "    <tr>\n",
       "      <th>25%</th>\n",
       "      <td>2.490000e+02</td>\n",
       "      <td>3.100000e+01</td>\n",
       "      <td>NaN</td>\n",
       "      <td>2.418916e+06</td>\n",
       "      <td>2.020602e+08</td>\n",
       "    </tr>\n",
       "    <tr>\n",
       "      <th>50%</th>\n",
       "      <td>1.011000e+03</td>\n",
       "      <td>9.900000e+01</td>\n",
       "      <td>NaN</td>\n",
       "      <td>2.660792e+06</td>\n",
       "      <td>2.060101e+08</td>\n",
       "    </tr>\n",
       "    <tr>\n",
       "      <th>75%</th>\n",
       "      <td>3.351000e+03</td>\n",
       "      <td>1.590000e+02</td>\n",
       "      <td>NaN</td>\n",
       "      <td>5.465893e+06</td>\n",
       "      <td>3.010101e+08</td>\n",
       "    </tr>\n",
       "    <tr>\n",
       "      <th>max</th>\n",
       "      <td>1.874000e+04</td>\n",
       "      <td>2.019000e+03</td>\n",
       "      <td>NaN</td>\n",
       "      <td>9.362223e+06</td>\n",
       "      <td>7.010701e+08</td>\n",
       "    </tr>\n",
       "  </tbody>\n",
       "</table>\n",
       "</div>"
      ],
      "text/plain": [
       "            POSIÇÃO  TEMPO MÉDIO DE ESPERA(DIAS)  NASCIMENTO  \\\n",
       "count  1.306967e+06                 1.288724e+06         0.0   \n",
       "mean   2.502004e+03                 1.942741e+02         NaN   \n",
       "std    3.291319e+03                 3.145126e+02         NaN   \n",
       "min    1.000000e+00                 0.000000e+00         NaN   \n",
       "25%    2.490000e+02                 3.100000e+01         NaN   \n",
       "50%    1.011000e+03                 9.900000e+01         NaN   \n",
       "75%    3.351000e+03                 1.590000e+02         NaN   \n",
       "max    1.874000e+04                 2.019000e+03         NaN   \n",
       "\n",
       "       CNES DA UNIDADE SOLICITANTE  CÓDIGO SIGTAP DO PROCEDIMENTO  \n",
       "count                 1.306967e+06                   1.305728e+06  \n",
       "mean                  3.539747e+06                   2.414849e+08  \n",
       "std                   1.972460e+06                   5.118480e+07  \n",
       "min                   1.925900e+04                   2.040601e+07  \n",
       "25%                   2.418916e+06                   2.020602e+08  \n",
       "50%                   2.660792e+06                   2.060101e+08  \n",
       "75%                   5.465893e+06                   3.010101e+08  \n",
       "max                   9.362223e+06                   7.010701e+08  "
      ]
     },
     "execution_count": 4,
     "metadata": {},
     "output_type": "execute_result"
    }
   ],
   "source": [
    "df.describe()"
   ]
  },
  {
   "cell_type": "markdown",
   "metadata": {},
   "source": [
    "Visualizamos dados estatísticos das colunas que temos. Estamos entrevistando esta base focando o Tempo Médio de Espera, podemos ver que, na média, o tempo é de 194 dias. "
   ]
  },
  {
   "cell_type": "code",
   "execution_count": 5,
   "metadata": {},
   "outputs": [
    {
     "name": "stdout",
     "output_type": "stream",
     "text": [
      "<class 'pandas.core.frame.DataFrame'>\n",
      "RangeIndex: 1306967 entries, 0 to 1306966\n",
      "Data columns (total 17 columns):\n",
      "SERVIÇO                               1306967 non-null object\n",
      "CENTRAL DE REGULAÇÃO/RESPONSÁVEL      1306967 non-null object\n",
      "MUNICÍPIO DE RESIDÊNCIA               1306967 non-null object\n",
      "POSIÇÃO                               1306967 non-null int64\n",
      "TEMPO MÉDIO DE ESPERA(DIAS)           1288724 non-null float64\n",
      "CLASSIFICAÇÃO                         1306967 non-null object\n",
      "TIPO DA LISTA                         1306967 non-null object\n",
      "DOCUMENTO                             1306967 non-null object\n",
      "DATA DA SOLICITAÇÃO                   1306273 non-null object\n",
      "CIDADÃO                               1306967 non-null object\n",
      "NASCIMENTO                            0 non-null float64\n",
      "DESCRIÇÃO DO PROCEDIMENTO             1306967 non-null object\n",
      "CNES DA CENTRAL SOLICITANTE           1306967 non-null object\n",
      "CNES DA CENTRAL EXECUTANTE            1306966 non-null object\n",
      "CNES DA UNIDADE SOLICITANTE           1306967 non-null int64\n",
      "CÓDIGO SIGTAP DO PROCEDIMENTO         1305728 non-null float64\n",
      "DESCRIÇÃO DO GRUPO DO PROCEDIMENTO    724444 non-null object\n",
      "dtypes: float64(3), int64(2), object(12)\n",
      "memory usage: 169.5+ MB\n"
     ]
    }
   ],
   "source": [
    "df.info()"
   ]
  },
  {
   "cell_type": "markdown",
   "metadata": {},
   "source": [
    "Por uma razão de conveniência iremos remover os espaços das colunas"
   ]
  },
  {
   "cell_type": "code",
   "execution_count": 6,
   "metadata": {},
   "outputs": [],
   "source": [
    "df.rename(columns={'MUNICÍPIO DE RESIDÊNCIA': 'MUNICÍPIODERESIDÊNCIA',\n",
    "                   'CENTRAL DE REGULAÇÃO/RESPONSÁVEL': 'CENTRALDEREGULAÇÃO/RESPONSÁVEL',\n",
    "                   'TEMPO MÉDIO DE ESPERA(DIAS)': 'TEMPOMÉDIODEESPERA(DIAS)',\n",
    "                   'DATA DA SOLICITAÇÃO': 'DATADASOLICITAÇÃO',\n",
    "                   'DESCRIÇÃO DO PROCEDIMENTO': 'DESCRIÇÃODOPROCEDIMENTO',\n",
    "                   'CNES DA CENTRAL EXECUTANTE': 'CNESDACENTRALEXECUTANTE',\n",
    "                   'CNES DA UNIDADE SOLICITANTE': 'CNESDAUNIDADESOLICITANTE'\n",
    "                  }, inplace=True)"
   ]
  },
  {
   "cell_type": "code",
   "execution_count": 7,
   "metadata": {},
   "outputs": [
    {
     "data": {
      "text/html": [
       "<div>\n",
       "<style scoped>\n",
       "    .dataframe tbody tr th:only-of-type {\n",
       "        vertical-align: middle;\n",
       "    }\n",
       "\n",
       "    .dataframe tbody tr th {\n",
       "        vertical-align: top;\n",
       "    }\n",
       "\n",
       "    .dataframe thead th {\n",
       "        text-align: right;\n",
       "    }\n",
       "</style>\n",
       "<table border=\"1\" class=\"dataframe\">\n",
       "  <thead>\n",
       "    <tr style=\"text-align: right;\">\n",
       "      <th></th>\n",
       "      <th>SERVIÇO</th>\n",
       "      <th>CENTRALDEREGULAÇÃO/RESPONSÁVEL</th>\n",
       "      <th>MUNICÍPIODERESIDÊNCIA</th>\n",
       "      <th>POSIÇÃO</th>\n",
       "      <th>TEMPOMÉDIODEESPERA(DIAS)</th>\n",
       "      <th>CLASSIFICAÇÃO</th>\n",
       "      <th>TIPO DA LISTA</th>\n",
       "      <th>DOCUMENTO</th>\n",
       "      <th>DATADASOLICITAÇÃO</th>\n",
       "      <th>CIDADÃO</th>\n",
       "      <th>NASCIMENTO</th>\n",
       "      <th>DESCRIÇÃODOPROCEDIMENTO</th>\n",
       "      <th>CNES DA CENTRAL SOLICITANTE</th>\n",
       "      <th>CNESDACENTRALEXECUTANTE</th>\n",
       "      <th>CNESDAUNIDADESOLICITANTE</th>\n",
       "      <th>CÓDIGO SIGTAP DO PROCEDIMENTO</th>\n",
       "      <th>DESCRIÇÃO DO GRUPO DO PROCEDIMENTO</th>\n",
       "    </tr>\n",
       "  </thead>\n",
       "  <tbody>\n",
       "    <tr>\n",
       "      <th>498982</th>\n",
       "      <td>Consulta</td>\n",
       "      <td>UNIDADE DE SAUDE PREFEITO JOSE KEHRIG</td>\n",
       "      <td>SANTO AMARO DA IMPERATRIZ</td>\n",
       "      <td>1554</td>\n",
       "      <td>0.0</td>\n",
       "      <td>4 - Azul</td>\n",
       "      <td>Regulada</td>\n",
       "      <td>708404785448764</td>\n",
       "      <td>09/06/2017 11:21:39</td>\n",
       "      <td>E M M</td>\n",
       "      <td>NaN</td>\n",
       "      <td>CONSULTA EM OFTALMOLOGIA - EXTRA</td>\n",
       "      <td>6375642</td>\n",
       "      <td>6375642</td>\n",
       "      <td>2418185</td>\n",
       "      <td>301010072.0</td>\n",
       "      <td>NaN</td>\n",
       "    </tr>\n",
       "    <tr>\n",
       "      <th>803737</th>\n",
       "      <td>Consulta</td>\n",
       "      <td>UNIDADE DE SAUDE PREFEITO JOSE KEHRIG</td>\n",
       "      <td>SANTO AMARO DA IMPERATRIZ</td>\n",
       "      <td>1509</td>\n",
       "      <td>417.0</td>\n",
       "      <td>4 - Azul</td>\n",
       "      <td>Regulada</td>\n",
       "      <td>203795005600001</td>\n",
       "      <td>02/10/2015 08:58:47</td>\n",
       "      <td>M H A L</td>\n",
       "      <td>NaN</td>\n",
       "      <td>CONSULTA EM OFTALMOLOGIA - GERAL</td>\n",
       "      <td>6375642</td>\n",
       "      <td>2692260</td>\n",
       "      <td>2418185</td>\n",
       "      <td>301010072.0</td>\n",
       "      <td>NaN</td>\n",
       "    </tr>\n",
       "    <tr>\n",
       "      <th>280636</th>\n",
       "      <td>Exame</td>\n",
       "      <td>CENTRO DE SAUDE FREI DAMIAO</td>\n",
       "      <td>PALHOCA</td>\n",
       "      <td>8081</td>\n",
       "      <td>145.0</td>\n",
       "      <td>4 - Azul</td>\n",
       "      <td>Fila única</td>\n",
       "      <td>705406430375791</td>\n",
       "      <td>11/09/2017 11:20:09</td>\n",
       "      <td>M C</td>\n",
       "      <td>NaN</td>\n",
       "      <td>CREATININA</td>\n",
       "      <td>421190</td>\n",
       "      <td>6082351</td>\n",
       "      <td>5819393</td>\n",
       "      <td>202010317.0</td>\n",
       "      <td>GRUPO - PATOLOGIA CLINICA (EXAMES DE LABORATORIO)</td>\n",
       "    </tr>\n",
       "    <tr>\n",
       "      <th>881201</th>\n",
       "      <td>Exame</td>\n",
       "      <td>CENTRO DE SAUDE ROCADO</td>\n",
       "      <td>SAO JOSE</td>\n",
       "      <td>586</td>\n",
       "      <td>0.0</td>\n",
       "      <td>4 - Azul</td>\n",
       "      <td>Regulada</td>\n",
       "      <td>708000320771024</td>\n",
       "      <td>29/05/2015 10:56:13</td>\n",
       "      <td>T N M</td>\n",
       "      <td>NaN</td>\n",
       "      <td>RETINOGRAFIA FLUORESCENTE</td>\n",
       "      <td>5908418</td>\n",
       "      <td>2692260</td>\n",
       "      <td>2663651</td>\n",
       "      <td>211060186.0</td>\n",
       "      <td>NaN</td>\n",
       "    </tr>\n",
       "    <tr>\n",
       "      <th>107924</th>\n",
       "      <td>Exame</td>\n",
       "      <td>REGIAO 16 CENTRO</td>\n",
       "      <td>BIGUACU</td>\n",
       "      <td>858</td>\n",
       "      <td>197.0</td>\n",
       "      <td>4 - Azul</td>\n",
       "      <td>Fila única</td>\n",
       "      <td>700000016112703</td>\n",
       "      <td>02/10/2017 07:57:27</td>\n",
       "      <td>L D C B S</td>\n",
       "      <td>NaN</td>\n",
       "      <td>DOSAGEM DE CORTISOL</td>\n",
       "      <td>420230</td>\n",
       "      <td>7606907</td>\n",
       "      <td>7397488</td>\n",
       "      <td>202060136.0</td>\n",
       "      <td>GRUPO - PATOLOGIA CLINICA (EXAMES DE LABORATORIO)</td>\n",
       "    </tr>\n",
       "    <tr>\n",
       "      <th>1221339</th>\n",
       "      <td>Exame</td>\n",
       "      <td>CENTRO DE SAUDE MADRI</td>\n",
       "      <td>PALHOCA</td>\n",
       "      <td>8139</td>\n",
       "      <td>117.0</td>\n",
       "      <td>4 - Azul</td>\n",
       "      <td>Fila única</td>\n",
       "      <td>700005255607503</td>\n",
       "      <td>26/09/2017 14:42:03</td>\n",
       "      <td>L R O A</td>\n",
       "      <td>NaN</td>\n",
       "      <td>UREIA</td>\n",
       "      <td>6082351</td>\n",
       "      <td>6939392</td>\n",
       "      <td>2418339</td>\n",
       "      <td>202010694.0</td>\n",
       "      <td>GRUPO - PATOLOGIA CLINICA (EXAMES DE LABORATORIO)</td>\n",
       "    </tr>\n",
       "    <tr>\n",
       "      <th>530471</th>\n",
       "      <td>Exame</td>\n",
       "      <td>UNIDADE DE SAUDE RUA NOVA TRENTO</td>\n",
       "      <td>BRUSQUE</td>\n",
       "      <td>159</td>\n",
       "      <td>18.0</td>\n",
       "      <td>4 - Azul</td>\n",
       "      <td>Regulada</td>\n",
       "      <td>700501796175552</td>\n",
       "      <td>24/11/2017 09:55:26</td>\n",
       "      <td>J C S</td>\n",
       "      <td>NaN</td>\n",
       "      <td>DOSAGEM DE COLESTEROL TOTAL (0202010295)</td>\n",
       "      <td>7019815</td>\n",
       "      <td>7019815</td>\n",
       "      <td>2513617</td>\n",
       "      <td>202010295.0</td>\n",
       "      <td>GRUPO - DIAGNOSTICO EM LABORATORIO CLINICO</td>\n",
       "    </tr>\n",
       "    <tr>\n",
       "      <th>1063364</th>\n",
       "      <td>Exame</td>\n",
       "      <td>ESF FREI JOAO MARIA</td>\n",
       "      <td>BLUMENAU</td>\n",
       "      <td>457</td>\n",
       "      <td>69.0</td>\n",
       "      <td>4 - Azul</td>\n",
       "      <td>Fila única</td>\n",
       "      <td>704100179768170</td>\n",
       "      <td>17/07/2017 14:48:59</td>\n",
       "      <td>M P</td>\n",
       "      <td>NaN</td>\n",
       "      <td>RADIOGRAFIA DE COLUNA LOMBO-SACRA</td>\n",
       "      <td>2353654</td>\n",
       "      <td>2353654</td>\n",
       "      <td>2513307</td>\n",
       "      <td>204020069.0</td>\n",
       "      <td>GRUPO - DIAGNOSTICO POR RADIOLOGIA</td>\n",
       "    </tr>\n",
       "    <tr>\n",
       "      <th>672557</th>\n",
       "      <td>Consulta</td>\n",
       "      <td>CENTRAL DE REGULACAO MUNICIPAL AMBULATORIAL</td>\n",
       "      <td>RIO DO SUL</td>\n",
       "      <td>904</td>\n",
       "      <td>40.0</td>\n",
       "      <td>4 - Azul</td>\n",
       "      <td>Regulada</td>\n",
       "      <td>704100717778580</td>\n",
       "      <td>23/11/2017 08:32:27</td>\n",
       "      <td>A P J</td>\n",
       "      <td>NaN</td>\n",
       "      <td>CONSULTA EM CARDIOLOGIA - ADULTO</td>\n",
       "      <td>9007741</td>\n",
       "      <td>9007741</td>\n",
       "      <td>9007741</td>\n",
       "      <td>301010072.0</td>\n",
       "      <td>NaN</td>\n",
       "    </tr>\n",
       "    <tr>\n",
       "      <th>820826</th>\n",
       "      <td>Consulta</td>\n",
       "      <td>CENTRO DE SAUDE PASSAGEM DO MACIAMBU</td>\n",
       "      <td>PALHOCA</td>\n",
       "      <td>2694</td>\n",
       "      <td>1776.0</td>\n",
       "      <td>4 - Azul</td>\n",
       "      <td>Regulada</td>\n",
       "      <td>703300208465010</td>\n",
       "      <td>01/07/2016 10:13:57</td>\n",
       "      <td>L C F P</td>\n",
       "      <td>NaN</td>\n",
       "      <td>CONSULTA EM ORTOPEDIA (OMBROS)</td>\n",
       "      <td>6082351</td>\n",
       "      <td>2692260</td>\n",
       "      <td>2624672</td>\n",
       "      <td>301010072.0</td>\n",
       "      <td>NaN</td>\n",
       "    </tr>\n",
       "  </tbody>\n",
       "</table>\n",
       "</div>"
      ],
      "text/plain": [
       "          SERVIÇO               CENTRALDEREGULAÇÃO/RESPONSÁVEL  \\\n",
       "498982   Consulta        UNIDADE DE SAUDE PREFEITO JOSE KEHRIG   \n",
       "803737   Consulta        UNIDADE DE SAUDE PREFEITO JOSE KEHRIG   \n",
       "280636      Exame                  CENTRO DE SAUDE FREI DAMIAO   \n",
       "881201      Exame                       CENTRO DE SAUDE ROCADO   \n",
       "107924      Exame                             REGIAO 16 CENTRO   \n",
       "1221339     Exame                        CENTRO DE SAUDE MADRI   \n",
       "530471      Exame             UNIDADE DE SAUDE RUA NOVA TRENTO   \n",
       "1063364     Exame                          ESF FREI JOAO MARIA   \n",
       "672557   Consulta  CENTRAL DE REGULACAO MUNICIPAL AMBULATORIAL   \n",
       "820826   Consulta         CENTRO DE SAUDE PASSAGEM DO MACIAMBU   \n",
       "\n",
       "             MUNICÍPIODERESIDÊNCIA  POSIÇÃO  TEMPOMÉDIODEESPERA(DIAS)  \\\n",
       "498982   SANTO AMARO DA IMPERATRIZ     1554                       0.0   \n",
       "803737   SANTO AMARO DA IMPERATRIZ     1509                     417.0   \n",
       "280636                     PALHOCA     8081                     145.0   \n",
       "881201                    SAO JOSE      586                       0.0   \n",
       "107924                     BIGUACU      858                     197.0   \n",
       "1221339                    PALHOCA     8139                     117.0   \n",
       "530471                     BRUSQUE      159                      18.0   \n",
       "1063364                   BLUMENAU      457                      69.0   \n",
       "672557                  RIO DO SUL      904                      40.0   \n",
       "820826                     PALHOCA     2694                    1776.0   \n",
       "\n",
       "        CLASSIFICAÇÃO TIPO DA LISTA        DOCUMENTO    DATADASOLICITAÇÃO  \\\n",
       "498982       4 - Azul      Regulada  708404785448764  09/06/2017 11:21:39   \n",
       "803737       4 - Azul      Regulada  203795005600001  02/10/2015 08:58:47   \n",
       "280636       4 - Azul    Fila única  705406430375791  11/09/2017 11:20:09   \n",
       "881201       4 - Azul      Regulada  708000320771024  29/05/2015 10:56:13   \n",
       "107924       4 - Azul    Fila única  700000016112703  02/10/2017 07:57:27   \n",
       "1221339      4 - Azul    Fila única  700005255607503  26/09/2017 14:42:03   \n",
       "530471       4 - Azul      Regulada  700501796175552  24/11/2017 09:55:26   \n",
       "1063364      4 - Azul    Fila única  704100179768170  17/07/2017 14:48:59   \n",
       "672557       4 - Azul      Regulada  704100717778580  23/11/2017 08:32:27   \n",
       "820826       4 - Azul      Regulada  703300208465010  01/07/2016 10:13:57   \n",
       "\n",
       "           CIDADÃO  NASCIMENTO                   DESCRIÇÃODOPROCEDIMENTO  \\\n",
       "498982       E M M         NaN          CONSULTA EM OFTALMOLOGIA - EXTRA   \n",
       "803737     M H A L         NaN          CONSULTA EM OFTALMOLOGIA - GERAL   \n",
       "280636         M C         NaN                                CREATININA   \n",
       "881201       T N M         NaN                 RETINOGRAFIA FLUORESCENTE   \n",
       "107924   L D C B S         NaN                       DOSAGEM DE CORTISOL   \n",
       "1221339    L R O A         NaN                                     UREIA   \n",
       "530471       J C S         NaN  DOSAGEM DE COLESTEROL TOTAL (0202010295)   \n",
       "1063364        M P         NaN         RADIOGRAFIA DE COLUNA LOMBO-SACRA   \n",
       "672557       A P J         NaN          CONSULTA EM CARDIOLOGIA - ADULTO   \n",
       "820826     L C F P         NaN            CONSULTA EM ORTOPEDIA (OMBROS)   \n",
       "\n",
       "        CNES DA CENTRAL SOLICITANTE CNESDACENTRALEXECUTANTE  \\\n",
       "498982                      6375642                 6375642   \n",
       "803737                      6375642                 2692260   \n",
       "280636                       421190                 6082351   \n",
       "881201                      5908418                 2692260   \n",
       "107924                       420230                 7606907   \n",
       "1221339                     6082351                 6939392   \n",
       "530471                      7019815                 7019815   \n",
       "1063364                     2353654                 2353654   \n",
       "672557                      9007741                 9007741   \n",
       "820826                      6082351                 2692260   \n",
       "\n",
       "         CNESDAUNIDADESOLICITANTE  CÓDIGO SIGTAP DO PROCEDIMENTO  \\\n",
       "498982                    2418185                    301010072.0   \n",
       "803737                    2418185                    301010072.0   \n",
       "280636                    5819393                    202010317.0   \n",
       "881201                    2663651                    211060186.0   \n",
       "107924                    7397488                    202060136.0   \n",
       "1221339                   2418339                    202010694.0   \n",
       "530471                    2513617                    202010295.0   \n",
       "1063364                   2513307                    204020069.0   \n",
       "672557                    9007741                    301010072.0   \n",
       "820826                    2624672                    301010072.0   \n",
       "\n",
       "                        DESCRIÇÃO DO GRUPO DO PROCEDIMENTO  \n",
       "498982                                                 NaN  \n",
       "803737                                                 NaN  \n",
       "280636   GRUPO - PATOLOGIA CLINICA (EXAMES DE LABORATORIO)  \n",
       "881201                                                 NaN  \n",
       "107924   GRUPO - PATOLOGIA CLINICA (EXAMES DE LABORATORIO)  \n",
       "1221339  GRUPO - PATOLOGIA CLINICA (EXAMES DE LABORATORIO)  \n",
       "530471          GRUPO - DIAGNOSTICO EM LABORATORIO CLINICO  \n",
       "1063364                 GRUPO - DIAGNOSTICO POR RADIOLOGIA  \n",
       "672557                                                 NaN  \n",
       "820826                                                 NaN  "
      ]
     },
     "execution_count": 7,
     "metadata": {},
     "output_type": "execute_result"
    }
   ],
   "source": [
    "df.sample(10)"
   ]
  },
  {
   "cell_type": "markdown",
   "metadata": {},
   "source": [
    "Amostra de 10 itens do nosso dataset. \n",
    "\n",
    "**Exercício**\n",
    "\n",
    "Clique na célula e tecle shift enter"
   ]
  },
  {
   "cell_type": "code",
   "execution_count": 8,
   "metadata": {},
   "outputs": [
    {
     "data": {
      "text/plain": [
       "<matplotlib.axes._subplots.AxesSubplot at 0x18ab626cbe0>"
      ]
     },
     "execution_count": 8,
     "metadata": {},
     "output_type": "execute_result"
    },
    {
     "data": {
      "image/png": "[encoded data removed]",
      "text/plain": [
       "<Figure size 432x288 with 1 Axes>"
      ]
     },
     "metadata": {
      "needs_background": "light"
     },
     "output_type": "display_data"
    }
   ],
   "source": [
    "df.groupby('SERVIÇO').size().sort_values().plot(kind='barh')"
   ]
  },
  {
   "cell_type": "markdown",
   "metadata": {},
   "source": [
    "Fizemos um agrupamento da base, em relação à coluna SERVIÇO, pegamos o tamanho do agrupamento, colocamos em ordem, e plotamos um gráfico do tipo barra horizontal"
   ]
  },
  {
   "cell_type": "code",
   "execution_count": 9,
   "metadata": {},
   "outputs": [
    {
     "data": {
      "text/plain": [
       "<matplotlib.axes._subplots.AxesSubplot at 0x18ac8f76fd0>"
      ]
     },
     "execution_count": 9,
     "metadata": {},
     "output_type": "execute_result"
    },
    {
     "data": {
      "image/png": "[encoded data removed]",
      "text/plain": [
       "<Figure size 720x720 with 1 Axes>"
      ]
     },
     "metadata": {
      "needs_background": "light"
     },
     "output_type": "display_data"
    }
   ],
   "source": [
    "df.groupby('MUNICÍPIODERESIDÊNCIA').size().sort_values().tail(20).plot(kind='barh', figsize=(10,10))"
   ]
  },
  {
   "cell_type": "markdown",
   "metadata": {},
   "source": [
    "Fizemos algo semelhante em relação aos municípios, como são muitos, pegamos os últimos 20, que são os maiores\n",
    "\n",
    "**Exercício**\n",
    "\n",
    "O que você percebe de errado neste gráfico?"
   ]
  },
  {
   "cell_type": "code",
   "execution_count": 10,
   "metadata": {},
   "outputs": [
    {
     "data": {
      "text/plain": [
       "<matplotlib.axes._subplots.AxesSubplot at 0x18ab65e10f0>"
      ]
     },
     "execution_count": 10,
     "metadata": {},
     "output_type": "execute_result"
    },
    {
     "data": {
      "image/png": "[encoded data removed]",
      "text/plain": [
       "<Figure size 432x288 with 1 Axes>"
      ]
     },
     "metadata": {
      "needs_background": "light"
     },
     "output_type": "display_data"
    }
   ],
   "source": [
    "df.query('SERVIÇO == \"Exame\"')['MUNICÍPIODERESIDÊNCIA'].value_counts().head().plot(kind='barh')"
   ]
  },
  {
   "cell_type": "markdown",
   "metadata": {},
   "source": [
    "Vamos entrevistar um subconjunto de dados relativos à Exames, quando fizemos groupby, estamos ainda com a base inteira, agrupada segundo um critério. Query cria um recorte, no caso de Exames. Aqui estamos usando value_counts, para o resultado da query, note que antes usamos size, que é mais geral."
   ]
  },
  {
   "cell_type": "code",
   "execution_count": 11,
   "metadata": {},
   "outputs": [
    {
     "data": {
      "text/plain": [
       "PALHOCA          347913\n",
       "SAO JOSE         102497\n",
       "BLUMENAU          57577\n",
       "BIGUACU           55737\n",
       "FLORIANOPOLIS     45871\n",
       "Name: MUNICÍPIODERESIDÊNCIA, dtype: int64"
      ]
     },
     "execution_count": 11,
     "metadata": {},
     "output_type": "execute_result"
    }
   ],
   "source": [
    "df.query('SERVIÇO == \"Exame\"')['MUNICÍPIODERESIDÊNCIA'].value_counts().head()"
   ]
  },
  {
   "cell_type": "markdown",
   "metadata": {},
   "source": [
    "Muitas vezes precisamos ver os dados, não apenas em gráficos\n",
    "\n",
    "Como são as Estatísticas em relação às pessoas que usam o SUS? Quantos exames cada uma realizou naquele mês de novembro, na média, qual o máximo de exames, etc"
   ]
  },
  {
   "cell_type": "code",
   "execution_count": 12,
   "metadata": {},
   "outputs": [
    {
     "data": {
      "text/plain": [
       "count    31797.000000\n",
       "mean        10.941693\n",
       "std         12.505739\n",
       "min          1.000000\n",
       "25%          2.000000\n",
       "50%          4.000000\n",
       "75%         18.000000\n",
       "max         90.000000\n",
       "Name: DOCUMENTO, dtype: float64"
      ]
     },
     "execution_count": 12,
     "metadata": {},
     "output_type": "execute_result"
    }
   ],
   "source": [
    "df.query('SERVIÇO == \"Exame\" and MUNICÍPIODERESIDÊNCIA == \"PALHOCA\"').DOCUMENTO.value_counts().describe()"
   ]
  },
  {
   "cell_type": "markdown",
   "metadata": {},
   "source": [
    "**Exercício**\n",
    "\n",
    "O que você acha de muito diferente em relação aos dados acima"
   ]
  },
  {
   "cell_type": "code",
   "execution_count": 13,
   "metadata": {},
   "outputs": [
    {
     "data": {
      "text/plain": [
       "704207709501384    90\n",
       "700603418445267    80\n",
       "700000291920300    80\n",
       "700505394201153    78\n",
       "702005327186289    77\n",
       "Name: DOCUMENTO, dtype: int64"
      ]
     },
     "execution_count": 13,
     "metadata": {},
     "output_type": "execute_result"
    }
   ],
   "source": [
    "df.query('SERVIÇO == \"Exame\" and MUNICÍPIODERESIDÊNCIA == \"PALHOCA\"').DOCUMENTO.value_counts().head()"
   ]
  },
  {
   "cell_type": "markdown",
   "metadata": {},
   "source": [
    "Quais são os exames concretos, associados a esses identificadores"
   ]
  },
  {
   "cell_type": "code",
   "execution_count": 14,
   "metadata": {},
   "outputs": [
    {
     "data": {
      "text/html": [
       "<div>\n",
       "<style scoped>\n",
       "    .dataframe tbody tr th:only-of-type {\n",
       "        vertical-align: middle;\n",
       "    }\n",
       "\n",
       "    .dataframe tbody tr th {\n",
       "        vertical-align: top;\n",
       "    }\n",
       "\n",
       "    .dataframe thead th {\n",
       "        text-align: right;\n",
       "    }\n",
       "</style>\n",
       "<table border=\"1\" class=\"dataframe\">\n",
       "  <thead>\n",
       "    <tr style=\"text-align: right;\">\n",
       "      <th></th>\n",
       "      <th>DESCRIÇÃODOPROCEDIMENTO</th>\n",
       "      <th>DATADASOLICITAÇÃO</th>\n",
       "      <th>CENTRALDEREGULAÇÃO/RESPONSÁVEL</th>\n",
       "      <th>POSIÇÃO</th>\n",
       "      <th>CNESDACENTRALEXECUTANTE</th>\n",
       "      <th>CNESDAUNIDADESOLICITANTE</th>\n",
       "    </tr>\n",
       "  </thead>\n",
       "  <tbody>\n",
       "    <tr>\n",
       "      <th>264552</th>\n",
       "      <td>25 HIDROXIVITAMINA D (25 OHD)</td>\n",
       "      <td>23/08/2017 11:07:41</td>\n",
       "      <td>CENTRO DE SAUDE VILA NOVA</td>\n",
       "      <td>6519</td>\n",
       "      <td>6082351</td>\n",
       "      <td>7124619</td>\n",
       "    </tr>\n",
       "    <tr>\n",
       "      <th>1189115</th>\n",
       "      <td>25 HIDROXIVITAMINA D (25 OHD)</td>\n",
       "      <td>23/08/2017 11:07:41</td>\n",
       "      <td>CENTRO DE SAUDE VILA NOVA</td>\n",
       "      <td>4990</td>\n",
       "      <td>6939392</td>\n",
       "      <td>7124619</td>\n",
       "    </tr>\n",
       "    <tr>\n",
       "      <th>300253</th>\n",
       "      <td>ACIDO FOLICO</td>\n",
       "      <td>29/09/2017 13:13:39</td>\n",
       "      <td>CENTRO DE SAUDE VILA NOVA</td>\n",
       "      <td>10017</td>\n",
       "      <td>6082351</td>\n",
       "      <td>7124619</td>\n",
       "    </tr>\n",
       "    <tr>\n",
       "      <th>1224544</th>\n",
       "      <td>ACIDO FOLICO</td>\n",
       "      <td>29/09/2017 13:13:39</td>\n",
       "      <td>CENTRO DE SAUDE VILA NOVA</td>\n",
       "      <td>8466</td>\n",
       "      <td>6939392</td>\n",
       "      <td>7124619</td>\n",
       "    </tr>\n",
       "    <tr>\n",
       "      <th>264515</th>\n",
       "      <td>ACIDO URICO</td>\n",
       "      <td>23/08/2017 11:06:38</td>\n",
       "      <td>CENTRO DE SAUDE VILA NOVA</td>\n",
       "      <td>6515</td>\n",
       "      <td>6082351</td>\n",
       "      <td>7124619</td>\n",
       "    </tr>\n",
       "    <tr>\n",
       "      <th>1189078</th>\n",
       "      <td>ACIDO URICO</td>\n",
       "      <td>23/08/2017 11:06:38</td>\n",
       "      <td>CENTRO DE SAUDE VILA NOVA</td>\n",
       "      <td>4986</td>\n",
       "      <td>6939392</td>\n",
       "      <td>7124619</td>\n",
       "    </tr>\n",
       "    <tr>\n",
       "      <th>1189079</th>\n",
       "      <td>ANTIBIOGRAMA</td>\n",
       "      <td>23/08/2017 11:06:38</td>\n",
       "      <td>CENTRO DE SAUDE VILA NOVA</td>\n",
       "      <td>4986</td>\n",
       "      <td>6939392</td>\n",
       "      <td>7124619</td>\n",
       "    </tr>\n",
       "    <tr>\n",
       "      <th>264516</th>\n",
       "      <td>ANTIBIOGRAMA</td>\n",
       "      <td>23/08/2017 11:06:38</td>\n",
       "      <td>CENTRO DE SAUDE VILA NOVA</td>\n",
       "      <td>6515</td>\n",
       "      <td>6082351</td>\n",
       "      <td>7124619</td>\n",
       "    </tr>\n",
       "    <tr>\n",
       "      <th>300254</th>\n",
       "      <td>ANTIPEROXIDASE /ANTI TPO</td>\n",
       "      <td>29/09/2017 13:13:39</td>\n",
       "      <td>CENTRO DE SAUDE VILA NOVA</td>\n",
       "      <td>10017</td>\n",
       "      <td>6082351</td>\n",
       "      <td>7124619</td>\n",
       "    </tr>\n",
       "    <tr>\n",
       "      <th>1224545</th>\n",
       "      <td>ANTIPEROXIDASE /ANTI TPO</td>\n",
       "      <td>29/09/2017 13:13:39</td>\n",
       "      <td>CENTRO DE SAUDE VILA NOVA</td>\n",
       "      <td>8466</td>\n",
       "      <td>6939392</td>\n",
       "      <td>7124619</td>\n",
       "    </tr>\n",
       "  </tbody>\n",
       "</table>\n",
       "</div>"
      ],
      "text/plain": [
       "               DESCRIÇÃODOPROCEDIMENTO    DATADASOLICITAÇÃO  \\\n",
       "264552   25 HIDROXIVITAMINA D (25 OHD)  23/08/2017 11:07:41   \n",
       "1189115  25 HIDROXIVITAMINA D (25 OHD)  23/08/2017 11:07:41   \n",
       "300253                    ACIDO FOLICO  29/09/2017 13:13:39   \n",
       "1224544                   ACIDO FOLICO  29/09/2017 13:13:39   \n",
       "264515                     ACIDO URICO  23/08/2017 11:06:38   \n",
       "1189078                    ACIDO URICO  23/08/2017 11:06:38   \n",
       "1189079                   ANTIBIOGRAMA  23/08/2017 11:06:38   \n",
       "264516                    ANTIBIOGRAMA  23/08/2017 11:06:38   \n",
       "300254        ANTIPEROXIDASE /ANTI TPO  29/09/2017 13:13:39   \n",
       "1224545       ANTIPEROXIDASE /ANTI TPO  29/09/2017 13:13:39   \n",
       "\n",
       "        CENTRALDEREGULAÇÃO/RESPONSÁVEL  POSIÇÃO CNESDACENTRALEXECUTANTE  \\\n",
       "264552       CENTRO DE SAUDE VILA NOVA     6519                 6082351   \n",
       "1189115      CENTRO DE SAUDE VILA NOVA     4990                 6939392   \n",
       "300253       CENTRO DE SAUDE VILA NOVA    10017                 6082351   \n",
       "1224544      CENTRO DE SAUDE VILA NOVA     8466                 6939392   \n",
       "264515       CENTRO DE SAUDE VILA NOVA     6515                 6082351   \n",
       "1189078      CENTRO DE SAUDE VILA NOVA     4986                 6939392   \n",
       "1189079      CENTRO DE SAUDE VILA NOVA     4986                 6939392   \n",
       "264516       CENTRO DE SAUDE VILA NOVA     6515                 6082351   \n",
       "300254       CENTRO DE SAUDE VILA NOVA    10017                 6082351   \n",
       "1224545      CENTRO DE SAUDE VILA NOVA     8466                 6939392   \n",
       "\n",
       "         CNESDAUNIDADESOLICITANTE  \n",
       "264552                    7124619  \n",
       "1189115                   7124619  \n",
       "300253                    7124619  \n",
       "1224544                   7124619  \n",
       "264515                    7124619  \n",
       "1189078                   7124619  \n",
       "1189079                   7124619  \n",
       "264516                    7124619  \n",
       "300254                    7124619  \n",
       "1224545                   7124619  "
      ]
     },
     "execution_count": 14,
     "metadata": {},
     "output_type": "execute_result"
    }
   ],
   "source": [
    "df.query('DOCUMENTO == 704207709501384')[['DESCRIÇÃODOPROCEDIMENTO','DATADASOLICITAÇÃO', 'CENTRALDEREGULAÇÃO/RESPONSÁVEL', 'POSIÇÃO', 'CNESDACENTRALEXECUTANTE', 'CNESDAUNIDADESOLICITANTE']].sort_values(by='DESCRIÇÃODOPROCEDIMENTO').head(10)"
   ]
  },
  {
   "cell_type": "markdown",
   "metadata": {},
   "source": [
    "**Exercício**\n",
    "\n",
    "Verifique os dados acima e elabore uma hipótese para o problema de Santa Catarina"
   ]
  },
  {
   "cell_type": "code",
   "execution_count": 15,
   "metadata": {},
   "outputs": [
    {
     "data": {
      "text/html": [
       "<div>\n",
       "<style scoped>\n",
       "    .dataframe tbody tr th:only-of-type {\n",
       "        vertical-align: middle;\n",
       "    }\n",
       "\n",
       "    .dataframe tbody tr th {\n",
       "        vertical-align: top;\n",
       "    }\n",
       "\n",
       "    .dataframe thead th {\n",
       "        text-align: right;\n",
       "    }\n",
       "</style>\n",
       "<table border=\"1\" class=\"dataframe\">\n",
       "  <thead>\n",
       "    <tr style=\"text-align: right;\">\n",
       "      <th></th>\n",
       "      <th>DESCRIÇÃODOPROCEDIMENTO</th>\n",
       "      <th>DATADASOLICITAÇÃO</th>\n",
       "      <th>CENTRALDEREGULAÇÃO/RESPONSÁVEL</th>\n",
       "      <th>POSIÇÃO</th>\n",
       "      <th>CNESDACENTRALEXECUTANTE</th>\n",
       "      <th>CNESDAUNIDADESOLICITANTE</th>\n",
       "    </tr>\n",
       "  </thead>\n",
       "  <tbody>\n",
       "    <tr>\n",
       "      <th>194548</th>\n",
       "      <td>25 HIDROXIVITAMINA D (25 OHD)</td>\n",
       "      <td>18/04/2017 17:04:52</td>\n",
       "      <td>CEAP CENTRO ESPECIALIZADO EM ACONSELHAMENTO E ...</td>\n",
       "      <td>339</td>\n",
       "      <td>6082351</td>\n",
       "      <td>5969018</td>\n",
       "    </tr>\n",
       "    <tr>\n",
       "      <th>1134084</th>\n",
       "      <td>25 HIDROXIVITAMINA D (25 OHD)</td>\n",
       "      <td>18/04/2017 17:04:52</td>\n",
       "      <td>CEAP CENTRO ESPECIALIZADO EM ACONSELHAMENTO E ...</td>\n",
       "      <td>295</td>\n",
       "      <td>6939392</td>\n",
       "      <td>5969018</td>\n",
       "    </tr>\n",
       "    <tr>\n",
       "      <th>194549</th>\n",
       "      <td>ACIDO URICO</td>\n",
       "      <td>18/04/2017 17:04:52</td>\n",
       "      <td>CEAP CENTRO ESPECIALIZADO EM ACONSELHAMENTO E ...</td>\n",
       "      <td>339</td>\n",
       "      <td>6082351</td>\n",
       "      <td>5969018</td>\n",
       "    </tr>\n",
       "    <tr>\n",
       "      <th>1134085</th>\n",
       "      <td>ACIDO URICO</td>\n",
       "      <td>18/04/2017 17:04:52</td>\n",
       "      <td>CEAP CENTRO ESPECIALIZADO EM ACONSELHAMENTO E ...</td>\n",
       "      <td>295</td>\n",
       "      <td>6939392</td>\n",
       "      <td>5969018</td>\n",
       "    </tr>\n",
       "    <tr>\n",
       "      <th>194550</th>\n",
       "      <td>AMILASE</td>\n",
       "      <td>18/04/2017 17:04:52</td>\n",
       "      <td>CEAP CENTRO ESPECIALIZADO EM ACONSELHAMENTO E ...</td>\n",
       "      <td>339</td>\n",
       "      <td>6082351</td>\n",
       "      <td>5969018</td>\n",
       "    </tr>\n",
       "    <tr>\n",
       "      <th>1134086</th>\n",
       "      <td>AMILASE</td>\n",
       "      <td>18/04/2017 17:04:52</td>\n",
       "      <td>CEAP CENTRO ESPECIALIZADO EM ACONSELHAMENTO E ...</td>\n",
       "      <td>295</td>\n",
       "      <td>6939392</td>\n",
       "      <td>5969018</td>\n",
       "    </tr>\n",
       "    <tr>\n",
       "      <th>1134105</th>\n",
       "      <td>ANTI HBC - IGG ANTICORPOS IGG CONTRA ANTIGENO ...</td>\n",
       "      <td>18/04/2017 17:27:57</td>\n",
       "      <td>CEAP CENTRO ESPECIALIZADO EM ACONSELHAMENTO E ...</td>\n",
       "      <td>296</td>\n",
       "      <td>6939392</td>\n",
       "      <td>5969018</td>\n",
       "    </tr>\n",
       "    <tr>\n",
       "      <th>194569</th>\n",
       "      <td>ANTI HBC - IGG ANTICORPOS IGG CONTRA ANTIGENO ...</td>\n",
       "      <td>18/04/2017 17:27:57</td>\n",
       "      <td>CEAP CENTRO ESPECIALIZADO EM ACONSELHAMENTO E ...</td>\n",
       "      <td>340</td>\n",
       "      <td>6082351</td>\n",
       "      <td>5969018</td>\n",
       "    </tr>\n",
       "    <tr>\n",
       "      <th>1134106</th>\n",
       "      <td>ANTI HBC - IGM ANTICORPOS IGM CONTRA ANTIGENO ...</td>\n",
       "      <td>18/04/2017 17:27:57</td>\n",
       "      <td>CEAP CENTRO ESPECIALIZADO EM ACONSELHAMENTO E ...</td>\n",
       "      <td>296</td>\n",
       "      <td>6939392</td>\n",
       "      <td>5969018</td>\n",
       "    </tr>\n",
       "    <tr>\n",
       "      <th>194570</th>\n",
       "      <td>ANTI HBC - IGM ANTICORPOS IGM CONTRA ANTIGENO ...</td>\n",
       "      <td>18/04/2017 17:27:57</td>\n",
       "      <td>CEAP CENTRO ESPECIALIZADO EM ACONSELHAMENTO E ...</td>\n",
       "      <td>340</td>\n",
       "      <td>6082351</td>\n",
       "      <td>5969018</td>\n",
       "    </tr>\n",
       "  </tbody>\n",
       "</table>\n",
       "</div>"
      ],
      "text/plain": [
       "                                   DESCRIÇÃODOPROCEDIMENTO  \\\n",
       "194548                       25 HIDROXIVITAMINA D (25 OHD)   \n",
       "1134084                      25 HIDROXIVITAMINA D (25 OHD)   \n",
       "194549                                         ACIDO URICO   \n",
       "1134085                                        ACIDO URICO   \n",
       "194550                                             AMILASE   \n",
       "1134086                                            AMILASE   \n",
       "1134105  ANTI HBC - IGG ANTICORPOS IGG CONTRA ANTIGENO ...   \n",
       "194569   ANTI HBC - IGG ANTICORPOS IGG CONTRA ANTIGENO ...   \n",
       "1134106  ANTI HBC - IGM ANTICORPOS IGM CONTRA ANTIGENO ...   \n",
       "194570   ANTI HBC - IGM ANTICORPOS IGM CONTRA ANTIGENO ...   \n",
       "\n",
       "           DATADASOLICITAÇÃO  \\\n",
       "194548   18/04/2017 17:04:52   \n",
       "1134084  18/04/2017 17:04:52   \n",
       "194549   18/04/2017 17:04:52   \n",
       "1134085  18/04/2017 17:04:52   \n",
       "194550   18/04/2017 17:04:52   \n",
       "1134086  18/04/2017 17:04:52   \n",
       "1134105  18/04/2017 17:27:57   \n",
       "194569   18/04/2017 17:27:57   \n",
       "1134106  18/04/2017 17:27:57   \n",
       "194570   18/04/2017 17:27:57   \n",
       "\n",
       "                            CENTRALDEREGULAÇÃO/RESPONSÁVEL  POSIÇÃO  \\\n",
       "194548   CEAP CENTRO ESPECIALIZADO EM ACONSELHAMENTO E ...      339   \n",
       "1134084  CEAP CENTRO ESPECIALIZADO EM ACONSELHAMENTO E ...      295   \n",
       "194549   CEAP CENTRO ESPECIALIZADO EM ACONSELHAMENTO E ...      339   \n",
       "1134085  CEAP CENTRO ESPECIALIZADO EM ACONSELHAMENTO E ...      295   \n",
       "194550   CEAP CENTRO ESPECIALIZADO EM ACONSELHAMENTO E ...      339   \n",
       "1134086  CEAP CENTRO ESPECIALIZADO EM ACONSELHAMENTO E ...      295   \n",
       "1134105  CEAP CENTRO ESPECIALIZADO EM ACONSELHAMENTO E ...      296   \n",
       "194569   CEAP CENTRO ESPECIALIZADO EM ACONSELHAMENTO E ...      340   \n",
       "1134106  CEAP CENTRO ESPECIALIZADO EM ACONSELHAMENTO E ...      296   \n",
       "194570   CEAP CENTRO ESPECIALIZADO EM ACONSELHAMENTO E ...      340   \n",
       "\n",
       "        CNESDACENTRALEXECUTANTE  CNESDAUNIDADESOLICITANTE  \n",
       "194548                  6082351                   5969018  \n",
       "1134084                 6939392                   5969018  \n",
       "194549                  6082351                   5969018  \n",
       "1134085                 6939392                   5969018  \n",
       "194550                  6082351                   5969018  \n",
       "1134086                 6939392                   5969018  \n",
       "1134105                 6939392                   5969018  \n",
       "194569                  6082351                   5969018  \n",
       "1134106                 6939392                   5969018  \n",
       "194570                  6082351                   5969018  "
      ]
     },
     "execution_count": 15,
     "metadata": {},
     "output_type": "execute_result"
    }
   ],
   "source": [
    "df.query('DOCUMENTO == 700603418445267')[['DESCRIÇÃODOPROCEDIMENTO','DATADASOLICITAÇÃO', 'CENTRALDEREGULAÇÃO/RESPONSÁVEL', 'POSIÇÃO', 'CNESDACENTRALEXECUTANTE', 'CNESDAUNIDADESOLICITANTE']].sort_values(by='DESCRIÇÃODOPROCEDIMENTO').head(10)"
   ]
  },
  {
   "cell_type": "markdown",
   "metadata": {},
   "source": [
    "Observamos que nossa hipótese é comprovada nas maiores contagens, precisamos validar a hipótese analisado o dataset inteiro"
   ]
  },
  {
   "cell_type": "code",
   "execution_count": 16,
   "metadata": {},
   "outputs": [],
   "source": [
    "def deduplicate_stats(query=None):\n",
    "    if query:\n",
    "        df_tmp = df.query(query)\n",
    "    else:\n",
    "        df_tmp = df\n",
    "    total_rows = len(df_tmp)\n",
    "    unique_rows = len(df_tmp.groupby(['DOCUMENTO', 'DESCRIÇÃODOPROCEDIMENTO']))\n",
    "    unique_rows_same_date = len(df_tmp.groupby(['DOCUMENTO', 'DESCRIÇÃODOPROCEDIMENTO', 'DATADASOLICITAÇÃO']))\n",
    "    reducao_fila = (total_rows - unique_rows) / total_rows\n",
    "    print('           registros na fila:', total_rows)\n",
    "    print('    registros únicos na fila:', unique_rows)\n",
    "    print('          duplicados (total):', total_rows - unique_rows)\n",
    "    print('duplicados (mesmo timestamp):', total_rows - unique_rows_same_date)\n",
    "    print('    redução com deduplicação:', int(100*reducao_fila), '%')\n"
   ]
  },
  {
   "cell_type": "markdown",
   "metadata": {},
   "source": [
    "Ao executar a célula carregamos nossa função. Ela recebe um argumento, caso não tenha sido passado nada, None, você irá usar toda a base, caso contrário, criar um dataframe temporário para a contagem. Queremos saber o número de duplicados gerais e os particulares, com mesma data e hora. Assim veremos se é um erro manual, ou algo sistêmico."
   ]
  },
  {
   "cell_type": "code",
   "execution_count": 17,
   "metadata": {},
   "outputs": [
    {
     "name": "stdout",
     "output_type": "stream",
     "text": [
      "           registros na fila: 384253\n",
      "    registros únicos na fila: 223579\n",
      "          duplicados (total): 160674\n",
      "duplicados (mesmo timestamp): 160305\n",
      "    redução com deduplicação: 41 %\n"
     ]
    }
   ],
   "source": [
    "deduplicate_stats('MUNICÍPIODERESIDÊNCIA == \"PALHOCA\"')"
   ]
  },
  {
   "cell_type": "code",
   "execution_count": 18,
   "metadata": {},
   "outputs": [
    {
     "name": "stdout",
     "output_type": "stream",
     "text": [
      "           registros na fila: 1306967\n",
      "    registros únicos na fila: 1080625\n",
      "          duplicados (total): 226342\n",
      "duplicados (mesmo timestamp): 222124\n",
      "    redução com deduplicação: 17 %\n"
     ]
    }
   ],
   "source": [
    "deduplicate_stats()"
   ]
  },
  {
   "cell_type": "markdown",
   "metadata": {},
   "source": [
    "**Exercício**\n",
    "\n",
    "Verifique os municípios de FLORIANOPOLIS e JOINVILLE"
   ]
  },
  {
   "cell_type": "code",
   "execution_count": null,
   "metadata": {},
   "outputs": [],
   "source": []
  },
  {
   "cell_type": "code",
   "execution_count": null,
   "metadata": {},
   "outputs": [],
   "source": []
  }
 ],
 "metadata": {
  "kernelspec": {
   "display_name": "Python 3",
   "language": "python",
   "name": "python3"
  },
  "language_info": {
   "codemirror_mode": {
    "name": "ipython",
    "version": 3
   },
   "file_extension": ".py",
   "mimetype": "text/x-python",
   "name": "python",
   "nbconvert_exporter": "python",
   "pygments_lexer": "ipython3",
   "version": "3.7.3"
  }
 },
 "nbformat": 4,
 "nbformat_minor": 2
}
