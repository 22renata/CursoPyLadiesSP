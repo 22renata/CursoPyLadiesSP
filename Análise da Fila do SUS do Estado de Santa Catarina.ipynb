{
 "cells": [
  {
   "cell_type": "markdown",
   "metadata": {},
   "source": [
    "**Pandas Dataframe**\n",
    "---------------\n",
    "Uma biblioteca muito utilizada em Ciência de Dados é o pandas. E a estrutura de dados mais útil é o dataframe. Vamos fazer uma Análise real, com Dados Públicos do SUS de Santa Catarina, créditos para a Larissa Lautert, do PyLadies Florianópolis, que me forneceu este notebook. O problema analisado é a excessiva demora na Fila do SUS, naquele dataset concreto de dados."
   ]
  },
  {
   "cell_type": "code",
   "execution_count": 1,
   "metadata": {},
   "outputs": [],
   "source": [
    "import pandas as pd\n",
    "low_memory=False\n",
    "%matplotlib inline\n",
    "pd.options.display.max_columns = 80\n",
    "pd.options.display.max_rows = 90"
   ]
  },
  {
   "cell_type": "markdown",
   "metadata": {},
   "source": [
    "Pandas é a biblioteca que carrego na memória com um apelido pd, low_memory normalmente é True, porém, para acelerar nossa carga colocaremos False, matplotlib permite visualizações básicas e faremos os gráficos diretamente nos dataframes, max_columns e max_rows apenas para diminuir a apresentação de conjuntos muito extensos de dados."
   ]
  },
  {
   "cell_type": "code",
   "execution_count": 2,
   "metadata": {},
   "outputs": [
    {
     "name": "stderr",
     "output_type": "stream",
     "text": [
      "c:\\users\\fmasa\\appdata\\local\\programs\\python\\python38-32\\lib\\site-packages\\IPython\\core\\interactiveshell.py:3145: DtypeWarning: Columns (7,12,13,16) have mixed types.Specify dtype option on import or set low_memory=False.\n",
      "  has_raised = await self.run_ast_nodes(code_ast.body, cell_name,\n"
     ]
    }
   ],
   "source": [
    "filename = 'fila-publica-2017-11-30.csv'\n",
    "df = pd.read_csv(filename)"
   ]
  },
  {
   "cell_type": "markdown",
   "metadata": {},
   "source": [
    "Este arquivo deve estar na mesma pasta do seu notebook. Tivemos alguns avisos, que não irão afetar nossa Análise."
   ]
  },
  {
   "cell_type": "code",
   "execution_count": 3,
   "metadata": {},
   "outputs": [
    {
     "data": {
      "text/plain": [
       "(1306967, 17)"
      ]
     },
     "execution_count": 3,
     "metadata": {},
     "output_type": "execute_result"
    }
   ],
   "source": [
    "df.shape"
   ]
  },
  {
   "cell_type": "code",
   "execution_count": 4,
   "metadata": {},
   "outputs": [
    {
     "data": {
      "text/html": [
       "<div>\n",
       "<style scoped>\n",
       "    .dataframe tbody tr th:only-of-type {\n",
       "        vertical-align: middle;\n",
       "    }\n",
       "\n",
       "    .dataframe tbody tr th {\n",
       "        vertical-align: top;\n",
       "    }\n",
       "\n",
       "    .dataframe thead th {\n",
       "        text-align: right;\n",
       "    }\n",
       "</style>\n",
       "<table border=\"1\" class=\"dataframe\">\n",
       "  <thead>\n",
       "    <tr style=\"text-align: right;\">\n",
       "      <th></th>\n",
       "      <th>POSIÇÃO</th>\n",
       "      <th>TEMPO MÉDIO DE ESPERA(DIAS)</th>\n",
       "      <th>NASCIMENTO</th>\n",
       "      <th>CNES DA UNIDADE SOLICITANTE</th>\n",
       "      <th>CÓDIGO SIGTAP DO PROCEDIMENTO</th>\n",
       "    </tr>\n",
       "  </thead>\n",
       "  <tbody>\n",
       "    <tr>\n",
       "      <th>count</th>\n",
       "      <td>1.306967e+06</td>\n",
       "      <td>1.288724e+06</td>\n",
       "      <td>0.0</td>\n",
       "      <td>1.306967e+06</td>\n",
       "      <td>1.305728e+06</td>\n",
       "    </tr>\n",
       "    <tr>\n",
       "      <th>mean</th>\n",
       "      <td>2.502004e+03</td>\n",
       "      <td>1.942741e+02</td>\n",
       "      <td>NaN</td>\n",
       "      <td>3.539747e+06</td>\n",
       "      <td>2.414849e+08</td>\n",
       "    </tr>\n",
       "    <tr>\n",
       "      <th>std</th>\n",
       "      <td>3.291319e+03</td>\n",
       "      <td>3.145126e+02</td>\n",
       "      <td>NaN</td>\n",
       "      <td>1.972460e+06</td>\n",
       "      <td>5.118480e+07</td>\n",
       "    </tr>\n",
       "    <tr>\n",
       "      <th>min</th>\n",
       "      <td>1.000000e+00</td>\n",
       "      <td>0.000000e+00</td>\n",
       "      <td>NaN</td>\n",
       "      <td>1.925900e+04</td>\n",
       "      <td>2.040601e+07</td>\n",
       "    </tr>\n",
       "    <tr>\n",
       "      <th>25%</th>\n",
       "      <td>2.490000e+02</td>\n",
       "      <td>3.100000e+01</td>\n",
       "      <td>NaN</td>\n",
       "      <td>2.418916e+06</td>\n",
       "      <td>2.020602e+08</td>\n",
       "    </tr>\n",
       "    <tr>\n",
       "      <th>50%</th>\n",
       "      <td>1.011000e+03</td>\n",
       "      <td>9.900000e+01</td>\n",
       "      <td>NaN</td>\n",
       "      <td>2.660792e+06</td>\n",
       "      <td>2.060101e+08</td>\n",
       "    </tr>\n",
       "    <tr>\n",
       "      <th>75%</th>\n",
       "      <td>3.351000e+03</td>\n",
       "      <td>1.590000e+02</td>\n",
       "      <td>NaN</td>\n",
       "      <td>5.465893e+06</td>\n",
       "      <td>3.010101e+08</td>\n",
       "    </tr>\n",
       "    <tr>\n",
       "      <th>max</th>\n",
       "      <td>1.874000e+04</td>\n",
       "      <td>2.019000e+03</td>\n",
       "      <td>NaN</td>\n",
       "      <td>9.362223e+06</td>\n",
       "      <td>7.010701e+08</td>\n",
       "    </tr>\n",
       "  </tbody>\n",
       "</table>\n",
       "</div>"
      ],
      "text/plain": [
       "            POSIÇÃO  TEMPO MÉDIO DE ESPERA(DIAS)  NASCIMENTO  \\\n",
       "count  1.306967e+06                 1.288724e+06         0.0   \n",
       "mean   2.502004e+03                 1.942741e+02         NaN   \n",
       "std    3.291319e+03                 3.145126e+02         NaN   \n",
       "min    1.000000e+00                 0.000000e+00         NaN   \n",
       "25%    2.490000e+02                 3.100000e+01         NaN   \n",
       "50%    1.011000e+03                 9.900000e+01         NaN   \n",
       "75%    3.351000e+03                 1.590000e+02         NaN   \n",
       "max    1.874000e+04                 2.019000e+03         NaN   \n",
       "\n",
       "       CNES DA UNIDADE SOLICITANTE  CÓDIGO SIGTAP DO PROCEDIMENTO  \n",
       "count                 1.306967e+06                   1.305728e+06  \n",
       "mean                  3.539747e+06                   2.414849e+08  \n",
       "std                   1.972460e+06                   5.118480e+07  \n",
       "min                   1.925900e+04                   2.040601e+07  \n",
       "25%                   2.418916e+06                   2.020602e+08  \n",
       "50%                   2.660792e+06                   2.060101e+08  \n",
       "75%                   5.465893e+06                   3.010101e+08  \n",
       "max                   9.362223e+06                   7.010701e+08  "
      ]
     },
     "execution_count": 4,
     "metadata": {},
     "output_type": "execute_result"
    }
   ],
   "source": [
    "df.describe()"
   ]
  },
  {
   "cell_type": "markdown",
   "metadata": {},
   "source": [
    "Visualizamos dados estatísticos das colunas que temos. Estamos entrevistando esta base focando o Tempo Médio de Espera, podemos ver que, na média, o tempo é de 194 dias. "
   ]
  },
  {
   "cell_type": "code",
   "execution_count": 5,
   "metadata": {},
   "outputs": [
    {
     "name": "stdout",
     "output_type": "stream",
     "text": [
      "<class 'pandas.core.frame.DataFrame'>\n",
      "RangeIndex: 1306967 entries, 0 to 1306966\n",
      "Data columns (total 17 columns):\n",
      " #   Column                              Non-Null Count    Dtype  \n",
      "---  ------                              --------------    -----  \n",
      " 0   SERVIÇO                             1306967 non-null  object \n",
      " 1   CENTRAL DE REGULAÇÃO/RESPONSÁVEL    1306967 non-null  object \n",
      " 2   MUNICÍPIO DE RESIDÊNCIA             1306967 non-null  object \n",
      " 3   POSIÇÃO                             1306967 non-null  int64  \n",
      " 4   TEMPO MÉDIO DE ESPERA(DIAS)         1288724 non-null  float64\n",
      " 5   CLASSIFICAÇÃO                       1306967 non-null  object \n",
      " 6   TIPO DA LISTA                       1306967 non-null  object \n",
      " 7   DOCUMENTO                           1306967 non-null  object \n",
      " 8   DATA DA SOLICITAÇÃO                 1306273 non-null  object \n",
      " 9   CIDADÃO                             1306967 non-null  object \n",
      " 10  NASCIMENTO                          0 non-null        float64\n",
      " 11  DESCRIÇÃO DO PROCEDIMENTO           1306967 non-null  object \n",
      " 12  CNES DA CENTRAL SOLICITANTE         1306967 non-null  object \n",
      " 13  CNES DA CENTRAL EXECUTANTE          1306966 non-null  object \n",
      " 14  CNES DA UNIDADE SOLICITANTE         1306967 non-null  int64  \n",
      " 15  CÓDIGO SIGTAP DO PROCEDIMENTO       1305728 non-null  float64\n",
      " 16  DESCRIÇÃO DO GRUPO DO PROCEDIMENTO  724444 non-null   object \n",
      "dtypes: float64(3), int64(2), object(12)\n",
      "memory usage: 109.7+ MB\n"
     ]
    }
   ],
   "source": [
    "df.info()"
   ]
  },
  {
   "cell_type": "markdown",
   "metadata": {},
   "source": [
    "Por uma razão de conveniência iremos remover os espaços das colunas"
   ]
  },
  {
   "cell_type": "code",
   "execution_count": 6,
   "metadata": {},
   "outputs": [],
   "source": [
    "df.rename(columns={'MUNICÍPIO DE RESIDÊNCIA': 'MUNICÍPIODERESIDÊNCIA',\n",
    "                   'CENTRAL DE REGULAÇÃO/RESPONSÁVEL': 'CENTRALDEREGULAÇÃO/RESPONSÁVEL',\n",
    "                   'TEMPO MÉDIO DE ESPERA(DIAS)': 'TEMPOMÉDIODEESPERA(DIAS)',\n",
    "                   'DATA DA SOLICITAÇÃO': 'DATADASOLICITAÇÃO',\n",
    "                   'DESCRIÇÃO DO PROCEDIMENTO': 'DESCRIÇÃODOPROCEDIMENTO',\n",
    "                   'CNES DA CENTRAL EXECUTANTE': 'CNESDACENTRALEXECUTANTE',\n",
    "                   'CNES DA UNIDADE SOLICITANTE': 'CNESDAUNIDADESOLICITANTE'\n",
    "                  }, inplace=True)"
   ]
  },
  {
   "cell_type": "code",
   "execution_count": 7,
   "metadata": {
    "scrolled": true
   },
   "outputs": [
    {
     "data": {
      "text/html": [
       "<div>\n",
       "<style scoped>\n",
       "    .dataframe tbody tr th:only-of-type {\n",
       "        vertical-align: middle;\n",
       "    }\n",
       "\n",
       "    .dataframe tbody tr th {\n",
       "        vertical-align: top;\n",
       "    }\n",
       "\n",
       "    .dataframe thead th {\n",
       "        text-align: right;\n",
       "    }\n",
       "</style>\n",
       "<table border=\"1\" class=\"dataframe\">\n",
       "  <thead>\n",
       "    <tr style=\"text-align: right;\">\n",
       "      <th></th>\n",
       "      <th>SERVIÇO</th>\n",
       "      <th>CENTRALDEREGULAÇÃO/RESPONSÁVEL</th>\n",
       "      <th>MUNICÍPIODERESIDÊNCIA</th>\n",
       "      <th>POSIÇÃO</th>\n",
       "      <th>TEMPOMÉDIODEESPERA(DIAS)</th>\n",
       "      <th>CLASSIFICAÇÃO</th>\n",
       "      <th>TIPO DA LISTA</th>\n",
       "      <th>DOCUMENTO</th>\n",
       "      <th>DATADASOLICITAÇÃO</th>\n",
       "      <th>CIDADÃO</th>\n",
       "      <th>NASCIMENTO</th>\n",
       "      <th>DESCRIÇÃODOPROCEDIMENTO</th>\n",
       "      <th>CNES DA CENTRAL SOLICITANTE</th>\n",
       "      <th>CNESDACENTRALEXECUTANTE</th>\n",
       "      <th>CNESDAUNIDADESOLICITANTE</th>\n",
       "      <th>CÓDIGO SIGTAP DO PROCEDIMENTO</th>\n",
       "      <th>DESCRIÇÃO DO GRUPO DO PROCEDIMENTO</th>\n",
       "    </tr>\n",
       "  </thead>\n",
       "  <tbody>\n",
       "    <tr>\n",
       "      <th>498698</th>\n",
       "      <td>Consulta</td>\n",
       "      <td>CENTRO DE SAUDE</td>\n",
       "      <td>AGUAS MORNAS</td>\n",
       "      <td>1270</td>\n",
       "      <td>0.0</td>\n",
       "      <td>4 - Azul</td>\n",
       "      <td>Regulada</td>\n",
       "      <td>704003383010861</td>\n",
       "      <td>19/04/2017 09:52:01</td>\n",
       "      <td>M D L P S</td>\n",
       "      <td>NaN</td>\n",
       "      <td>CONSULTA EM OFTALMOLOGIA - EXTRA</td>\n",
       "      <td>6388493</td>\n",
       "      <td>6375642</td>\n",
       "      <td>2609681</td>\n",
       "      <td>301010072.0</td>\n",
       "      <td>NaN</td>\n",
       "    </tr>\n",
       "    <tr>\n",
       "      <th>994651</th>\n",
       "      <td>Consulta</td>\n",
       "      <td>CS PONTA DAS CANAS</td>\n",
       "      <td>FLORIANOPOLIS</td>\n",
       "      <td>126</td>\n",
       "      <td>280.0</td>\n",
       "      <td>3 - Verde</td>\n",
       "      <td>Regulada</td>\n",
       "      <td>702504373227639</td>\n",
       "      <td>16/10/2017 10:25:58</td>\n",
       "      <td>O O D S</td>\n",
       "      <td>NaN</td>\n",
       "      <td>CONSULTA EM UROLOGIA - GERAL</td>\n",
       "      <td>6939392</td>\n",
       "      <td>6939392</td>\n",
       "      <td>2692082</td>\n",
       "      <td>301010072.0</td>\n",
       "      <td>NaN</td>\n",
       "    </tr>\n",
       "    <tr>\n",
       "      <th>202518</th>\n",
       "      <td>Exame</td>\n",
       "      <td>CENTRO DE SAUDE JARDIM ELDORADO</td>\n",
       "      <td>PALHOCA</td>\n",
       "      <td>960</td>\n",
       "      <td>123.0</td>\n",
       "      <td>4 - Azul</td>\n",
       "      <td>Fila única</td>\n",
       "      <td>703406228269319</td>\n",
       "      <td>11/05/2017 13:27:40</td>\n",
       "      <td>F N C D S</td>\n",
       "      <td>NaN</td>\n",
       "      <td>GLICEMIA DE JEJUM</td>\n",
       "      <td>421190</td>\n",
       "      <td>6082351</td>\n",
       "      <td>5932122</td>\n",
       "      <td>202010473.0</td>\n",
       "      <td>GRUPO - PATOLOGIA CLINICA (EXAMES DE LABORATORIO)</td>\n",
       "    </tr>\n",
       "    <tr>\n",
       "      <th>501670</th>\n",
       "      <td>Exame</td>\n",
       "      <td>UNIDADE DE SAUDE PREFEITO JOSE KEHRIG</td>\n",
       "      <td>SANTO AMARO DA IMPERATRIZ</td>\n",
       "      <td>249</td>\n",
       "      <td>32.0</td>\n",
       "      <td>4 - Azul</td>\n",
       "      <td>Regulada</td>\n",
       "      <td>704207292226189</td>\n",
       "      <td>16/11/2017 08:08:30</td>\n",
       "      <td>M A V</td>\n",
       "      <td>NaN</td>\n",
       "      <td>TGO</td>\n",
       "      <td>6375642</td>\n",
       "      <td>6375642</td>\n",
       "      <td>2418185</td>\n",
       "      <td>202010643.0</td>\n",
       "      <td>GRUPO - PATOLOGIA CLINICA (EXAMES DE LABORATORIO)</td>\n",
       "    </tr>\n",
       "    <tr>\n",
       "      <th>695506</th>\n",
       "      <td>Exame</td>\n",
       "      <td>CENTRO DE SAUDE FORQUILHINHAS</td>\n",
       "      <td>SAO JOSE</td>\n",
       "      <td>2861</td>\n",
       "      <td>464.0</td>\n",
       "      <td>4 - Azul</td>\n",
       "      <td>Fila única</td>\n",
       "      <td>708609568186888</td>\n",
       "      <td>15/12/2015 11:08:35</td>\n",
       "      <td>N V P S</td>\n",
       "      <td>NaN</td>\n",
       "      <td>TORAX : PA E PERFIL</td>\n",
       "      <td>5908418</td>\n",
       "      <td>5908418</td>\n",
       "      <td>2663813</td>\n",
       "      <td>204030153.0</td>\n",
       "      <td>GRUPO - RADIODIAGNOSTICO</td>\n",
       "    </tr>\n",
       "    <tr>\n",
       "      <th>226107</th>\n",
       "      <td>Exame</td>\n",
       "      <td>CENTRO DE SAUDE PINHEIRA</td>\n",
       "      <td>PALHOCA</td>\n",
       "      <td>2955</td>\n",
       "      <td>116.0</td>\n",
       "      <td>4 - Azul</td>\n",
       "      <td>Fila única</td>\n",
       "      <td>700004179050506</td>\n",
       "      <td>07/07/2017 18:22:13</td>\n",
       "      <td>M L D</td>\n",
       "      <td>NaN</td>\n",
       "      <td>URINA 1</td>\n",
       "      <td>421190</td>\n",
       "      <td>6082351</td>\n",
       "      <td>2418355</td>\n",
       "      <td>202050017.0</td>\n",
       "      <td>GRUPO - PATOLOGIA CLINICA (EXAMES DE LABORATORIO)</td>\n",
       "    </tr>\n",
       "    <tr>\n",
       "      <th>1021167</th>\n",
       "      <td>Exame</td>\n",
       "      <td>CS BARRA DA LAGOA</td>\n",
       "      <td>FLORIANOPOLIS</td>\n",
       "      <td>3234</td>\n",
       "      <td>570.0</td>\n",
       "      <td>4 - Azul</td>\n",
       "      <td>Regulada</td>\n",
       "      <td>898000694450989</td>\n",
       "      <td>09/10/2017 11:30:47</td>\n",
       "      <td>E O G</td>\n",
       "      <td>NaN</td>\n",
       "      <td>COLONOSCOPIA</td>\n",
       "      <td>6939392</td>\n",
       "      <td>6939392</td>\n",
       "      <td>2692473</td>\n",
       "      <td>209010029.0</td>\n",
       "      <td>NaN</td>\n",
       "    </tr>\n",
       "    <tr>\n",
       "      <th>1075978</th>\n",
       "      <td>Consulta</td>\n",
       "      <td>UAS LEO DE CARVALHO</td>\n",
       "      <td>BLUMENAU</td>\n",
       "      <td>718</td>\n",
       "      <td>65.0</td>\n",
       "      <td>4 - Azul</td>\n",
       "      <td>Regulada</td>\n",
       "      <td>704500399482019</td>\n",
       "      <td>16/10/2017 10:08:31</td>\n",
       "      <td>T P</td>\n",
       "      <td>NaN</td>\n",
       "      <td>CONSULTA EM PROCTOLOGIA - GERAL</td>\n",
       "      <td>2353654</td>\n",
       "      <td>2353654</td>\n",
       "      <td>2512734</td>\n",
       "      <td>301010072.0</td>\n",
       "      <td>NaN</td>\n",
       "    </tr>\n",
       "    <tr>\n",
       "      <th>161942</th>\n",
       "      <td>Consulta</td>\n",
       "      <td>UNIDADE BASICA DE SAUDE RIO BONITO</td>\n",
       "      <td>ITAJAI</td>\n",
       "      <td>2260</td>\n",
       "      <td>34.0</td>\n",
       "      <td>4 - Azul</td>\n",
       "      <td>Fila única</td>\n",
       "      <td>704502360966513</td>\n",
       "      <td>09/10/2017 17:18:03</td>\n",
       "      <td>J P</td>\n",
       "      <td>NaN</td>\n",
       "      <td>CONSULTA EM ORTOPEDIA - GERAL</td>\n",
       "      <td>420820</td>\n",
       "      <td>9208305</td>\n",
       "      <td>2513986</td>\n",
       "      <td>301010072.0</td>\n",
       "      <td>NaN</td>\n",
       "    </tr>\n",
       "    <tr>\n",
       "      <th>1018026</th>\n",
       "      <td>Exame</td>\n",
       "      <td>CS CAPOEIRAS</td>\n",
       "      <td>FLORIANOPOLIS</td>\n",
       "      <td>93</td>\n",
       "      <td>570.0</td>\n",
       "      <td>1 - Vermelho</td>\n",
       "      <td>Regulada</td>\n",
       "      <td>898001159154858</td>\n",
       "      <td>27/04/2016 15:46:23</td>\n",
       "      <td>B P P F</td>\n",
       "      <td>NaN</td>\n",
       "      <td>COLONOSCOPIA</td>\n",
       "      <td>6939392</td>\n",
       "      <td>6939392</td>\n",
       "      <td>19488</td>\n",
       "      <td>209010029.0</td>\n",
       "      <td>NaN</td>\n",
       "    </tr>\n",
       "  </tbody>\n",
       "</table>\n",
       "</div>"
      ],
      "text/plain": [
       "          SERVIÇO         CENTRALDEREGULAÇÃO/RESPONSÁVEL  \\\n",
       "498698   Consulta                        CENTRO DE SAUDE   \n",
       "994651   Consulta                     CS PONTA DAS CANAS   \n",
       "202518      Exame        CENTRO DE SAUDE JARDIM ELDORADO   \n",
       "501670      Exame  UNIDADE DE SAUDE PREFEITO JOSE KEHRIG   \n",
       "695506      Exame          CENTRO DE SAUDE FORQUILHINHAS   \n",
       "226107      Exame               CENTRO DE SAUDE PINHEIRA   \n",
       "1021167     Exame                      CS BARRA DA LAGOA   \n",
       "1075978  Consulta                    UAS LEO DE CARVALHO   \n",
       "161942   Consulta     UNIDADE BASICA DE SAUDE RIO BONITO   \n",
       "1018026     Exame                           CS CAPOEIRAS   \n",
       "\n",
       "             MUNICÍPIODERESIDÊNCIA  POSIÇÃO  TEMPOMÉDIODEESPERA(DIAS)  \\\n",
       "498698                AGUAS MORNAS     1270                       0.0   \n",
       "994651               FLORIANOPOLIS      126                     280.0   \n",
       "202518                     PALHOCA      960                     123.0   \n",
       "501670   SANTO AMARO DA IMPERATRIZ      249                      32.0   \n",
       "695506                    SAO JOSE     2861                     464.0   \n",
       "226107                     PALHOCA     2955                     116.0   \n",
       "1021167              FLORIANOPOLIS     3234                     570.0   \n",
       "1075978                   BLUMENAU      718                      65.0   \n",
       "161942                      ITAJAI     2260                      34.0   \n",
       "1018026              FLORIANOPOLIS       93                     570.0   \n",
       "\n",
       "        CLASSIFICAÇÃO TIPO DA LISTA        DOCUMENTO    DATADASOLICITAÇÃO  \\\n",
       "498698       4 - Azul      Regulada  704003383010861  19/04/2017 09:52:01   \n",
       "994651      3 - Verde      Regulada  702504373227639  16/10/2017 10:25:58   \n",
       "202518       4 - Azul    Fila única  703406228269319  11/05/2017 13:27:40   \n",
       "501670       4 - Azul      Regulada  704207292226189  16/11/2017 08:08:30   \n",
       "695506       4 - Azul    Fila única  708609568186888  15/12/2015 11:08:35   \n",
       "226107       4 - Azul    Fila única  700004179050506  07/07/2017 18:22:13   \n",
       "1021167      4 - Azul      Regulada  898000694450989  09/10/2017 11:30:47   \n",
       "1075978      4 - Azul      Regulada  704500399482019  16/10/2017 10:08:31   \n",
       "161942       4 - Azul    Fila única  704502360966513  09/10/2017 17:18:03   \n",
       "1018026  1 - Vermelho      Regulada  898001159154858  27/04/2016 15:46:23   \n",
       "\n",
       "           CIDADÃO  NASCIMENTO           DESCRIÇÃODOPROCEDIMENTO  \\\n",
       "498698   M D L P S         NaN  CONSULTA EM OFTALMOLOGIA - EXTRA   \n",
       "994651     O O D S         NaN      CONSULTA EM UROLOGIA - GERAL   \n",
       "202518   F N C D S         NaN                 GLICEMIA DE JEJUM   \n",
       "501670       M A V         NaN                               TGO   \n",
       "695506     N V P S         NaN               TORAX : PA E PERFIL   \n",
       "226107       M L D         NaN                           URINA 1   \n",
       "1021167      E O G         NaN                      COLONOSCOPIA   \n",
       "1075978        T P         NaN   CONSULTA EM PROCTOLOGIA - GERAL   \n",
       "161942         J P         NaN     CONSULTA EM ORTOPEDIA - GERAL   \n",
       "1018026    B P P F         NaN                      COLONOSCOPIA   \n",
       "\n",
       "        CNES DA CENTRAL SOLICITANTE CNESDACENTRALEXECUTANTE  \\\n",
       "498698                      6388493                 6375642   \n",
       "994651                      6939392                 6939392   \n",
       "202518                       421190                 6082351   \n",
       "501670                      6375642                 6375642   \n",
       "695506                      5908418                 5908418   \n",
       "226107                       421190                 6082351   \n",
       "1021167                     6939392                 6939392   \n",
       "1075978                     2353654                 2353654   \n",
       "161942                       420820                 9208305   \n",
       "1018026                     6939392                 6939392   \n",
       "\n",
       "         CNESDAUNIDADESOLICITANTE  CÓDIGO SIGTAP DO PROCEDIMENTO  \\\n",
       "498698                    2609681                    301010072.0   \n",
       "994651                    2692082                    301010072.0   \n",
       "202518                    5932122                    202010473.0   \n",
       "501670                    2418185                    202010643.0   \n",
       "695506                    2663813                    204030153.0   \n",
       "226107                    2418355                    202050017.0   \n",
       "1021167                   2692473                    209010029.0   \n",
       "1075978                   2512734                    301010072.0   \n",
       "161942                    2513986                    301010072.0   \n",
       "1018026                     19488                    209010029.0   \n",
       "\n",
       "                        DESCRIÇÃO DO GRUPO DO PROCEDIMENTO  \n",
       "498698                                                 NaN  \n",
       "994651                                                 NaN  \n",
       "202518   GRUPO - PATOLOGIA CLINICA (EXAMES DE LABORATORIO)  \n",
       "501670   GRUPO - PATOLOGIA CLINICA (EXAMES DE LABORATORIO)  \n",
       "695506                            GRUPO - RADIODIAGNOSTICO  \n",
       "226107   GRUPO - PATOLOGIA CLINICA (EXAMES DE LABORATORIO)  \n",
       "1021167                                                NaN  \n",
       "1075978                                                NaN  \n",
       "161942                                                 NaN  \n",
       "1018026                                                NaN  "
      ]
     },
     "execution_count": 7,
     "metadata": {},
     "output_type": "execute_result"
    }
   ],
   "source": [
    "df.sample(10)"
   ]
  },
  {
   "cell_type": "markdown",
   "metadata": {},
   "source": [
    "Amostra de 10 itens do nosso dataset. \n",
    "\n",
    "**Exercício**\n",
    "\n",
    "Clique na célula e tecle shift enter"
   ]
  },
  {
   "cell_type": "code",
   "execution_count": 8,
   "metadata": {},
   "outputs": [
    {
     "data": {
      "text/plain": [
       "<AxesSubplot:ylabel='SERVIÇO'>"
      ]
     },
     "execution_count": 8,
     "metadata": {},
     "output_type": "execute_result"
    },
    {
     "data": {
      "image/png": "[encoded data removed]",
      "text/plain": [
       "<Figure size 432x288 with 1 Axes>"
      ]
     },
     "metadata": {
      "needs_background": "light"
     },
     "output_type": "display_data"
    }
   ],
   "source": [
    "df.groupby('SERVIÇO').size().sort_values().plot(kind='barh')"
   ]
  },
  {
   "cell_type": "markdown",
   "metadata": {},
   "source": [
    "Fizemos um agrupamento da base, em relação à coluna SERVIÇO, pegamos o tamanho do agrupamento, colocamos em ordem, e plotamos um gráfico do tipo barra horizontal"
   ]
  },
  {
   "cell_type": "code",
   "execution_count": 9,
   "metadata": {},
   "outputs": [
    {
     "data": {
      "text/plain": [
       "<AxesSubplot:ylabel='MUNICÍPIODERESIDÊNCIA'>"
      ]
     },
     "execution_count": 9,
     "metadata": {},
     "output_type": "execute_result"
    },
    {
     "data": {
      "image/png": "[encoded data removed]",
      "text/plain": [
       "<Figure size 720x720 with 1 Axes>"
      ]
     },
     "metadata": {
      "needs_background": "light"
     },
     "output_type": "display_data"
    }
   ],
   "source": [
    "df.groupby('MUNICÍPIODERESIDÊNCIA').size().sort_values().tail(10).plot(kind='barh', figsize=(10,10))"
   ]
  },
  {
   "cell_type": "markdown",
   "metadata": {},
   "source": [
    "Fizemos algo semelhante em relação aos municípios, como são muitos, pegamos os últimos 20, que são os maiores\n",
    "\n",
    "**Exercício**\n",
    "\n",
    "O que você percebe de errado neste gráfico?"
   ]
  },
  {
   "cell_type": "code",
   "execution_count": 10,
   "metadata": {},
   "outputs": [
    {
     "data": {
      "text/plain": [
       "<AxesSubplot:>"
      ]
     },
     "execution_count": 10,
     "metadata": {},
     "output_type": "execute_result"
    },
    {
     "data": {
      "image/png": "[encoded data removed]",
      "text/plain": [
       "<Figure size 432x288 with 1 Axes>"
      ]
     },
     "metadata": {
      "needs_background": "light"
     },
     "output_type": "display_data"
    }
   ],
   "source": [
    "df.query('SERVIÇO == \"Exame\"')['MUNICÍPIODERESIDÊNCIA'].value_counts().head().plot(kind='barh')"
   ]
  },
  {
   "cell_type": "markdown",
   "metadata": {},
   "source": [
    "Vamos entrevistar um subconjunto de dados relativos à Exames, quando fizemos groupby, estamos ainda com a base inteira, agrupada segundo um critério. Query cria um recorte, no caso de Exames. Aqui estamos usando value_counts, para o resultado da query, note que antes usamos size, que é mais geral."
   ]
  },
  {
   "cell_type": "code",
   "execution_count": 11,
   "metadata": {},
   "outputs": [
    {
     "data": {
      "text/plain": [
       "PALHOCA          347913\n",
       "SAO JOSE         102497\n",
       "BLUMENAU          57577\n",
       "BIGUACU           55737\n",
       "FLORIANOPOLIS     45871\n",
       "Name: MUNICÍPIODERESIDÊNCIA, dtype: int64"
      ]
     },
     "execution_count": 11,
     "metadata": {},
     "output_type": "execute_result"
    }
   ],
   "source": [
    "df.query('SERVIÇO == \"Exame\"')['MUNICÍPIODERESIDÊNCIA'].value_counts().head()"
   ]
  },
  {
   "cell_type": "markdown",
   "metadata": {},
   "source": [
    "Muitas vezes precisamos ver os dados, não apenas em gráficos\n",
    "\n",
    "Como são as Estatísticas em relação às pessoas que usam o SUS? Quantos exames cada uma realizou naquele mês de novembro, na média, qual o máximo de exames, etc"
   ]
  },
  {
   "cell_type": "code",
   "execution_count": 12,
   "metadata": {},
   "outputs": [
    {
     "data": {
      "text/plain": [
       "count    31797.000000\n",
       "mean        10.941693\n",
       "std         12.505739\n",
       "min          1.000000\n",
       "25%          2.000000\n",
       "50%          4.000000\n",
       "75%         18.000000\n",
       "max         90.000000\n",
       "Name: DOCUMENTO, dtype: float64"
      ]
     },
     "execution_count": 12,
     "metadata": {},
     "output_type": "execute_result"
    }
   ],
   "source": [
    "df.query('SERVIÇO == \"Exame\" and MUNICÍPIODERESIDÊNCIA == \"PALHOCA\"').DOCUMENTO.value_counts().describe()"
   ]
  },
  {
   "cell_type": "markdown",
   "metadata": {},
   "source": [
    "**Exercício**\n",
    "\n",
    "O que você acha de muito diferente em relação aos dados acima"
   ]
  },
  {
   "cell_type": "code",
   "execution_count": 13,
   "metadata": {},
   "outputs": [
    {
     "data": {
      "text/plain": [
       "704207709501384    90\n",
       "700603418445267    80\n",
       "700000291920300    80\n",
       "700505394201153    78\n",
       "702005327186289    77\n",
       "707507227682290    75\n",
       "700000481327406    73\n",
       "705009265166954    72\n",
       "702505393010938    72\n",
       "704300595817291    71\n",
       "700401459979541    71\n",
       "706209092555063    70\n",
       "700000538700909    70\n",
       "708507058823680    70\n",
       "708402202548668    70\n",
       "702006343392182    68\n",
       "705403451142599    68\n",
       "701207073562413    68\n",
       "200976607490004    68\n",
       "702008818070283    66\n",
       "706407182354586    66\n",
       "705003225150857    66\n",
       "705101347228440    66\n",
       "701806282573675    66\n",
       "706401140710281    65\n",
       "702402575390327    65\n",
       "705405426035492    64\n",
       "703302250141610    64\n",
       "704509193879620    64\n",
       "700500912402652    64\n",
       "Name: DOCUMENTO, dtype: int64"
      ]
     },
     "execution_count": 13,
     "metadata": {},
     "output_type": "execute_result"
    }
   ],
   "source": [
    "df.query('SERVIÇO == \"Exame\" and MUNICÍPIODERESIDÊNCIA == \"PALHOCA\"').DOCUMENTO.value_counts().head(30)"
   ]
  },
  {
   "cell_type": "markdown",
   "metadata": {},
   "source": [
    "Quais são os exames concretos, associados a esses identificadores"
   ]
  },
  {
   "cell_type": "code",
   "execution_count": 14,
   "metadata": {},
   "outputs": [
    {
     "data": {
      "text/html": [
       "<div>\n",
       "<style scoped>\n",
       "    .dataframe tbody tr th:only-of-type {\n",
       "        vertical-align: middle;\n",
       "    }\n",
       "\n",
       "    .dataframe tbody tr th {\n",
       "        vertical-align: top;\n",
       "    }\n",
       "\n",
       "    .dataframe thead th {\n",
       "        text-align: right;\n",
       "    }\n",
       "</style>\n",
       "<table border=\"1\" class=\"dataframe\">\n",
       "  <thead>\n",
       "    <tr style=\"text-align: right;\">\n",
       "      <th></th>\n",
       "      <th>DESCRIÇÃODOPROCEDIMENTO</th>\n",
       "      <th>DATADASOLICITAÇÃO</th>\n",
       "      <th>CENTRALDEREGULAÇÃO/RESPONSÁVEL</th>\n",
       "      <th>POSIÇÃO</th>\n",
       "      <th>CNESDACENTRALEXECUTANTE</th>\n",
       "      <th>CNESDAUNIDADESOLICITANTE</th>\n",
       "    </tr>\n",
       "  </thead>\n",
       "  <tbody>\n",
       "    <tr>\n",
       "      <th>264552</th>\n",
       "      <td>25 HIDROXIVITAMINA D (25 OHD)</td>\n",
       "      <td>23/08/2017 11:07:41</td>\n",
       "      <td>CENTRO DE SAUDE VILA NOVA</td>\n",
       "      <td>6519</td>\n",
       "      <td>6082351</td>\n",
       "      <td>7124619</td>\n",
       "    </tr>\n",
       "    <tr>\n",
       "      <th>1189115</th>\n",
       "      <td>25 HIDROXIVITAMINA D (25 OHD)</td>\n",
       "      <td>23/08/2017 11:07:41</td>\n",
       "      <td>CENTRO DE SAUDE VILA NOVA</td>\n",
       "      <td>4990</td>\n",
       "      <td>6939392</td>\n",
       "      <td>7124619</td>\n",
       "    </tr>\n",
       "    <tr>\n",
       "      <th>300253</th>\n",
       "      <td>ACIDO FOLICO</td>\n",
       "      <td>29/09/2017 13:13:39</td>\n",
       "      <td>CENTRO DE SAUDE VILA NOVA</td>\n",
       "      <td>10017</td>\n",
       "      <td>6082351</td>\n",
       "      <td>7124619</td>\n",
       "    </tr>\n",
       "    <tr>\n",
       "      <th>1224544</th>\n",
       "      <td>ACIDO FOLICO</td>\n",
       "      <td>29/09/2017 13:13:39</td>\n",
       "      <td>CENTRO DE SAUDE VILA NOVA</td>\n",
       "      <td>8466</td>\n",
       "      <td>6939392</td>\n",
       "      <td>7124619</td>\n",
       "    </tr>\n",
       "    <tr>\n",
       "      <th>264515</th>\n",
       "      <td>ACIDO URICO</td>\n",
       "      <td>23/08/2017 11:06:38</td>\n",
       "      <td>CENTRO DE SAUDE VILA NOVA</td>\n",
       "      <td>6515</td>\n",
       "      <td>6082351</td>\n",
       "      <td>7124619</td>\n",
       "    </tr>\n",
       "    <tr>\n",
       "      <th>1189078</th>\n",
       "      <td>ACIDO URICO</td>\n",
       "      <td>23/08/2017 11:06:38</td>\n",
       "      <td>CENTRO DE SAUDE VILA NOVA</td>\n",
       "      <td>4986</td>\n",
       "      <td>6939392</td>\n",
       "      <td>7124619</td>\n",
       "    </tr>\n",
       "    <tr>\n",
       "      <th>1189079</th>\n",
       "      <td>ANTIBIOGRAMA</td>\n",
       "      <td>23/08/2017 11:06:38</td>\n",
       "      <td>CENTRO DE SAUDE VILA NOVA</td>\n",
       "      <td>4986</td>\n",
       "      <td>6939392</td>\n",
       "      <td>7124619</td>\n",
       "    </tr>\n",
       "    <tr>\n",
       "      <th>264516</th>\n",
       "      <td>ANTIBIOGRAMA</td>\n",
       "      <td>23/08/2017 11:06:38</td>\n",
       "      <td>CENTRO DE SAUDE VILA NOVA</td>\n",
       "      <td>6515</td>\n",
       "      <td>6082351</td>\n",
       "      <td>7124619</td>\n",
       "    </tr>\n",
       "    <tr>\n",
       "      <th>300254</th>\n",
       "      <td>ANTIPEROXIDASE /ANTI TPO</td>\n",
       "      <td>29/09/2017 13:13:39</td>\n",
       "      <td>CENTRO DE SAUDE VILA NOVA</td>\n",
       "      <td>10017</td>\n",
       "      <td>6082351</td>\n",
       "      <td>7124619</td>\n",
       "    </tr>\n",
       "    <tr>\n",
       "      <th>1224545</th>\n",
       "      <td>ANTIPEROXIDASE /ANTI TPO</td>\n",
       "      <td>29/09/2017 13:13:39</td>\n",
       "      <td>CENTRO DE SAUDE VILA NOVA</td>\n",
       "      <td>8466</td>\n",
       "      <td>6939392</td>\n",
       "      <td>7124619</td>\n",
       "    </tr>\n",
       "  </tbody>\n",
       "</table>\n",
       "</div>"
      ],
      "text/plain": [
       "               DESCRIÇÃODOPROCEDIMENTO    DATADASOLICITAÇÃO  \\\n",
       "264552   25 HIDROXIVITAMINA D (25 OHD)  23/08/2017 11:07:41   \n",
       "1189115  25 HIDROXIVITAMINA D (25 OHD)  23/08/2017 11:07:41   \n",
       "300253                    ACIDO FOLICO  29/09/2017 13:13:39   \n",
       "1224544                   ACIDO FOLICO  29/09/2017 13:13:39   \n",
       "264515                     ACIDO URICO  23/08/2017 11:06:38   \n",
       "1189078                    ACIDO URICO  23/08/2017 11:06:38   \n",
       "1189079                   ANTIBIOGRAMA  23/08/2017 11:06:38   \n",
       "264516                    ANTIBIOGRAMA  23/08/2017 11:06:38   \n",
       "300254        ANTIPEROXIDASE /ANTI TPO  29/09/2017 13:13:39   \n",
       "1224545       ANTIPEROXIDASE /ANTI TPO  29/09/2017 13:13:39   \n",
       "\n",
       "        CENTRALDEREGULAÇÃO/RESPONSÁVEL  POSIÇÃO CNESDACENTRALEXECUTANTE  \\\n",
       "264552       CENTRO DE SAUDE VILA NOVA     6519                 6082351   \n",
       "1189115      CENTRO DE SAUDE VILA NOVA     4990                 6939392   \n",
       "300253       CENTRO DE SAUDE VILA NOVA    10017                 6082351   \n",
       "1224544      CENTRO DE SAUDE VILA NOVA     8466                 6939392   \n",
       "264515       CENTRO DE SAUDE VILA NOVA     6515                 6082351   \n",
       "1189078      CENTRO DE SAUDE VILA NOVA     4986                 6939392   \n",
       "1189079      CENTRO DE SAUDE VILA NOVA     4986                 6939392   \n",
       "264516       CENTRO DE SAUDE VILA NOVA     6515                 6082351   \n",
       "300254       CENTRO DE SAUDE VILA NOVA    10017                 6082351   \n",
       "1224545      CENTRO DE SAUDE VILA NOVA     8466                 6939392   \n",
       "\n",
       "         CNESDAUNIDADESOLICITANTE  \n",
       "264552                    7124619  \n",
       "1189115                   7124619  \n",
       "300253                    7124619  \n",
       "1224544                   7124619  \n",
       "264515                    7124619  \n",
       "1189078                   7124619  \n",
       "1189079                   7124619  \n",
       "264516                    7124619  \n",
       "300254                    7124619  \n",
       "1224545                   7124619  "
      ]
     },
     "execution_count": 14,
     "metadata": {},
     "output_type": "execute_result"
    }
   ],
   "source": [
    "df.query('DOCUMENTO == 704207709501384')[['DESCRIÇÃODOPROCEDIMENTO','DATADASOLICITAÇÃO', 'CENTRALDEREGULAÇÃO/RESPONSÁVEL', 'POSIÇÃO', 'CNESDACENTRALEXECUTANTE', 'CNESDAUNIDADESOLICITANTE']].sort_values(by='DESCRIÇÃODOPROCEDIMENTO').head(10)"
   ]
  },
  {
   "cell_type": "markdown",
   "metadata": {},
   "source": [
    "**Exercício**\n",
    "\n",
    "Verifique os dados acima e elabore uma hipótese para o problema de Santa Catarina"
   ]
  },
  {
   "cell_type": "code",
   "execution_count": 15,
   "metadata": {},
   "outputs": [
    {
     "data": {
      "text/html": [
       "<div>\n",
       "<style scoped>\n",
       "    .dataframe tbody tr th:only-of-type {\n",
       "        vertical-align: middle;\n",
       "    }\n",
       "\n",
       "    .dataframe tbody tr th {\n",
       "        vertical-align: top;\n",
       "    }\n",
       "\n",
       "    .dataframe thead th {\n",
       "        text-align: right;\n",
       "    }\n",
       "</style>\n",
       "<table border=\"1\" class=\"dataframe\">\n",
       "  <thead>\n",
       "    <tr style=\"text-align: right;\">\n",
       "      <th></th>\n",
       "      <th>DESCRIÇÃODOPROCEDIMENTO</th>\n",
       "      <th>DATADASOLICITAÇÃO</th>\n",
       "      <th>CENTRALDEREGULAÇÃO/RESPONSÁVEL</th>\n",
       "      <th>POSIÇÃO</th>\n",
       "      <th>CNESDACENTRALEXECUTANTE</th>\n",
       "      <th>CNESDAUNIDADESOLICITANTE</th>\n",
       "    </tr>\n",
       "  </thead>\n",
       "  <tbody>\n",
       "    <tr>\n",
       "      <th>194548</th>\n",
       "      <td>25 HIDROXIVITAMINA D (25 OHD)</td>\n",
       "      <td>18/04/2017 17:04:52</td>\n",
       "      <td>CEAP CENTRO ESPECIALIZADO EM ACONSELHAMENTO E ...</td>\n",
       "      <td>339</td>\n",
       "      <td>6082351</td>\n",
       "      <td>5969018</td>\n",
       "    </tr>\n",
       "    <tr>\n",
       "      <th>1134084</th>\n",
       "      <td>25 HIDROXIVITAMINA D (25 OHD)</td>\n",
       "      <td>18/04/2017 17:04:52</td>\n",
       "      <td>CEAP CENTRO ESPECIALIZADO EM ACONSELHAMENTO E ...</td>\n",
       "      <td>295</td>\n",
       "      <td>6939392</td>\n",
       "      <td>5969018</td>\n",
       "    </tr>\n",
       "    <tr>\n",
       "      <th>194549</th>\n",
       "      <td>ACIDO URICO</td>\n",
       "      <td>18/04/2017 17:04:52</td>\n",
       "      <td>CEAP CENTRO ESPECIALIZADO EM ACONSELHAMENTO E ...</td>\n",
       "      <td>339</td>\n",
       "      <td>6082351</td>\n",
       "      <td>5969018</td>\n",
       "    </tr>\n",
       "    <tr>\n",
       "      <th>1134085</th>\n",
       "      <td>ACIDO URICO</td>\n",
       "      <td>18/04/2017 17:04:52</td>\n",
       "      <td>CEAP CENTRO ESPECIALIZADO EM ACONSELHAMENTO E ...</td>\n",
       "      <td>295</td>\n",
       "      <td>6939392</td>\n",
       "      <td>5969018</td>\n",
       "    </tr>\n",
       "    <tr>\n",
       "      <th>194550</th>\n",
       "      <td>AMILASE</td>\n",
       "      <td>18/04/2017 17:04:52</td>\n",
       "      <td>CEAP CENTRO ESPECIALIZADO EM ACONSELHAMENTO E ...</td>\n",
       "      <td>339</td>\n",
       "      <td>6082351</td>\n",
       "      <td>5969018</td>\n",
       "    </tr>\n",
       "    <tr>\n",
       "      <th>1134086</th>\n",
       "      <td>AMILASE</td>\n",
       "      <td>18/04/2017 17:04:52</td>\n",
       "      <td>CEAP CENTRO ESPECIALIZADO EM ACONSELHAMENTO E ...</td>\n",
       "      <td>295</td>\n",
       "      <td>6939392</td>\n",
       "      <td>5969018</td>\n",
       "    </tr>\n",
       "    <tr>\n",
       "      <th>1134105</th>\n",
       "      <td>ANTI HBC - IGG ANTICORPOS IGG CONTRA ANTIGENO ...</td>\n",
       "      <td>18/04/2017 17:27:57</td>\n",
       "      <td>CEAP CENTRO ESPECIALIZADO EM ACONSELHAMENTO E ...</td>\n",
       "      <td>296</td>\n",
       "      <td>6939392</td>\n",
       "      <td>5969018</td>\n",
       "    </tr>\n",
       "    <tr>\n",
       "      <th>194569</th>\n",
       "      <td>ANTI HBC - IGG ANTICORPOS IGG CONTRA ANTIGENO ...</td>\n",
       "      <td>18/04/2017 17:27:57</td>\n",
       "      <td>CEAP CENTRO ESPECIALIZADO EM ACONSELHAMENTO E ...</td>\n",
       "      <td>340</td>\n",
       "      <td>6082351</td>\n",
       "      <td>5969018</td>\n",
       "    </tr>\n",
       "    <tr>\n",
       "      <th>1134106</th>\n",
       "      <td>ANTI HBC - IGM ANTICORPOS IGM CONTRA ANTIGENO ...</td>\n",
       "      <td>18/04/2017 17:27:57</td>\n",
       "      <td>CEAP CENTRO ESPECIALIZADO EM ACONSELHAMENTO E ...</td>\n",
       "      <td>296</td>\n",
       "      <td>6939392</td>\n",
       "      <td>5969018</td>\n",
       "    </tr>\n",
       "    <tr>\n",
       "      <th>194570</th>\n",
       "      <td>ANTI HBC - IGM ANTICORPOS IGM CONTRA ANTIGENO ...</td>\n",
       "      <td>18/04/2017 17:27:57</td>\n",
       "      <td>CEAP CENTRO ESPECIALIZADO EM ACONSELHAMENTO E ...</td>\n",
       "      <td>340</td>\n",
       "      <td>6082351</td>\n",
       "      <td>5969018</td>\n",
       "    </tr>\n",
       "  </tbody>\n",
       "</table>\n",
       "</div>"
      ],
      "text/plain": [
       "                                   DESCRIÇÃODOPROCEDIMENTO  \\\n",
       "194548                       25 HIDROXIVITAMINA D (25 OHD)   \n",
       "1134084                      25 HIDROXIVITAMINA D (25 OHD)   \n",
       "194549                                         ACIDO URICO   \n",
       "1134085                                        ACIDO URICO   \n",
       "194550                                             AMILASE   \n",
       "1134086                                            AMILASE   \n",
       "1134105  ANTI HBC - IGG ANTICORPOS IGG CONTRA ANTIGENO ...   \n",
       "194569   ANTI HBC - IGG ANTICORPOS IGG CONTRA ANTIGENO ...   \n",
       "1134106  ANTI HBC - IGM ANTICORPOS IGM CONTRA ANTIGENO ...   \n",
       "194570   ANTI HBC - IGM ANTICORPOS IGM CONTRA ANTIGENO ...   \n",
       "\n",
       "           DATADASOLICITAÇÃO  \\\n",
       "194548   18/04/2017 17:04:52   \n",
       "1134084  18/04/2017 17:04:52   \n",
       "194549   18/04/2017 17:04:52   \n",
       "1134085  18/04/2017 17:04:52   \n",
       "194550   18/04/2017 17:04:52   \n",
       "1134086  18/04/2017 17:04:52   \n",
       "1134105  18/04/2017 17:27:57   \n",
       "194569   18/04/2017 17:27:57   \n",
       "1134106  18/04/2017 17:27:57   \n",
       "194570   18/04/2017 17:27:57   \n",
       "\n",
       "                            CENTRALDEREGULAÇÃO/RESPONSÁVEL  POSIÇÃO  \\\n",
       "194548   CEAP CENTRO ESPECIALIZADO EM ACONSELHAMENTO E ...      339   \n",
       "1134084  CEAP CENTRO ESPECIALIZADO EM ACONSELHAMENTO E ...      295   \n",
       "194549   CEAP CENTRO ESPECIALIZADO EM ACONSELHAMENTO E ...      339   \n",
       "1134085  CEAP CENTRO ESPECIALIZADO EM ACONSELHAMENTO E ...      295   \n",
       "194550   CEAP CENTRO ESPECIALIZADO EM ACONSELHAMENTO E ...      339   \n",
       "1134086  CEAP CENTRO ESPECIALIZADO EM ACONSELHAMENTO E ...      295   \n",
       "1134105  CEAP CENTRO ESPECIALIZADO EM ACONSELHAMENTO E ...      296   \n",
       "194569   CEAP CENTRO ESPECIALIZADO EM ACONSELHAMENTO E ...      340   \n",
       "1134106  CEAP CENTRO ESPECIALIZADO EM ACONSELHAMENTO E ...      296   \n",
       "194570   CEAP CENTRO ESPECIALIZADO EM ACONSELHAMENTO E ...      340   \n",
       "\n",
       "        CNESDACENTRALEXECUTANTE  CNESDAUNIDADESOLICITANTE  \n",
       "194548                  6082351                   5969018  \n",
       "1134084                 6939392                   5969018  \n",
       "194549                  6082351                   5969018  \n",
       "1134085                 6939392                   5969018  \n",
       "194550                  6082351                   5969018  \n",
       "1134086                 6939392                   5969018  \n",
       "1134105                 6939392                   5969018  \n",
       "194569                  6082351                   5969018  \n",
       "1134106                 6939392                   5969018  \n",
       "194570                  6082351                   5969018  "
      ]
     },
     "execution_count": 15,
     "metadata": {},
     "output_type": "execute_result"
    }
   ],
   "source": [
    "df.query('DOCUMENTO == 700603418445267')[['DESCRIÇÃODOPROCEDIMENTO','DATADASOLICITAÇÃO', 'CENTRALDEREGULAÇÃO/RESPONSÁVEL', 'POSIÇÃO', 'CNESDACENTRALEXECUTANTE', 'CNESDAUNIDADESOLICITANTE']].sort_values(by='DESCRIÇÃODOPROCEDIMENTO').head(10)"
   ]
  },
  {
   "cell_type": "markdown",
   "metadata": {},
   "source": [
    "Observamos que nossa hipótese é comprovada nas maiores contagens, precisamos validar a hipótese analisado o dataset inteiro"
   ]
  },
  {
   "cell_type": "code",
   "execution_count": 16,
   "metadata": {},
   "outputs": [],
   "source": [
    "def deduplicate_stats(query=None):\n",
    "    if query:\n",
    "        df_tmp = df.query(query)\n",
    "    else:\n",
    "        df_tmp = df\n",
    "    total_rows = len(df_tmp)\n",
    "    unique_rows = len(df_tmp.groupby(['DOCUMENTO', 'DESCRIÇÃODOPROCEDIMENTO']))\n",
    "    unique_rows_same_date = len(df_tmp.groupby(['DOCUMENTO', 'DESCRIÇÃODOPROCEDIMENTO', 'DATADASOLICITAÇÃO']))\n",
    "    reducao_fila = (total_rows - unique_rows) / total_rows\n",
    "    print('           registros na fila:', total_rows)\n",
    "    print('    registros únicos na fila:', unique_rows)\n",
    "    print('          duplicados (total):', total_rows - unique_rows)\n",
    "    print('duplicados (mesmo timestamp):', total_rows - unique_rows_same_date)\n",
    "    print('    redução com deduplicação:', int(100*reducao_fila), '%')\n"
   ]
  },
  {
   "cell_type": "markdown",
   "metadata": {},
   "source": [
    "Ao executar a célula carregamos nossa função. Ela recebe um argumento, caso não tenha sido passado nada, None, você irá usar toda a base, caso contrário, criar um dataframe temporário para a contagem. Queremos saber o número de duplicados gerais e os particulares, com mesma data e hora. Assim veremos se é um erro manual, ou algo sistêmico."
   ]
  },
  {
   "cell_type": "code",
   "execution_count": 17,
   "metadata": {},
   "outputs": [
    {
     "name": "stdout",
     "output_type": "stream",
     "text": [
      "           registros na fila: 384253\n",
      "    registros únicos na fila: 223579\n",
      "          duplicados (total): 160674\n",
      "duplicados (mesmo timestamp): 160305\n",
      "    redução com deduplicação: 41 %\n"
     ]
    }
   ],
   "source": [
    "deduplicate_stats('MUNICÍPIODERESIDÊNCIA == \"PALHOCA\"')"
   ]
  },
  {
   "cell_type": "code",
   "execution_count": null,
   "metadata": {},
   "outputs": [],
   "source": [
    "deduplicate_stats()"
   ]
  },
  {
   "cell_type": "markdown",
   "metadata": {},
   "source": [
    "**Exercício**\n",
    "\n",
    "Verifique os municípios de FLORIANOPOLIS e JOINVILLE"
   ]
  },
  {
   "cell_type": "code",
   "execution_count": 18,
   "metadata": {},
   "outputs": [
    {
     "name": "stdout",
     "output_type": "stream",
     "text": [
      "           registros na fila: 15208\n",
      "    registros únicos na fila: 15186\n",
      "          duplicados (total): 22\n",
      "duplicados (mesmo timestamp): 0\n",
      "    redução com deduplicação: 0 %\n"
     ]
    }
   ],
   "source": [
    "deduplicate_stats('MUNICÍPIODERESIDÊNCIA == \"JOINVILLE\"')"
   ]
  },
  {
   "cell_type": "code",
   "execution_count": null,
   "metadata": {},
   "outputs": [],
   "source": [
    "deduplicate_stats('MUNICÍPIODERESIDÊNCIA == \"FLORIANOPOLIS\"')"
   ]
  },
  {
   "cell_type": "code",
   "execution_count": null,
   "metadata": {},
   "outputs": [],
   "source": []
  }
 ],
 "metadata": {
  "kernelspec": {
   "display_name": "Python 3",
   "language": "python",
   "name": "python3"
  },
  "language_info": {
   "codemirror_mode": {
    "name": "ipython",
    "version": 3
   },
   "file_extension": ".py",
   "mimetype": "text/x-python",
   "name": "python",
   "nbconvert_exporter": "python",
   "pygments_lexer": "ipython3",
   "version": "3.8.2"
  }
 },
 "nbformat": 4,
 "nbformat_minor": 2
}
